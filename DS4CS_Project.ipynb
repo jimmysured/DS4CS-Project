{
  "nbformat": 4,
  "nbformat_minor": 0,
  "metadata": {
    "colab": {
      "provenance": [],
      "toc_visible": true
    },
    "kernelspec": {
      "name": "python3",
      "display_name": "Python 3"
    },
    "language_info": {
      "name": "python"
    }
  },
  "cells": [
    {
      "cell_type": "markdown",
      "source": [
        "# **Unveiling MITRE ATT&CK Techniques using Machine Learning Models for Command Classification**"
      ],
      "metadata": {
        "id": "jbQxBIxbrZ8f"
      }
    },
    {
      "cell_type": "markdown",
      "source": [
        "## Data Pre-Processing"
      ],
      "metadata": {
        "id": "vcUzVIhRObUn"
      }
    },
    {
      "cell_type": "markdown",
      "source": [
        "### Get malicious command yaml file from internet"
      ],
      "metadata": {
        "id": "Aj4uqbxqrjUR"
      }
    },
    {
      "cell_type": "code",
      "source": [
        "import requests\n",
        "import re\n",
        "\n",
        "def get_files_name(repo_url, folder_path):\n",
        "    api_url = f\"{repo_url}/{folder_path}\"\n",
        "    response = requests.get(api_url)\n",
        "    if folder_path == \"\":\n",
        "      pattern = r'title=\"(.*?)\" data-turbo-frame='\n",
        "    else:\n",
        "      pattern = r'(?<=title=\")([^\"]*\\.yml)'\n",
        "\n",
        "    matches = re.findall(pattern, response.text)\n",
        "    return matches"
      ],
      "metadata": {
        "id": "7Ev9vhZMahIQ"
      },
      "execution_count": 1,
      "outputs": []
    },
    {
      "cell_type": "code",
      "source": [
        "repo_url = \"https://github.com/trellix-enterprise/ac3-threat-sightings\"\n",
        "folder_path = \"/tree/main/sightings\"\n",
        "ac3_files_name = get_files_name(repo_url, folder_path)\n",
        "\n",
        "repo_url = \"https://github.com/center-for-threat-informed-defense/adversary_emulation_library/\"\n",
        "folder_path = \"\"\n",
        "AEL_apt_name = get_files_name(repo_url, folder_path)"
      ],
      "metadata": {
        "id": "vmwao07Racxc"
      },
      "execution_count": 2,
      "outputs": []
    },
    {
      "cell_type": "code",
      "execution_count": 3,
      "metadata": {
        "colab": {
          "base_uri": "https://localhost:8080/"
        },
        "id": "XM9IIaXMovO3",
        "outputId": "466a2180-4869-4d80-978a-77945a235e07"
      },
      "outputs": [
        {
          "output_type": "stream",
          "name": "stdout",
          "text": [
            "--2023-06-16 18:36:55--  https://raw.githubusercontent.com/redcanaryco/atomic-red-team/master/atomics/Indexes/windows-index.yaml\n",
            "Resolving raw.githubusercontent.com (raw.githubusercontent.com)... 185.199.108.133, 185.199.109.133, 185.199.110.133, ...\n",
            "Connecting to raw.githubusercontent.com (raw.githubusercontent.com)|185.199.108.133|:443... connected.\n",
            "HTTP request sent, awaiting response... 200 OK\n",
            "Length: 5892593 (5.6M) [text/plain]\n",
            "Saving to: ‘windows-index.yaml.2’\n",
            "\n",
            "\rwindows-index.yaml.   0%[                    ]       0  --.-KB/s               \rwindows-index.yaml. 100%[===================>]   5.62M  --.-KB/s    in 0.07s   \n",
            "\n",
            "2023-06-16 18:36:55 (80.1 MB/s) - ‘windows-index.yaml.2’ saved [5892593/5892593]\n",
            "\n",
            "--2023-06-16 18:36:55--  https://raw.githubusercontent.com/trellix-enterprise/ac3-threat-sightings/main/sightings/Sightings_BlackCat_Ransomware.yml\n",
            "Resolving raw.githubusercontent.com (raw.githubusercontent.com)... 185.199.108.133, 185.199.109.133, 185.199.110.133, ...\n",
            "Connecting to raw.githubusercontent.com (raw.githubusercontent.com)|185.199.108.133|:443... connected.\n",
            "HTTP request sent, awaiting response... 200 OK\n",
            "Length: 14982 (15K) [text/plain]\n",
            "Saving to: ‘ac3_command/Sightings_BlackCat_Ransomware.yml.2’\n",
            "\n",
            "Sightings_BlackCat_ 100%[===================>]  14.63K  --.-KB/s    in 0s      \n",
            "\n",
            "2023-06-16 18:36:55 (111 MB/s) - ‘ac3_command/Sightings_BlackCat_Ransomware.yml.2’ saved [14982/14982]\n",
            "\n",
            "--2023-06-16 18:36:55--  https://raw.githubusercontent.com/trellix-enterprise/ac3-threat-sightings/main/sightings/Sightings_CVE_2021_40444.yml\n",
            "Resolving raw.githubusercontent.com (raw.githubusercontent.com)... 185.199.108.133, 185.199.109.133, 185.199.110.133, ...\n",
            "Connecting to raw.githubusercontent.com (raw.githubusercontent.com)|185.199.108.133|:443... connected.\n",
            "HTTP request sent, awaiting response... 200 OK\n",
            "Length: 5523 (5.4K) [text/plain]\n",
            "Saving to: ‘ac3_command/Sightings_CVE_2021_40444.yml.2’\n",
            "\n",
            "Sightings_CVE_2021_ 100%[===================>]   5.39K  --.-KB/s    in 0s      \n",
            "\n",
            "2023-06-16 18:36:56 (53.8 MB/s) - ‘ac3_command/Sightings_CVE_2021_40444.yml.2’ saved [5523/5523]\n",
            "\n",
            "--2023-06-16 18:36:56--  https://raw.githubusercontent.com/trellix-enterprise/ac3-threat-sightings/main/sightings/Sightings_CobaltStrike.yml\n",
            "Resolving raw.githubusercontent.com (raw.githubusercontent.com)... 185.199.108.133, 185.199.109.133, 185.199.110.133, ...\n",
            "Connecting to raw.githubusercontent.com (raw.githubusercontent.com)|185.199.108.133|:443... connected.\n",
            "HTTP request sent, awaiting response... 200 OK\n",
            "Length: 14021 (14K) [text/plain]\n",
            "Saving to: ‘ac3_command/Sightings_CobaltStrike.yml.2’\n",
            "\n",
            "Sightings_CobaltStr 100%[===================>]  13.69K  --.-KB/s    in 0s      \n",
            "\n",
            "2023-06-16 18:36:56 (67.8 MB/s) - ‘ac3_command/Sightings_CobaltStrike.yml.2’ saved [14021/14021]\n",
            "\n",
            "--2023-06-16 18:36:56--  https://raw.githubusercontent.com/trellix-enterprise/ac3-threat-sightings/main/sightings/Sightings_Conti_Ransomware.yml\n",
            "Resolving raw.githubusercontent.com (raw.githubusercontent.com)... 185.199.108.133, 185.199.109.133, 185.199.110.133, ...\n",
            "Connecting to raw.githubusercontent.com (raw.githubusercontent.com)|185.199.108.133|:443... connected.\n",
            "HTTP request sent, awaiting response... 200 OK\n",
            "Length: 30305 (30K) [text/plain]\n",
            "Saving to: ‘ac3_command/Sightings_Conti_Ransomware.yml.2’\n",
            "\n",
            "Sightings_Conti_Ran 100%[===================>]  29.59K  --.-KB/s    in 0.002s  \n",
            "\n",
            "2023-06-16 18:36:56 (17.0 MB/s) - ‘ac3_command/Sightings_Conti_Ransomware.yml.2’ saved [30305/30305]\n",
            "\n",
            "--2023-06-16 18:36:56--  https://raw.githubusercontent.com/trellix-enterprise/ac3-threat-sightings/main/sightings/Sightings_Darkside_Ransomware.yml\n",
            "Resolving raw.githubusercontent.com (raw.githubusercontent.com)... 185.199.110.133, 185.199.108.133, 185.199.111.133, ...\n",
            "Connecting to raw.githubusercontent.com (raw.githubusercontent.com)|185.199.110.133|:443... connected.\n",
            "HTTP request sent, awaiting response... 200 OK\n",
            "Length: 21150 (21K) [text/plain]\n",
            "Saving to: ‘ac3_command/Sightings_Darkside_Ransomware.yml.2’\n",
            "\n",
            "Sightings_Darkside_ 100%[===================>]  20.65K  --.-KB/s    in 0s      \n",
            "\n",
            "2023-06-16 18:36:57 (40.9 MB/s) - ‘ac3_command/Sightings_Darkside_Ransomware.yml.2’ saved [21150/21150]\n",
            "\n",
            "--2023-06-16 18:36:57--  https://raw.githubusercontent.com/trellix-enterprise/ac3-threat-sightings/main/sightings/Sightings_Diavol_Ransomware.yml\n",
            "Resolving raw.githubusercontent.com (raw.githubusercontent.com)... 185.199.108.133, 185.199.109.133, 185.199.110.133, ...\n",
            "Connecting to raw.githubusercontent.com (raw.githubusercontent.com)|185.199.108.133|:443... connected.\n",
            "HTTP request sent, awaiting response... 200 OK\n",
            "Length: 29032 (28K) [text/plain]\n",
            "Saving to: ‘ac3_command/Sightings_Diavol_Ransomware.yml.2’\n",
            "\n",
            "Sightings_Diavol_Ra 100%[===================>]  28.35K  --.-KB/s    in 0.001s  \n",
            "\n",
            "2023-06-16 18:36:57 (22.9 MB/s) - ‘ac3_command/Sightings_Diavol_Ransomware.yml.2’ saved [29032/29032]\n",
            "\n",
            "--2023-06-16 18:36:57--  https://raw.githubusercontent.com/trellix-enterprise/ac3-threat-sightings/main/sightings/Sightings_Emotet_Dec2021.yml\n",
            "Resolving raw.githubusercontent.com (raw.githubusercontent.com)... 185.199.108.133, 185.199.109.133, 185.199.110.133, ...\n",
            "Connecting to raw.githubusercontent.com (raw.githubusercontent.com)|185.199.108.133|:443... connected.\n",
            "HTTP request sent, awaiting response... 200 OK\n",
            "Length: 34158 (33K) [text/plain]\n",
            "Saving to: ‘ac3_command/Sightings_Emotet_Dec2021.yml.2’\n",
            "\n",
            "Sightings_Emotet_De 100%[===================>]  33.36K  --.-KB/s    in 0.001s  \n",
            "\n",
            "2023-06-16 18:36:57 (26.5 MB/s) - ‘ac3_command/Sightings_Emotet_Dec2021.yml.2’ saved [34158/34158]\n",
            "\n",
            "--2023-06-16 18:36:57--  https://raw.githubusercontent.com/trellix-enterprise/ac3-threat-sightings/main/sightings/Sightings_Guildma_RAT.yml\n",
            "Resolving raw.githubusercontent.com (raw.githubusercontent.com)... 185.199.109.133, 185.199.110.133, 185.199.111.133, ...\n",
            "Connecting to raw.githubusercontent.com (raw.githubusercontent.com)|185.199.109.133|:443... connected.\n",
            "HTTP request sent, awaiting response... 200 OK\n",
            "Length: 27277 (27K) [text/plain]\n",
            "Saving to: ‘ac3_command/Sightings_Guildma_RAT.yml.2’\n",
            "\n",
            "Sightings_Guildma_R 100%[===================>]  26.64K  --.-KB/s    in 0.001s  \n",
            "\n",
            "2023-06-16 18:36:57 (19.3 MB/s) - ‘ac3_command/Sightings_Guildma_RAT.yml.2’ saved [27277/27277]\n",
            "\n",
            "--2023-06-16 18:36:58--  https://raw.githubusercontent.com/trellix-enterprise/ac3-threat-sightings/main/sightings/Sightings_Hafnium.yml\n",
            "Resolving raw.githubusercontent.com (raw.githubusercontent.com)... 185.199.108.133, 185.199.109.133, 185.199.110.133, ...\n",
            "Connecting to raw.githubusercontent.com (raw.githubusercontent.com)|185.199.108.133|:443... connected.\n",
            "HTTP request sent, awaiting response... 200 OK\n",
            "Length: 24903 (24K) [text/plain]\n",
            "Saving to: ‘ac3_command/Sightings_Hafnium.yml.2’\n",
            "\n",
            "Sightings_Hafnium.y 100%[===================>]  24.32K  --.-KB/s    in 0.001s  \n",
            "\n",
            "2023-06-16 18:36:58 (44.5 MB/s) - ‘ac3_command/Sightings_Hafnium.yml.2’ saved [24903/24903]\n",
            "\n",
            "--2023-06-16 18:36:58--  https://raw.githubusercontent.com/trellix-enterprise/ac3-threat-sightings/main/sightings/Sightings_HermeticWiper.yml\n",
            "Resolving raw.githubusercontent.com (raw.githubusercontent.com)... 185.199.108.133, 185.199.109.133, 185.199.110.133, ...\n",
            "Connecting to raw.githubusercontent.com (raw.githubusercontent.com)|185.199.108.133|:443... connected.\n",
            "HTTP request sent, awaiting response... 200 OK\n",
            "Length: 17233 (17K) [text/plain]\n",
            "Saving to: ‘ac3_command/Sightings_HermeticWiper.yml.2’\n",
            "\n",
            "Sightings_HermeticW 100%[===================>]  16.83K  --.-KB/s    in 0.001s  \n",
            "\n",
            "2023-06-16 18:36:58 (28.6 MB/s) - ‘ac3_command/Sightings_HermeticWiper.yml.2’ saved [17233/17233]\n",
            "\n",
            "--2023-06-16 18:36:58--  https://raw.githubusercontent.com/trellix-enterprise/ac3-threat-sightings/main/sightings/Sightings_Jupyter_InfoStealer.yml\n",
            "Resolving raw.githubusercontent.com (raw.githubusercontent.com)... 185.199.108.133, 185.199.109.133, 185.199.110.133, ...\n",
            "Connecting to raw.githubusercontent.com (raw.githubusercontent.com)|185.199.108.133|:443... connected.\n",
            "HTTP request sent, awaiting response... 200 OK\n",
            "Length: 17791 (17K) [text/plain]\n",
            "Saving to: ‘ac3_command/Sightings_Jupyter_InfoStealer.yml.2’\n",
            "\n",
            "Sightings_Jupyter_I 100%[===================>]  17.37K  --.-KB/s    in 0s      \n",
            "\n",
            "2023-06-16 18:36:58 (43.7 MB/s) - ‘ac3_command/Sightings_Jupyter_InfoStealer.yml.2’ saved [17791/17791]\n",
            "\n",
            "--2023-06-16 18:36:59--  https://raw.githubusercontent.com/trellix-enterprise/ac3-threat-sightings/main/sightings/Sightings_LemonDuck_Malware.yml\n",
            "Resolving raw.githubusercontent.com (raw.githubusercontent.com)... 185.199.109.133, 185.199.110.133, 185.199.111.133, ...\n",
            "Connecting to raw.githubusercontent.com (raw.githubusercontent.com)|185.199.109.133|:443... connected.\n",
            "HTTP request sent, awaiting response... 200 OK\n",
            "Length: 13852 (14K) [text/plain]\n",
            "Saving to: ‘ac3_command/Sightings_LemonDuck_Malware.yml.2’\n",
            "\n",
            "Sightings_LemonDuck 100%[===================>]  13.53K  --.-KB/s    in 0s      \n",
            "\n",
            "2023-06-16 18:36:59 (60.3 MB/s) - ‘ac3_command/Sightings_LemonDuck_Malware.yml.2’ saved [13852/13852]\n",
            "\n",
            "--2023-06-16 18:36:59--  https://raw.githubusercontent.com/trellix-enterprise/ac3-threat-sightings/main/sightings/Sightings_Raccoon_InfoStealer.yml\n",
            "Resolving raw.githubusercontent.com (raw.githubusercontent.com)... 185.199.110.133, 185.199.111.133, 185.199.108.133, ...\n",
            "Connecting to raw.githubusercontent.com (raw.githubusercontent.com)|185.199.110.133|:443... connected.\n",
            "HTTP request sent, awaiting response... 200 OK\n",
            "Length: 29091 (28K) [text/plain]\n",
            "Saving to: ‘ac3_command/Sightings_Raccoon_InfoStealer.yml.2’\n",
            "\n",
            "Sightings_Raccoon_I 100%[===================>]  28.41K  --.-KB/s    in 0s      \n",
            "\n",
            "2023-06-16 18:36:59 (62.0 MB/s) - ‘ac3_command/Sightings_Raccoon_InfoStealer.yml.2’ saved [29091/29091]\n",
            "\n",
            "--2023-06-16 18:36:59--  https://raw.githubusercontent.com/trellix-enterprise/ac3-threat-sightings/main/sightings/Sightings_TA551.yml\n",
            "Resolving raw.githubusercontent.com (raw.githubusercontent.com)... 185.199.110.133, 185.199.109.133, 185.199.111.133, ...\n",
            "Connecting to raw.githubusercontent.com (raw.githubusercontent.com)|185.199.110.133|:443... connected.\n",
            "HTTP request sent, awaiting response... 200 OK\n",
            "Length: 13536 (13K) [text/plain]\n",
            "Saving to: ‘ac3_command/Sightings_TA551.yml.2’\n",
            "\n",
            "Sightings_TA551.yml 100%[===================>]  13.22K  --.-KB/s    in 0.003s  \n",
            "\n",
            "2023-06-16 18:36:59 (4.67 MB/s) - ‘ac3_command/Sightings_TA551.yml.2’ saved [13536/13536]\n",
            "\n",
            "--2023-06-16 18:36:59--  https://raw.githubusercontent.com/trellix-enterprise/ac3-threat-sightings/main/sightings/Sightings_Tortillas_Babuk.yml\n",
            "Resolving raw.githubusercontent.com (raw.githubusercontent.com)... 185.199.110.133, 185.199.109.133, 185.199.111.133, ...\n",
            "Connecting to raw.githubusercontent.com (raw.githubusercontent.com)|185.199.110.133|:443... connected.\n",
            "HTTP request sent, awaiting response... 200 OK\n",
            "Length: 14619 (14K) [text/plain]\n",
            "Saving to: ‘ac3_command/Sightings_Tortillas_Babuk.yml.2’\n",
            "\n",
            "Sightings_Tortillas 100%[===================>]  14.28K  --.-KB/s    in 0.001s  \n",
            "\n",
            "2023-06-16 18:37:00 (21.0 MB/s) - ‘ac3_command/Sightings_Tortillas_Babuk.yml.2’ saved [14619/14619]\n",
            "\n",
            "--2023-06-16 18:37:00--  https://raw.githubusercontent.com/trellix-enterprise/ac3-threat-sightings/main/sightings/Sightings_UNK-Credential_Access.yml\n",
            "Resolving raw.githubusercontent.com (raw.githubusercontent.com)... 185.199.109.133, 185.199.110.133, 185.199.111.133, ...\n",
            "Connecting to raw.githubusercontent.com (raw.githubusercontent.com)|185.199.109.133|:443... connected.\n",
            "HTTP request sent, awaiting response... 200 OK\n",
            "Length: 5521 (5.4K) [text/plain]\n",
            "Saving to: ‘ac3_command/Sightings_UNK-Credential_Access.yml.2’\n",
            "\n",
            "Sightings_UNK-Crede 100%[===================>]   5.39K  --.-KB/s    in 0s      \n",
            "\n",
            "2023-06-16 18:37:00 (47.9 MB/s) - ‘ac3_command/Sightings_UNK-Credential_Access.yml.2’ saved [5521/5521]\n",
            "\n",
            "--2023-06-16 18:37:00--  https://raw.githubusercontent.com/trellix-enterprise/ac3-threat-sightings/main/sightings/Sightings_UNK-Phishing.yml\n",
            "Resolving raw.githubusercontent.com (raw.githubusercontent.com)... 185.199.108.133, 185.199.109.133, 185.199.110.133, ...\n",
            "Connecting to raw.githubusercontent.com (raw.githubusercontent.com)|185.199.108.133|:443... connected.\n",
            "HTTP request sent, awaiting response... 200 OK\n",
            "Length: 10877 (11K) [text/plain]\n",
            "Saving to: ‘ac3_command/Sightings_UNK-Phishing.yml.2’\n",
            "\n",
            "Sightings_UNK-Phish 100%[===================>]  10.62K  --.-KB/s    in 0s      \n",
            "\n",
            "2023-06-16 18:37:00 (48.3 MB/s) - ‘ac3_command/Sightings_UNK-Phishing.yml.2’ saved [10877/10877]\n",
            "\n",
            "--2023-06-16 18:37:01--  https://raw.githubusercontent.com/trellix-enterprise/ac3-threat-sightings/main/sightings/Sightings_WhisperGate.yml\n",
            "Resolving raw.githubusercontent.com (raw.githubusercontent.com)... 185.199.108.133, 185.199.109.133, 185.199.110.133, ...\n",
            "Connecting to raw.githubusercontent.com (raw.githubusercontent.com)|185.199.108.133|:443... connected.\n",
            "HTTP request sent, awaiting response... 200 OK\n",
            "Length: 18214 (18K) [text/plain]\n",
            "Saving to: ‘ac3_command/Sightings_WhisperGate.yml.2’\n",
            "\n",
            "Sightings_WhisperGa 100%[===================>]  17.79K  --.-KB/s    in 0s      \n",
            "\n",
            "2023-06-16 18:37:01 (82.6 MB/s) - ‘ac3_command/Sightings_WhisperGate.yml.2’ saved [18214/18214]\n",
            "\n",
            "--2023-06-16 18:37:01--  https://raw.githubusercontent.com/center-for-threat-informed-defense/adversary_emulation_library/master/.github/Emulation_Plan/yaml/.GITHUB.yaml\n",
            "Resolving raw.githubusercontent.com (raw.githubusercontent.com)... 185.199.110.133, 185.199.111.133, 185.199.108.133, ...\n",
            "Connecting to raw.githubusercontent.com (raw.githubusercontent.com)|185.199.110.133|:443... connected.\n",
            "HTTP request sent, awaiting response... 404 Not Found\n",
            "2023-06-16 18:37:01 ERROR 404: Not Found.\n",
            "\n",
            "--2023-06-16 18:37:01--  https://raw.githubusercontent.com/center-for-threat-informed-defense/adversary_emulation_library/master/.github/Emulation_Plan/yaml/.github.yaml\n",
            "Resolving raw.githubusercontent.com (raw.githubusercontent.com)... 185.199.108.133, 185.199.109.133, 185.199.110.133, ...\n",
            "Connecting to raw.githubusercontent.com (raw.githubusercontent.com)|185.199.108.133|:443... connected.\n",
            "HTTP request sent, awaiting response... 404 Not Found\n",
            "2023-06-16 18:37:02 ERROR 404: Not Found.\n",
            "\n",
            "--2023-06-16 18:37:02--  https://raw.githubusercontent.com/center-for-threat-informed-defense/adversary_emulation_library/master/.github/Emulation_Plan/yaml/.github.yaml\n",
            "Resolving raw.githubusercontent.com (raw.githubusercontent.com)... 185.199.108.133, 185.199.109.133, 185.199.110.133, ...\n",
            "Connecting to raw.githubusercontent.com (raw.githubusercontent.com)|185.199.108.133|:443... connected.\n",
            "HTTP request sent, awaiting response... 404 Not Found\n",
            "2023-06-16 18:37:02 ERROR 404: Not Found.\n",
            "\n",
            "--2023-06-16 18:37:02--  https://raw.githubusercontent.com/center-for-threat-informed-defense/adversary_emulation_library/master/apt29/Emulation_Plan/yaml/APT29.yaml\n",
            "Resolving raw.githubusercontent.com (raw.githubusercontent.com)... 185.199.108.133, 185.199.109.133, 185.199.110.133, ...\n",
            "Connecting to raw.githubusercontent.com (raw.githubusercontent.com)|185.199.108.133|:443... connected.\n",
            "HTTP request sent, awaiting response... 200 OK\n",
            "Length: 101876 (99K) [text/plain]\n",
            "Saving to: ‘ael_command/APT29.yaml.2’\n",
            "\n",
            "APT29.yaml.2        100%[===================>]  99.49K  --.-KB/s    in 0.01s   \n",
            "\n",
            "2023-06-16 18:37:02 (9.20 MB/s) - ‘ael_command/APT29.yaml.2’ saved [101876/101876]\n",
            "\n",
            "--2023-06-16 18:37:02--  https://raw.githubusercontent.com/center-for-threat-informed-defense/adversary_emulation_library/master/apt29/Emulation_Plan/yaml/apt29.yaml\n",
            "Resolving raw.githubusercontent.com (raw.githubusercontent.com)... 185.199.108.133, 185.199.109.133, 185.199.110.133, ...\n",
            "Connecting to raw.githubusercontent.com (raw.githubusercontent.com)|185.199.108.133|:443... connected.\n",
            "HTTP request sent, awaiting response... 404 Not Found\n",
            "2023-06-16 18:37:02 ERROR 404: Not Found.\n",
            "\n",
            "--2023-06-16 18:37:03--  https://raw.githubusercontent.com/center-for-threat-informed-defense/adversary_emulation_library/master/apt29/Emulation_Plan/yaml/Apt29.yaml\n",
            "Resolving raw.githubusercontent.com (raw.githubusercontent.com)... 185.199.109.133, 185.199.110.133, 185.199.111.133, ...\n",
            "Connecting to raw.githubusercontent.com (raw.githubusercontent.com)|185.199.109.133|:443... connected.\n",
            "HTTP request sent, awaiting response... 404 Not Found\n",
            "2023-06-16 18:37:03 ERROR 404: Not Found.\n",
            "\n",
            "--2023-06-16 18:37:03--  https://raw.githubusercontent.com/center-for-threat-informed-defense/adversary_emulation_library/master/carbanak/Emulation_Plan/yaml/CARBANAK.yaml\n",
            "Resolving raw.githubusercontent.com (raw.githubusercontent.com)... 185.199.108.133, 185.199.109.133, 185.199.110.133, ...\n",
            "Connecting to raw.githubusercontent.com (raw.githubusercontent.com)|185.199.108.133|:443... connected.\n",
            "HTTP request sent, awaiting response... 404 Not Found\n",
            "2023-06-16 18:37:03 ERROR 404: Not Found.\n",
            "\n",
            "--2023-06-16 18:37:03--  https://raw.githubusercontent.com/center-for-threat-informed-defense/adversary_emulation_library/master/carbanak/Emulation_Plan/yaml/carbanak.yaml\n",
            "Resolving raw.githubusercontent.com (raw.githubusercontent.com)... 185.199.109.133, 185.199.110.133, 185.199.111.133, ...\n",
            "Connecting to raw.githubusercontent.com (raw.githubusercontent.com)|185.199.109.133|:443... connected.\n",
            "HTTP request sent, awaiting response... 404 Not Found\n",
            "2023-06-16 18:37:04 ERROR 404: Not Found.\n",
            "\n",
            "--2023-06-16 18:37:04--  https://raw.githubusercontent.com/center-for-threat-informed-defense/adversary_emulation_library/master/carbanak/Emulation_Plan/yaml/Carbanak.yaml\n",
            "Resolving raw.githubusercontent.com (raw.githubusercontent.com)... 185.199.110.133, 185.199.109.133, 185.199.111.133, ...\n",
            "Connecting to raw.githubusercontent.com (raw.githubusercontent.com)|185.199.110.133|:443... connected.\n",
            "HTTP request sent, awaiting response... 200 OK\n",
            "Length: 31520 (31K) [text/plain]\n",
            "Saving to: ‘ael_command/Carbanak.yaml.2’\n",
            "\n",
            "Carbanak.yaml.2     100%[===================>]  30.78K  --.-KB/s    in 0.001s  \n",
            "\n",
            "2023-06-16 18:37:04 (39.2 MB/s) - ‘ael_command/Carbanak.yaml.2’ saved [31520/31520]\n",
            "\n",
            "--2023-06-16 18:37:04--  https://raw.githubusercontent.com/center-for-threat-informed-defense/adversary_emulation_library/master/fin6/Emulation_Plan/yaml/FIN6.yaml\n",
            "Resolving raw.githubusercontent.com (raw.githubusercontent.com)... 185.199.110.133, 185.199.111.133, 185.199.108.133, ...\n",
            "Connecting to raw.githubusercontent.com (raw.githubusercontent.com)|185.199.110.133|:443... connected.\n",
            "HTTP request sent, awaiting response... 200 OK\n",
            "Length: 40373 (39K) [text/plain]\n",
            "Saving to: ‘ael_command/FIN6.yaml.2’\n",
            "\n",
            "FIN6.yaml.2         100%[===================>]  39.43K  --.-KB/s    in 0.004s  \n",
            "\n",
            "2023-06-16 18:37:04 (10.5 MB/s) - ‘ael_command/FIN6.yaml.2’ saved [40373/40373]\n",
            "\n",
            "--2023-06-16 18:37:04--  https://raw.githubusercontent.com/center-for-threat-informed-defense/adversary_emulation_library/master/fin6/Emulation_Plan/yaml/fin6.yaml\n",
            "Resolving raw.githubusercontent.com (raw.githubusercontent.com)... 185.199.109.133, 185.199.110.133, 185.199.111.133, ...\n",
            "Connecting to raw.githubusercontent.com (raw.githubusercontent.com)|185.199.109.133|:443... connected.\n",
            "HTTP request sent, awaiting response... 404 Not Found\n",
            "2023-06-16 18:37:05 ERROR 404: Not Found.\n",
            "\n",
            "--2023-06-16 18:37:05--  https://raw.githubusercontent.com/center-for-threat-informed-defense/adversary_emulation_library/master/fin6/Emulation_Plan/yaml/Fin6.yaml\n",
            "Resolving raw.githubusercontent.com (raw.githubusercontent.com)... 185.199.109.133, 185.199.110.133, 185.199.108.133, ...\n",
            "Connecting to raw.githubusercontent.com (raw.githubusercontent.com)|185.199.109.133|:443... connected.\n",
            "HTTP request sent, awaiting response... 404 Not Found\n",
            "2023-06-16 18:37:05 ERROR 404: Not Found.\n",
            "\n",
            "--2023-06-16 18:37:05--  https://raw.githubusercontent.com/center-for-threat-informed-defense/adversary_emulation_library/master/fin7/Emulation_Plan/yaml/FIN7.yaml\n",
            "Resolving raw.githubusercontent.com (raw.githubusercontent.com)... 185.199.109.133, 185.199.110.133, 185.199.111.133, ...\n",
            "Connecting to raw.githubusercontent.com (raw.githubusercontent.com)|185.199.109.133|:443... connected.\n",
            "HTTP request sent, awaiting response... 404 Not Found\n",
            "2023-06-16 18:37:05 ERROR 404: Not Found.\n",
            "\n",
            "--2023-06-16 18:37:06--  https://raw.githubusercontent.com/center-for-threat-informed-defense/adversary_emulation_library/master/fin7/Emulation_Plan/yaml/fin7.yaml\n",
            "Resolving raw.githubusercontent.com (raw.githubusercontent.com)... 185.199.109.133, 185.199.110.133, 185.199.111.133, ...\n",
            "Connecting to raw.githubusercontent.com (raw.githubusercontent.com)|185.199.109.133|:443... connected.\n",
            "HTTP request sent, awaiting response... 404 Not Found\n",
            "2023-06-16 18:37:06 ERROR 404: Not Found.\n",
            "\n",
            "--2023-06-16 18:37:06--  https://raw.githubusercontent.com/center-for-threat-informed-defense/adversary_emulation_library/master/fin7/Emulation_Plan/yaml/Fin7.yaml\n",
            "Resolving raw.githubusercontent.com (raw.githubusercontent.com)... 185.199.110.133, 185.199.108.133, 185.199.111.133, ...\n",
            "Connecting to raw.githubusercontent.com (raw.githubusercontent.com)|185.199.110.133|:443... connected.\n",
            "HTTP request sent, awaiting response... 200 OK\n",
            "Length: 12283 (12K) [text/plain]\n",
            "Saving to: ‘ael_command/Fin7.yaml.2’\n",
            "\n",
            "Fin7.yaml.2         100%[===================>]  12.00K  --.-KB/s    in 0s      \n",
            "\n",
            "2023-06-16 18:37:06 (69.2 MB/s) - ‘ael_command/Fin7.yaml.2’ saved [12283/12283]\n",
            "\n",
            "--2023-06-16 18:37:06--  https://raw.githubusercontent.com/center-for-threat-informed-defense/adversary_emulation_library/master/menuPass/Emulation_Plan/yaml/MENUPASS.yaml\n",
            "Resolving raw.githubusercontent.com (raw.githubusercontent.com)... 185.199.109.133, 185.199.110.133, 185.199.111.133, ...\n",
            "Connecting to raw.githubusercontent.com (raw.githubusercontent.com)|185.199.109.133|:443... connected.\n",
            "HTTP request sent, awaiting response... 404 Not Found\n",
            "2023-06-16 18:37:06 ERROR 404: Not Found.\n",
            "\n",
            "--2023-06-16 18:37:07--  https://raw.githubusercontent.com/center-for-threat-informed-defense/adversary_emulation_library/master/menuPass/Emulation_Plan/yaml/menupass.yaml\n",
            "Resolving raw.githubusercontent.com (raw.githubusercontent.com)... 185.199.109.133, 185.199.110.133, 185.199.111.133, ...\n",
            "Connecting to raw.githubusercontent.com (raw.githubusercontent.com)|185.199.109.133|:443... connected.\n",
            "HTTP request sent, awaiting response... 200 OK\n",
            "Length: 21126 (21K) [text/plain]\n",
            "Saving to: ‘ael_command/menupass.yaml.2’\n",
            "\n",
            "menupass.yaml.2     100%[===================>]  20.63K  --.-KB/s    in 0.003s  \n",
            "\n",
            "2023-06-16 18:37:07 (7.02 MB/s) - ‘ael_command/menupass.yaml.2’ saved [21126/21126]\n",
            "\n",
            "--2023-06-16 18:37:07--  https://raw.githubusercontent.com/center-for-threat-informed-defense/adversary_emulation_library/master/menuPass/Emulation_Plan/yaml/Menupass.yaml\n",
            "Resolving raw.githubusercontent.com (raw.githubusercontent.com)... 185.199.108.133, 185.199.109.133, 185.199.110.133, ...\n",
            "Connecting to raw.githubusercontent.com (raw.githubusercontent.com)|185.199.108.133|:443... connected.\n",
            "HTTP request sent, awaiting response... 404 Not Found\n",
            "2023-06-16 18:37:07 ERROR 404: Not Found.\n",
            "\n",
            "--2023-06-16 18:37:07--  https://raw.githubusercontent.com/center-for-threat-informed-defense/adversary_emulation_library/master/micro_emulation_plans/Emulation_Plan/yaml/MICRO_EMULATION_PLANS.yaml\n",
            "Resolving raw.githubusercontent.com (raw.githubusercontent.com)... 185.199.109.133, 185.199.110.133, 185.199.111.133, ...\n",
            "Connecting to raw.githubusercontent.com (raw.githubusercontent.com)|185.199.109.133|:443... connected.\n",
            "HTTP request sent, awaiting response... 404 Not Found\n",
            "2023-06-16 18:37:07 ERROR 404: Not Found.\n",
            "\n",
            "--2023-06-16 18:37:07--  https://raw.githubusercontent.com/center-for-threat-informed-defense/adversary_emulation_library/master/micro_emulation_plans/Emulation_Plan/yaml/micro_emulation_plans.yaml\n",
            "Resolving raw.githubusercontent.com (raw.githubusercontent.com)... 185.199.108.133, 185.199.109.133, 185.199.110.133, ...\n",
            "Connecting to raw.githubusercontent.com (raw.githubusercontent.com)|185.199.108.133|:443... connected.\n",
            "HTTP request sent, awaiting response... 404 Not Found\n",
            "2023-06-16 18:37:08 ERROR 404: Not Found.\n",
            "\n",
            "--2023-06-16 18:37:08--  https://raw.githubusercontent.com/center-for-threat-informed-defense/adversary_emulation_library/master/micro_emulation_plans/Emulation_Plan/yaml/Micro_emulation_plans.yaml\n",
            "Resolving raw.githubusercontent.com (raw.githubusercontent.com)... 185.199.110.133, 185.199.108.133, 185.199.111.133, ...\n",
            "Connecting to raw.githubusercontent.com (raw.githubusercontent.com)|185.199.110.133|:443... connected.\n",
            "HTTP request sent, awaiting response... 404 Not Found\n",
            "2023-06-16 18:37:08 ERROR 404: Not Found.\n",
            "\n",
            "--2023-06-16 18:37:08--  https://raw.githubusercontent.com/center-for-threat-informed-defense/adversary_emulation_library/master/oilrig/Emulation_Plan/yaml/OILRIG.yaml\n",
            "Resolving raw.githubusercontent.com (raw.githubusercontent.com)... 185.199.109.133, 185.199.110.133, 185.199.111.133, ...\n",
            "Connecting to raw.githubusercontent.com (raw.githubusercontent.com)|185.199.109.133|:443... connected.\n",
            "HTTP request sent, awaiting response... 404 Not Found\n",
            "2023-06-16 18:37:08 ERROR 404: Not Found.\n",
            "\n",
            "--2023-06-16 18:37:08--  https://raw.githubusercontent.com/center-for-threat-informed-defense/adversary_emulation_library/master/oilrig/Emulation_Plan/yaml/oilrig.yaml\n",
            "Resolving raw.githubusercontent.com (raw.githubusercontent.com)... 185.199.108.133, 185.199.109.133, 185.199.110.133, ...\n",
            "Connecting to raw.githubusercontent.com (raw.githubusercontent.com)|185.199.108.133|:443... connected.\n",
            "HTTP request sent, awaiting response... 200 OK\n",
            "Length: 29045 (28K) [text/plain]\n",
            "Saving to: ‘ael_command/oilrig.yaml.2’\n",
            "\n",
            "oilrig.yaml.2       100%[===================>]  28.36K  --.-KB/s    in 0.001s  \n",
            "\n",
            "2023-06-16 18:37:09 (24.9 MB/s) - ‘ael_command/oilrig.yaml.2’ saved [29045/29045]\n",
            "\n",
            "--2023-06-16 18:37:09--  https://raw.githubusercontent.com/center-for-threat-informed-defense/adversary_emulation_library/master/oilrig/Emulation_Plan/yaml/Oilrig.yaml\n",
            "Resolving raw.githubusercontent.com (raw.githubusercontent.com)... 185.199.108.133, 185.199.109.133, 185.199.110.133, ...\n",
            "Connecting to raw.githubusercontent.com (raw.githubusercontent.com)|185.199.108.133|:443... connected.\n",
            "HTTP request sent, awaiting response... 404 Not Found\n",
            "2023-06-16 18:37:09 ERROR 404: Not Found.\n",
            "\n",
            "--2023-06-16 18:37:09--  https://raw.githubusercontent.com/center-for-threat-informed-defense/adversary_emulation_library/master/resources/Emulation_Plan/yaml/RESOURCES.yaml\n",
            "Resolving raw.githubusercontent.com (raw.githubusercontent.com)... 185.199.108.133, 185.199.109.133, 185.199.110.133, ...\n",
            "Connecting to raw.githubusercontent.com (raw.githubusercontent.com)|185.199.108.133|:443... connected.\n",
            "HTTP request sent, awaiting response... 404 Not Found\n",
            "2023-06-16 18:37:09 ERROR 404: Not Found.\n",
            "\n",
            "--2023-06-16 18:37:09--  https://raw.githubusercontent.com/center-for-threat-informed-defense/adversary_emulation_library/master/resources/Emulation_Plan/yaml/resources.yaml\n",
            "Resolving raw.githubusercontent.com (raw.githubusercontent.com)... 185.199.110.133, 185.199.111.133, 185.199.108.133, ...\n",
            "Connecting to raw.githubusercontent.com (raw.githubusercontent.com)|185.199.110.133|:443... connected.\n",
            "HTTP request sent, awaiting response... 404 Not Found\n",
            "2023-06-16 18:37:10 ERROR 404: Not Found.\n",
            "\n",
            "--2023-06-16 18:37:10--  https://raw.githubusercontent.com/center-for-threat-informed-defense/adversary_emulation_library/master/resources/Emulation_Plan/yaml/Resources.yaml\n",
            "Resolving raw.githubusercontent.com (raw.githubusercontent.com)... 185.199.108.133, 185.199.109.133, 185.199.110.133, ...\n",
            "Connecting to raw.githubusercontent.com (raw.githubusercontent.com)|185.199.108.133|:443... connected.\n",
            "HTTP request sent, awaiting response... 404 Not Found\n",
            "2023-06-16 18:37:10 ERROR 404: Not Found.\n",
            "\n",
            "--2023-06-16 18:37:10--  https://raw.githubusercontent.com/center-for-threat-informed-defense/adversary_emulation_library/master/sandworm/Emulation_Plan/yaml/SANDWORM.yaml\n",
            "Resolving raw.githubusercontent.com (raw.githubusercontent.com)... 185.199.110.133, 185.199.109.133, 185.199.111.133, ...\n",
            "Connecting to raw.githubusercontent.com (raw.githubusercontent.com)|185.199.110.133|:443... connected.\n",
            "HTTP request sent, awaiting response... 404 Not Found\n",
            "2023-06-16 18:37:10 ERROR 404: Not Found.\n",
            "\n",
            "--2023-06-16 18:37:10--  https://raw.githubusercontent.com/center-for-threat-informed-defense/adversary_emulation_library/master/sandworm/Emulation_Plan/yaml/sandworm.yaml\n",
            "Resolving raw.githubusercontent.com (raw.githubusercontent.com)... 185.199.108.133, 185.199.109.133, 185.199.110.133, ...\n",
            "Connecting to raw.githubusercontent.com (raw.githubusercontent.com)|185.199.108.133|:443... connected.\n",
            "HTTP request sent, awaiting response... 200 OK\n",
            "Length: 38777 (38K) [text/plain]\n",
            "Saving to: ‘ael_command/sandworm.yaml.2’\n",
            "\n",
            "sandworm.yaml.2     100%[===================>]  37.87K  --.-KB/s    in 0.002s  \n",
            "\n",
            "2023-06-16 18:37:11 (16.2 MB/s) - ‘ael_command/sandworm.yaml.2’ saved [38777/38777]\n",
            "\n",
            "--2023-06-16 18:37:11--  https://raw.githubusercontent.com/center-for-threat-informed-defense/adversary_emulation_library/master/sandworm/Emulation_Plan/yaml/Sandworm.yaml\n",
            "Resolving raw.githubusercontent.com (raw.githubusercontent.com)... 185.199.110.133, 185.199.111.133, 185.199.108.133, ...\n",
            "Connecting to raw.githubusercontent.com (raw.githubusercontent.com)|185.199.110.133|:443... connected.\n",
            "HTTP request sent, awaiting response... 404 Not Found\n",
            "2023-06-16 18:37:11 ERROR 404: Not Found.\n",
            "\n",
            "--2023-06-16 18:37:11--  https://raw.githubusercontent.com/center-for-threat-informed-defense/adversary_emulation_library/master/structure/Emulation_Plan/yaml/STRUCTURE.yaml\n",
            "Resolving raw.githubusercontent.com (raw.githubusercontent.com)... 185.199.108.133, 185.199.109.133, 185.199.110.133, ...\n",
            "Connecting to raw.githubusercontent.com (raw.githubusercontent.com)|185.199.108.133|:443... connected.\n",
            "HTTP request sent, awaiting response... 404 Not Found\n",
            "2023-06-16 18:37:11 ERROR 404: Not Found.\n",
            "\n",
            "--2023-06-16 18:37:12--  https://raw.githubusercontent.com/center-for-threat-informed-defense/adversary_emulation_library/master/structure/Emulation_Plan/yaml/structure.yaml\n",
            "Resolving raw.githubusercontent.com (raw.githubusercontent.com)... 185.199.108.133, 185.199.109.133, 185.199.110.133, ...\n",
            "Connecting to raw.githubusercontent.com (raw.githubusercontent.com)|185.199.108.133|:443... connected.\n",
            "HTTP request sent, awaiting response... 404 Not Found\n",
            "2023-06-16 18:37:12 ERROR 404: Not Found.\n",
            "\n",
            "--2023-06-16 18:37:12--  https://raw.githubusercontent.com/center-for-threat-informed-defense/adversary_emulation_library/master/structure/Emulation_Plan/yaml/Structure.yaml\n",
            "Resolving raw.githubusercontent.com (raw.githubusercontent.com)... 185.199.110.133, 185.199.108.133, 185.199.111.133, ...\n",
            "Connecting to raw.githubusercontent.com (raw.githubusercontent.com)|185.199.110.133|:443... connected.\n",
            "HTTP request sent, awaiting response... 404 Not Found\n",
            "2023-06-16 18:37:12 ERROR 404: Not Found.\n",
            "\n",
            "--2023-06-16 18:37:12--  https://raw.githubusercontent.com/center-for-threat-informed-defense/adversary_emulation_library/master/wizard_spider/Emulation_Plan/yaml/WIZARD_SPIDER.yaml\n",
            "Resolving raw.githubusercontent.com (raw.githubusercontent.com)... 185.199.110.133, 185.199.111.133, 185.199.108.133, ...\n",
            "Connecting to raw.githubusercontent.com (raw.githubusercontent.com)|185.199.110.133|:443... connected.\n",
            "HTTP request sent, awaiting response... 404 Not Found\n",
            "2023-06-16 18:37:12 ERROR 404: Not Found.\n",
            "\n",
            "--2023-06-16 18:37:13--  https://raw.githubusercontent.com/center-for-threat-informed-defense/adversary_emulation_library/master/wizard_spider/Emulation_Plan/yaml/wizard_spider.yaml\n",
            "Resolving raw.githubusercontent.com (raw.githubusercontent.com)... 185.199.109.133, 185.199.110.133, 185.199.108.133, ...\n",
            "Connecting to raw.githubusercontent.com (raw.githubusercontent.com)|185.199.109.133|:443... connected.\n",
            "HTTP request sent, awaiting response... 200 OK\n",
            "Length: 35945 (35K) [text/plain]\n",
            "Saving to: ‘ael_command/wizard_spider.yaml.2’\n",
            "\n",
            "wizard_spider.yaml. 100%[===================>]  35.10K  --.-KB/s    in 0.01s   \n",
            "\n",
            "2023-06-16 18:37:13 (2.63 MB/s) - ‘ael_command/wizard_spider.yaml.2’ saved [35945/35945]\n",
            "\n",
            "--2023-06-16 18:37:13--  https://raw.githubusercontent.com/center-for-threat-informed-defense/adversary_emulation_library/master/wizard_spider/Emulation_Plan/yaml/Wizard_spider.yaml\n",
            "Resolving raw.githubusercontent.com (raw.githubusercontent.com)... 185.199.110.133, 185.199.111.133, 185.199.108.133, ...\n",
            "Connecting to raw.githubusercontent.com (raw.githubusercontent.com)|185.199.110.133|:443... connected.\n",
            "HTTP request sent, awaiting response... 404 Not Found\n",
            "2023-06-16 18:37:13 ERROR 404: Not Found.\n",
            "\n",
            "--2023-06-16 18:37:13--  https://raw.githubusercontent.com/center-for-threat-informed-defense/adversary_emulation_library/master/.gitignore/Emulation_Plan/yaml/.GITIGNORE.yaml\n",
            "Resolving raw.githubusercontent.com (raw.githubusercontent.com)... 185.199.109.133, 185.199.110.133, 185.199.111.133, ...\n",
            "Connecting to raw.githubusercontent.com (raw.githubusercontent.com)|185.199.109.133|:443... connected.\n",
            "HTTP request sent, awaiting response... 404 Not Found\n",
            "2023-06-16 18:37:14 ERROR 404: Not Found.\n",
            "\n",
            "--2023-06-16 18:37:14--  https://raw.githubusercontent.com/center-for-threat-informed-defense/adversary_emulation_library/master/.gitignore/Emulation_Plan/yaml/.gitignore.yaml\n",
            "Resolving raw.githubusercontent.com (raw.githubusercontent.com)... 185.199.109.133, 185.199.110.133, 185.199.111.133, ...\n",
            "Connecting to raw.githubusercontent.com (raw.githubusercontent.com)|185.199.109.133|:443... connected.\n",
            "HTTP request sent, awaiting response... 404 Not Found\n",
            "2023-06-16 18:37:14 ERROR 404: Not Found.\n",
            "\n",
            "--2023-06-16 18:37:14--  https://raw.githubusercontent.com/center-for-threat-informed-defense/adversary_emulation_library/master/.gitignore/Emulation_Plan/yaml/.gitignore.yaml\n",
            "Resolving raw.githubusercontent.com (raw.githubusercontent.com)... 185.199.108.133, 185.199.109.133, 185.199.110.133, ...\n",
            "Connecting to raw.githubusercontent.com (raw.githubusercontent.com)|185.199.108.133|:443... connected.\n",
            "HTTP request sent, awaiting response... 404 Not Found\n",
            "2023-06-16 18:37:14 ERROR 404: Not Found.\n",
            "\n",
            "--2023-06-16 18:37:14--  https://raw.githubusercontent.com/center-for-threat-informed-defense/adversary_emulation_library/master/CONTRIBUTING.md/Emulation_Plan/yaml/CONTRIBUTING.MD.yaml\n",
            "Resolving raw.githubusercontent.com (raw.githubusercontent.com)... 185.199.110.133, 185.199.109.133, 185.199.111.133, ...\n",
            "Connecting to raw.githubusercontent.com (raw.githubusercontent.com)|185.199.110.133|:443... connected.\n",
            "HTTP request sent, awaiting response... 404 Not Found\n",
            "2023-06-16 18:37:15 ERROR 404: Not Found.\n",
            "\n",
            "--2023-06-16 18:37:15--  https://raw.githubusercontent.com/center-for-threat-informed-defense/adversary_emulation_library/master/CONTRIBUTING.md/Emulation_Plan/yaml/contributing.md.yaml\n",
            "Resolving raw.githubusercontent.com (raw.githubusercontent.com)... 185.199.110.133, 185.199.111.133, 185.199.108.133, ...\n",
            "Connecting to raw.githubusercontent.com (raw.githubusercontent.com)|185.199.110.133|:443... connected.\n",
            "HTTP request sent, awaiting response... 404 Not Found\n",
            "2023-06-16 18:37:15 ERROR 404: Not Found.\n",
            "\n",
            "--2023-06-16 18:37:15--  https://raw.githubusercontent.com/center-for-threat-informed-defense/adversary_emulation_library/master/CONTRIBUTING.md/Emulation_Plan/yaml/Contributing.md.yaml\n",
            "Resolving raw.githubusercontent.com (raw.githubusercontent.com)... 185.199.110.133, 185.199.108.133, 185.199.111.133, ...\n",
            "Connecting to raw.githubusercontent.com (raw.githubusercontent.com)|185.199.110.133|:443... connected.\n",
            "HTTP request sent, awaiting response... 404 Not Found\n",
            "2023-06-16 18:37:15 ERROR 404: Not Found.\n",
            "\n",
            "--2023-06-16 18:37:15--  https://raw.githubusercontent.com/center-for-threat-informed-defense/adversary_emulation_library/master/LICENSE/Emulation_Plan/yaml/LICENSE.yaml\n",
            "Resolving raw.githubusercontent.com (raw.githubusercontent.com)... 185.199.110.133, 185.199.111.133, 185.199.108.133, ...\n",
            "Connecting to raw.githubusercontent.com (raw.githubusercontent.com)|185.199.110.133|:443... connected.\n",
            "HTTP request sent, awaiting response... 404 Not Found\n",
            "2023-06-16 18:37:15 ERROR 404: Not Found.\n",
            "\n",
            "--2023-06-16 18:37:16--  https://raw.githubusercontent.com/center-for-threat-informed-defense/adversary_emulation_library/master/LICENSE/Emulation_Plan/yaml/license.yaml\n",
            "Resolving raw.githubusercontent.com (raw.githubusercontent.com)... 185.199.110.133, 185.199.109.133, 185.199.111.133, ...\n",
            "Connecting to raw.githubusercontent.com (raw.githubusercontent.com)|185.199.110.133|:443... connected.\n",
            "HTTP request sent, awaiting response... 404 Not Found\n",
            "2023-06-16 18:37:16 ERROR 404: Not Found.\n",
            "\n",
            "--2023-06-16 18:37:16--  https://raw.githubusercontent.com/center-for-threat-informed-defense/adversary_emulation_library/master/LICENSE/Emulation_Plan/yaml/License.yaml\n",
            "Resolving raw.githubusercontent.com (raw.githubusercontent.com)... 185.199.110.133, 185.199.111.133, 185.199.108.133, ...\n",
            "Connecting to raw.githubusercontent.com (raw.githubusercontent.com)|185.199.110.133|:443... connected.\n",
            "HTTP request sent, awaiting response... 404 Not Found\n",
            "2023-06-16 18:37:16 ERROR 404: Not Found.\n",
            "\n",
            "--2023-06-16 18:37:16--  https://raw.githubusercontent.com/center-for-threat-informed-defense/adversary_emulation_library/master/README.md/Emulation_Plan/yaml/README.MD.yaml\n",
            "Resolving raw.githubusercontent.com (raw.githubusercontent.com)... 185.199.109.133, 185.199.110.133, 185.199.111.133, ...\n",
            "Connecting to raw.githubusercontent.com (raw.githubusercontent.com)|185.199.109.133|:443... connected.\n",
            "HTTP request sent, awaiting response... 404 Not Found\n",
            "2023-06-16 18:37:16 ERROR 404: Not Found.\n",
            "\n",
            "--2023-06-16 18:37:16--  https://raw.githubusercontent.com/center-for-threat-informed-defense/adversary_emulation_library/master/README.md/Emulation_Plan/yaml/readme.md.yaml\n",
            "Resolving raw.githubusercontent.com (raw.githubusercontent.com)... 185.199.109.133, 185.199.110.133, 185.199.111.133, ...\n",
            "Connecting to raw.githubusercontent.com (raw.githubusercontent.com)|185.199.109.133|:443... connected.\n",
            "HTTP request sent, awaiting response... 404 Not Found\n",
            "2023-06-16 18:37:17 ERROR 404: Not Found.\n",
            "\n",
            "--2023-06-16 18:37:17--  https://raw.githubusercontent.com/center-for-threat-informed-defense/adversary_emulation_library/master/README.md/Emulation_Plan/yaml/Readme.md.yaml\n",
            "Resolving raw.githubusercontent.com (raw.githubusercontent.com)... 185.199.109.133, 185.199.110.133, 185.199.111.133, ...\n",
            "Connecting to raw.githubusercontent.com (raw.githubusercontent.com)|185.199.109.133|:443... connected.\n",
            "HTTP request sent, awaiting response... 404 Not Found\n",
            "2023-06-16 18:37:17 ERROR 404: Not Found.\n",
            "\n"
          ]
        }
      ],
      "source": [
        "# Atomic Red Team\n",
        "!wget https://raw.githubusercontent.com/redcanaryco/atomic-red-team/master/atomics/Indexes/windows-index.yaml\n",
        "\n",
        "# Adversary Emulation Library\n",
        "for file_name in ac3_files_name:\n",
        "  !wget -P ac3_command https://raw.githubusercontent.com/trellix-enterprise/ac3-threat-sightings/main/sightings/{file_name}\n",
        "\n",
        "# AC3 Threat Sightings\n",
        "for apt_name in AEL_apt_name:\n",
        "  !wget -P ael_command https://raw.githubusercontent.com/center-for-threat-informed-defense/adversary_emulation_library/master/{apt_name}/Emulation_Plan/yaml/{apt_name.upper()}.yaml\n",
        "  !wget -P ael_command https://raw.githubusercontent.com/center-for-threat-informed-defense/adversary_emulation_library/master/{apt_name}/Emulation_Plan/yaml/{apt_name.lower()}.yaml\n",
        "  !wget -P ael_command https://raw.githubusercontent.com/center-for-threat-informed-defense/adversary_emulation_library/master/{apt_name}/Emulation_Plan/yaml/{apt_name.capitalize()}.yaml"
      ]
    },
    {
      "cell_type": "markdown",
      "source": [
        "### Extract userful data from yaml file\n",
        "- 將 yaml 檔案中的指令、Tactics 抓出來並轉換成 dataframe 方便後續使用"
      ],
      "metadata": {
        "id": "hfCMiGlAwUx3"
      }
    },
    {
      "cell_type": "code",
      "source": [
        "import os\n",
        "import yaml\n",
        "import pandas as pd"
      ],
      "metadata": {
        "id": "V2Un9ridvL-E"
      },
      "execution_count": 4,
      "outputs": []
    },
    {
      "cell_type": "code",
      "source": [
        "df = pd.DataFrame()"
      ],
      "metadata": {
        "id": "SSYPP2-YxnGE"
      },
      "execution_count": 5,
      "outputs": []
    },
    {
      "cell_type": "code",
      "source": [
        "cmd_line_dict = []\n",
        "\n",
        "with open('windows-index.yaml', \"r\") as stream:\n",
        "  atomic_data = yaml.load(stream, Loader=yaml.Loader)\n",
        "  for tactic in atomic_data:\n",
        "    for technique in atomic_data[tactic]:\n",
        "      if 'atomic_tests' in atomic_data[tactic][technique]:\n",
        "        for cmd_num in range(len(atomic_data[tactic][technique]['atomic_tests'])):\n",
        "          if 'executor' in atomic_data[tactic][technique]['atomic_tests'][cmd_num]:\n",
        "            if 'command' in atomic_data[tactic][technique]['atomic_tests'][cmd_num]['executor']:\n",
        "              cmd_line = {tactic: atomic_data[tactic][technique]['atomic_tests'][cmd_num]['executor']['command']}\n",
        "              cmd_line_dict.append(cmd_line)\n",
        "\n",
        "for root, dirs, files in os.walk('ac3_command', topdown=False):\n",
        "  for name in files:\n",
        "    full_name = 'ac3_command/' + name\n",
        "    with open(full_name, \"r\") as stream:\n",
        "      ac3_data = yaml.load(stream, Loader=yaml.Loader)\n",
        "      for sighting in ac3_data['threatSightings']:\n",
        "        if 'behaviors' in sighting:\n",
        "          behaviors = sighting['behaviors']\n",
        "          for behavior in behaviors:\n",
        "            if 'processes' in behavior and 'att&ck' in behavior:\n",
        "              processes = behavior['processes']\n",
        "              for process in processes:\n",
        "                if 'cmdLine' in process:\n",
        "                  cmdLine = process['cmdLine']\n",
        "                  for cmd in cmdLine:\n",
        "                    for tactic in behavior['att&ck']:\n",
        "                      cmd_line = {tactic: cmd}\n",
        "                      cmd_line_dict.append(cmd_line)\n",
        "\n",
        "for root, dirs, files in os.walk('ael_command', topdown=False):\n",
        "  for name in files:\n",
        "    full_name = 'ael_command/' + name\n",
        "    with open(full_name, \"r\") as stream:\n",
        "      ael_data = yaml.load(stream, Loader=yaml.Loader)\n",
        "    for item in ael_data:\n",
        "      if 'executors' in item:\n",
        "        for executor in item['executors']:\n",
        "          if 'command' in executor:\n",
        "            cmd_line = {item['tactic']: executor['command']}\n",
        "            cmd_line_dict.append(cmd_line)\n",
        "      else:\n",
        "        platforms = item.get('platforms', {})\n",
        "        if 'windows' in platforms:\n",
        "          windows_platform = platforms['windows']\n",
        "          for shell in ['cmd', 'powershell', 'proc', 'psh']:\n",
        "            if shell in windows_platform:\n",
        "              cmd_line = {item['tactic']: windows_platform[shell]['command']}\n",
        "              cmd_line_dict.append(cmd_line)\n",
        "              break\n",
        "        if 'linux' in platforms:\n",
        "          linux_platform = platforms['linux']\n",
        "          for shell in ['sh', 'proc']:\n",
        "            if shell in linux_platform:\n",
        "              cmd_line = {item['tactic']: linux_platform[shell]['command']}\n",
        "              cmd_line_dict.append(cmd_line)\n",
        "              break"
      ],
      "metadata": {
        "id": "V1EvDGcODw6V"
      },
      "execution_count": 6,
      "outputs": []
    },
    {
      "cell_type": "code",
      "source": [
        "cmd_line_dict_temp = []\n",
        "cmd_line_dict_temp = cmd_line_dict\n",
        "cmd_line_dict = []"
      ],
      "metadata": {
        "id": "4-kgELBApBnw"
      },
      "execution_count": 7,
      "outputs": []
    },
    {
      "cell_type": "code",
      "source": [
        "for dictionary in cmd_line_dict_temp:\n",
        "  new_dict = {}\n",
        "  for k, v in dictionary.items():\n",
        "    new_key = k.lower()\n",
        "    new_key = new_key.replace(\"-\", \"\").replace(\" \", \"\").replace(\"oscredentialdumping\", \"credentialaccess\").replace(\"defensiveevasion\", \"defenseevasion\").replace(\"stagecapabilities\", \"resourcedevelopment\").replace(\"credentialdumping\", \"credentialaccess\")\n",
        "    if new_key == 'hijackexecutionflowdllsearchorderhijacking' or new_key == 'discovery/execution':\n",
        "      continue\n",
        "    new_dict[new_key] = v\n",
        "    cmd_line_dict.append(new_dict)"
      ],
      "metadata": {
        "id": "ZYf3nDIGumAz"
      },
      "execution_count": 8,
      "outputs": []
    },
    {
      "cell_type": "code",
      "source": [
        "print(len(cmd_line_dict))"
      ],
      "metadata": {
        "colab": {
          "base_uri": "https://localhost:8080/"
        },
        "id": "USZVpWNGFqVp",
        "outputId": "b8820f50-c445-490d-9029-c67d6311251d"
      },
      "execution_count": 9,
      "outputs": [
        {
          "output_type": "stream",
          "name": "stdout",
          "text": [
            "3553\n"
          ]
        }
      ]
    },
    {
      "cell_type": "markdown",
      "source": [
        "- 找出重複的 key 並對格式做統一"
      ],
      "metadata": {
        "id": "uMOi81GOC8SM"
      }
    },
    {
      "cell_type": "code",
      "source": [
        "list_key = []\n",
        "for i in cmd_line_dict:\n",
        "  list_key.append(list(i.keys()))\n",
        "\n",
        "keys_set = set()\n",
        "for d in cmd_line_dict:\n",
        "    keys_set.update(d.keys())\n",
        "keys_list = list(keys_set)\n",
        "print(keys_list)\n",
        "print(len(keys_list))"
      ],
      "metadata": {
        "id": "Dp0Yjh_pl1my",
        "colab": {
          "base_uri": "https://localhost:8080/"
        },
        "outputId": "9b28845b-4f9c-4242-e017-5afc709f3747"
      },
      "execution_count": 10,
      "outputs": [
        {
          "output_type": "stream",
          "name": "stdout",
          "text": [
            "['commandandcontrol', 'persistence', 'discovery', 'resourcedevelopment', 'initialaccess', 'credentialaccess', 'defenseevasion', 'collection', 'privilegeescalation', 'lateralmovement', 'impact', 'reconnaissance', 'exfiltration', 'execution']\n",
            "14\n"
          ]
        }
      ]
    },
    {
      "cell_type": "code",
      "source": [
        "data = []\n",
        "for d in cmd_line_dict:\n",
        "  for key, value in d.items():\n",
        "    data.append({'tactic': key, 'command': value})\n",
        "\n",
        "df = pd.DataFrame(data)\n",
        "df = df.drop_duplicates(subset=['command'])\n",
        "df"
      ],
      "metadata": {
        "colab": {
          "base_uri": "https://localhost:8080/",
          "height": 424
        },
        "id": "OzjYPtA3Eetf",
        "outputId": "c4c01c80-b387-4fbe-ef62-29e85214a768"
      },
      "execution_count": 11,
      "outputs": [
        {
          "output_type": "execute_result",
          "data": {
            "text/plain": [
              "                tactic                                            command\n",
              "0       defenseevasion  rundll32.exe javascript:\"\\..\\mshtml,RunHTMLApp...\n",
              "1       defenseevasion  rundll32 vbscript:\"\\..\\mshtml,RunHTMLApplicati...\n",
              "2       defenseevasion  rundll32 vbscript:\"\\..\\mshtml,#135 \"+String(Cr...\n",
              "3       defenseevasion  rundll32.exe advpack.dll,LaunchINFSection #{in...\n",
              "4       defenseevasion  rundll32.exe ieadvpack.dll,LaunchINFSection #{...\n",
              "...                ...                                                ...\n",
              "3217        collection  try{\\n  if (!(test-path -path \"C:\\Windows\\Temp...\n",
              "3218      exfiltration  $err = $(net use y: #{onedrive.url} /user:#{on...\n",
              "3219            impact  . .\\wipe.ps1;\\nwipe \"m.exe\";\\nwipe \"C:\\Windows...\n",
              "3220  credentialaccess  klist purge;\\n. .\\Invoke-Mimikatz.ps1;\\ninvoke...\n",
              "3221       persistence                         Restart-Computer -Force;\\n\n",
              "\n",
              "[1486 rows x 2 columns]"
            ],
            "text/html": [
              "\n",
              "  <div id=\"df-b154a79d-bc00-4c32-9fc3-f4ea8dd56d0d\">\n",
              "    <div class=\"colab-df-container\">\n",
              "      <div>\n",
              "<style scoped>\n",
              "    .dataframe tbody tr th:only-of-type {\n",
              "        vertical-align: middle;\n",
              "    }\n",
              "\n",
              "    .dataframe tbody tr th {\n",
              "        vertical-align: top;\n",
              "    }\n",
              "\n",
              "    .dataframe thead th {\n",
              "        text-align: right;\n",
              "    }\n",
              "</style>\n",
              "<table border=\"1\" class=\"dataframe\">\n",
              "  <thead>\n",
              "    <tr style=\"text-align: right;\">\n",
              "      <th></th>\n",
              "      <th>tactic</th>\n",
              "      <th>command</th>\n",
              "    </tr>\n",
              "  </thead>\n",
              "  <tbody>\n",
              "    <tr>\n",
              "      <th>0</th>\n",
              "      <td>defenseevasion</td>\n",
              "      <td>rundll32.exe javascript:\"\\..\\mshtml,RunHTMLApp...</td>\n",
              "    </tr>\n",
              "    <tr>\n",
              "      <th>1</th>\n",
              "      <td>defenseevasion</td>\n",
              "      <td>rundll32 vbscript:\"\\..\\mshtml,RunHTMLApplicati...</td>\n",
              "    </tr>\n",
              "    <tr>\n",
              "      <th>2</th>\n",
              "      <td>defenseevasion</td>\n",
              "      <td>rundll32 vbscript:\"\\..\\mshtml,#135 \"+String(Cr...</td>\n",
              "    </tr>\n",
              "    <tr>\n",
              "      <th>3</th>\n",
              "      <td>defenseevasion</td>\n",
              "      <td>rundll32.exe advpack.dll,LaunchINFSection #{in...</td>\n",
              "    </tr>\n",
              "    <tr>\n",
              "      <th>4</th>\n",
              "      <td>defenseevasion</td>\n",
              "      <td>rundll32.exe ieadvpack.dll,LaunchINFSection #{...</td>\n",
              "    </tr>\n",
              "    <tr>\n",
              "      <th>...</th>\n",
              "      <td>...</td>\n",
              "      <td>...</td>\n",
              "    </tr>\n",
              "    <tr>\n",
              "      <th>3217</th>\n",
              "      <td>collection</td>\n",
              "      <td>try{\\n  if (!(test-path -path \"C:\\Windows\\Temp...</td>\n",
              "    </tr>\n",
              "    <tr>\n",
              "      <th>3218</th>\n",
              "      <td>exfiltration</td>\n",
              "      <td>$err = $(net use y: #{onedrive.url} /user:#{on...</td>\n",
              "    </tr>\n",
              "    <tr>\n",
              "      <th>3219</th>\n",
              "      <td>impact</td>\n",
              "      <td>. .\\wipe.ps1;\\nwipe \"m.exe\";\\nwipe \"C:\\Windows...</td>\n",
              "    </tr>\n",
              "    <tr>\n",
              "      <th>3220</th>\n",
              "      <td>credentialaccess</td>\n",
              "      <td>klist purge;\\n. .\\Invoke-Mimikatz.ps1;\\ninvoke...</td>\n",
              "    </tr>\n",
              "    <tr>\n",
              "      <th>3221</th>\n",
              "      <td>persistence</td>\n",
              "      <td>Restart-Computer -Force;\\n</td>\n",
              "    </tr>\n",
              "  </tbody>\n",
              "</table>\n",
              "<p>1486 rows × 2 columns</p>\n",
              "</div>\n",
              "      <button class=\"colab-df-convert\" onclick=\"convertToInteractive('df-b154a79d-bc00-4c32-9fc3-f4ea8dd56d0d')\"\n",
              "              title=\"Convert this dataframe to an interactive table.\"\n",
              "              style=\"display:none;\">\n",
              "        \n",
              "  <svg xmlns=\"http://www.w3.org/2000/svg\" height=\"24px\"viewBox=\"0 0 24 24\"\n",
              "       width=\"24px\">\n",
              "    <path d=\"M0 0h24v24H0V0z\" fill=\"none\"/>\n",
              "    <path d=\"M18.56 5.44l.94 2.06.94-2.06 2.06-.94-2.06-.94-.94-2.06-.94 2.06-2.06.94zm-11 1L8.5 8.5l.94-2.06 2.06-.94-2.06-.94L8.5 2.5l-.94 2.06-2.06.94zm10 10l.94 2.06.94-2.06 2.06-.94-2.06-.94-.94-2.06-.94 2.06-2.06.94z\"/><path d=\"M17.41 7.96l-1.37-1.37c-.4-.4-.92-.59-1.43-.59-.52 0-1.04.2-1.43.59L10.3 9.45l-7.72 7.72c-.78.78-.78 2.05 0 2.83L4 21.41c.39.39.9.59 1.41.59.51 0 1.02-.2 1.41-.59l7.78-7.78 2.81-2.81c.8-.78.8-2.07 0-2.86zM5.41 20L4 18.59l7.72-7.72 1.47 1.35L5.41 20z\"/>\n",
              "  </svg>\n",
              "      </button>\n",
              "      \n",
              "  <style>\n",
              "    .colab-df-container {\n",
              "      display:flex;\n",
              "      flex-wrap:wrap;\n",
              "      gap: 12px;\n",
              "    }\n",
              "\n",
              "    .colab-df-convert {\n",
              "      background-color: #E8F0FE;\n",
              "      border: none;\n",
              "      border-radius: 50%;\n",
              "      cursor: pointer;\n",
              "      display: none;\n",
              "      fill: #1967D2;\n",
              "      height: 32px;\n",
              "      padding: 0 0 0 0;\n",
              "      width: 32px;\n",
              "    }\n",
              "\n",
              "    .colab-df-convert:hover {\n",
              "      background-color: #E2EBFA;\n",
              "      box-shadow: 0px 1px 2px rgba(60, 64, 67, 0.3), 0px 1px 3px 1px rgba(60, 64, 67, 0.15);\n",
              "      fill: #174EA6;\n",
              "    }\n",
              "\n",
              "    [theme=dark] .colab-df-convert {\n",
              "      background-color: #3B4455;\n",
              "      fill: #D2E3FC;\n",
              "    }\n",
              "\n",
              "    [theme=dark] .colab-df-convert:hover {\n",
              "      background-color: #434B5C;\n",
              "      box-shadow: 0px 1px 3px 1px rgba(0, 0, 0, 0.15);\n",
              "      filter: drop-shadow(0px 1px 2px rgba(0, 0, 0, 0.3));\n",
              "      fill: #FFFFFF;\n",
              "    }\n",
              "  </style>\n",
              "\n",
              "      <script>\n",
              "        const buttonEl =\n",
              "          document.querySelector('#df-b154a79d-bc00-4c32-9fc3-f4ea8dd56d0d button.colab-df-convert');\n",
              "        buttonEl.style.display =\n",
              "          google.colab.kernel.accessAllowed ? 'block' : 'none';\n",
              "\n",
              "        async function convertToInteractive(key) {\n",
              "          const element = document.querySelector('#df-b154a79d-bc00-4c32-9fc3-f4ea8dd56d0d');\n",
              "          const dataTable =\n",
              "            await google.colab.kernel.invokeFunction('convertToInteractive',\n",
              "                                                     [key], {});\n",
              "          if (!dataTable) return;\n",
              "\n",
              "          const docLinkHtml = 'Like what you see? Visit the ' +\n",
              "            '<a target=\"_blank\" href=https://colab.research.google.com/notebooks/data_table.ipynb>data table notebook</a>'\n",
              "            + ' to learn more about interactive tables.';\n",
              "          element.innerHTML = '';\n",
              "          dataTable['output_type'] = 'display_data';\n",
              "          await google.colab.output.renderOutput(dataTable, element);\n",
              "          const docLink = document.createElement('div');\n",
              "          docLink.innerHTML = docLinkHtml;\n",
              "          element.appendChild(docLink);\n",
              "        }\n",
              "      </script>\n",
              "    </div>\n",
              "  </div>\n",
              "  "
            ]
          },
          "metadata": {},
          "execution_count": 11
        }
      ]
    },
    {
      "cell_type": "markdown",
      "source": [
        "### Label Encoding"
      ],
      "metadata": {
        "id": "OZODuaiON6lO"
      }
    },
    {
      "cell_type": "code",
      "source": [
        "from sklearn.preprocessing import LabelEncoder\n",
        "\n",
        "labelencoder = LabelEncoder()\n",
        "le_df = df\n",
        "le_df['tactic'] = labelencoder.fit_transform(df['tactic'])\n",
        "le_df = le_df.drop_duplicates(keep='first')\n",
        "le_df"
      ],
      "metadata": {
        "colab": {
          "base_uri": "https://localhost:8080/",
          "height": 424
        },
        "id": "dwvlG-HYGawr",
        "outputId": "71757894-5535-4357-926a-369e0d16a6a7"
      },
      "execution_count": 12,
      "outputs": [
        {
          "output_type": "execute_result",
          "data": {
            "text/plain": [
              "      tactic                                            command\n",
              "0          3  rundll32.exe javascript:\"\\..\\mshtml,RunHTMLApp...\n",
              "1          3  rundll32 vbscript:\"\\..\\mshtml,RunHTMLApplicati...\n",
              "2          3  rundll32 vbscript:\"\\..\\mshtml,#135 \"+String(Cr...\n",
              "3          3  rundll32.exe advpack.dll,LaunchINFSection #{in...\n",
              "4          3  rundll32.exe ieadvpack.dll,LaunchINFSection #{...\n",
              "...      ...                                                ...\n",
              "3217       0  try{\\n  if (!(test-path -path \"C:\\Windows\\Temp...\n",
              "3218       6  $err = $(net use y: #{onedrive.url} /user:#{on...\n",
              "3219       7  . .\\wipe.ps1;\\nwipe \"m.exe\";\\nwipe \"C:\\Windows...\n",
              "3220       2  klist purge;\\n. .\\Invoke-Mimikatz.ps1;\\ninvoke...\n",
              "3221      10                         Restart-Computer -Force;\\n\n",
              "\n",
              "[1486 rows x 2 columns]"
            ],
            "text/html": [
              "\n",
              "  <div id=\"df-130f6967-87c3-4117-861b-1c4aa6aa6141\">\n",
              "    <div class=\"colab-df-container\">\n",
              "      <div>\n",
              "<style scoped>\n",
              "    .dataframe tbody tr th:only-of-type {\n",
              "        vertical-align: middle;\n",
              "    }\n",
              "\n",
              "    .dataframe tbody tr th {\n",
              "        vertical-align: top;\n",
              "    }\n",
              "\n",
              "    .dataframe thead th {\n",
              "        text-align: right;\n",
              "    }\n",
              "</style>\n",
              "<table border=\"1\" class=\"dataframe\">\n",
              "  <thead>\n",
              "    <tr style=\"text-align: right;\">\n",
              "      <th></th>\n",
              "      <th>tactic</th>\n",
              "      <th>command</th>\n",
              "    </tr>\n",
              "  </thead>\n",
              "  <tbody>\n",
              "    <tr>\n",
              "      <th>0</th>\n",
              "      <td>3</td>\n",
              "      <td>rundll32.exe javascript:\"\\..\\mshtml,RunHTMLApp...</td>\n",
              "    </tr>\n",
              "    <tr>\n",
              "      <th>1</th>\n",
              "      <td>3</td>\n",
              "      <td>rundll32 vbscript:\"\\..\\mshtml,RunHTMLApplicati...</td>\n",
              "    </tr>\n",
              "    <tr>\n",
              "      <th>2</th>\n",
              "      <td>3</td>\n",
              "      <td>rundll32 vbscript:\"\\..\\mshtml,#135 \"+String(Cr...</td>\n",
              "    </tr>\n",
              "    <tr>\n",
              "      <th>3</th>\n",
              "      <td>3</td>\n",
              "      <td>rundll32.exe advpack.dll,LaunchINFSection #{in...</td>\n",
              "    </tr>\n",
              "    <tr>\n",
              "      <th>4</th>\n",
              "      <td>3</td>\n",
              "      <td>rundll32.exe ieadvpack.dll,LaunchINFSection #{...</td>\n",
              "    </tr>\n",
              "    <tr>\n",
              "      <th>...</th>\n",
              "      <td>...</td>\n",
              "      <td>...</td>\n",
              "    </tr>\n",
              "    <tr>\n",
              "      <th>3217</th>\n",
              "      <td>0</td>\n",
              "      <td>try{\\n  if (!(test-path -path \"C:\\Windows\\Temp...</td>\n",
              "    </tr>\n",
              "    <tr>\n",
              "      <th>3218</th>\n",
              "      <td>6</td>\n",
              "      <td>$err = $(net use y: #{onedrive.url} /user:#{on...</td>\n",
              "    </tr>\n",
              "    <tr>\n",
              "      <th>3219</th>\n",
              "      <td>7</td>\n",
              "      <td>. .\\wipe.ps1;\\nwipe \"m.exe\";\\nwipe \"C:\\Windows...</td>\n",
              "    </tr>\n",
              "    <tr>\n",
              "      <th>3220</th>\n",
              "      <td>2</td>\n",
              "      <td>klist purge;\\n. .\\Invoke-Mimikatz.ps1;\\ninvoke...</td>\n",
              "    </tr>\n",
              "    <tr>\n",
              "      <th>3221</th>\n",
              "      <td>10</td>\n",
              "      <td>Restart-Computer -Force;\\n</td>\n",
              "    </tr>\n",
              "  </tbody>\n",
              "</table>\n",
              "<p>1486 rows × 2 columns</p>\n",
              "</div>\n",
              "      <button class=\"colab-df-convert\" onclick=\"convertToInteractive('df-130f6967-87c3-4117-861b-1c4aa6aa6141')\"\n",
              "              title=\"Convert this dataframe to an interactive table.\"\n",
              "              style=\"display:none;\">\n",
              "        \n",
              "  <svg xmlns=\"http://www.w3.org/2000/svg\" height=\"24px\"viewBox=\"0 0 24 24\"\n",
              "       width=\"24px\">\n",
              "    <path d=\"M0 0h24v24H0V0z\" fill=\"none\"/>\n",
              "    <path d=\"M18.56 5.44l.94 2.06.94-2.06 2.06-.94-2.06-.94-.94-2.06-.94 2.06-2.06.94zm-11 1L8.5 8.5l.94-2.06 2.06-.94-2.06-.94L8.5 2.5l-.94 2.06-2.06.94zm10 10l.94 2.06.94-2.06 2.06-.94-2.06-.94-.94-2.06-.94 2.06-2.06.94z\"/><path d=\"M17.41 7.96l-1.37-1.37c-.4-.4-.92-.59-1.43-.59-.52 0-1.04.2-1.43.59L10.3 9.45l-7.72 7.72c-.78.78-.78 2.05 0 2.83L4 21.41c.39.39.9.59 1.41.59.51 0 1.02-.2 1.41-.59l7.78-7.78 2.81-2.81c.8-.78.8-2.07 0-2.86zM5.41 20L4 18.59l7.72-7.72 1.47 1.35L5.41 20z\"/>\n",
              "  </svg>\n",
              "      </button>\n",
              "      \n",
              "  <style>\n",
              "    .colab-df-container {\n",
              "      display:flex;\n",
              "      flex-wrap:wrap;\n",
              "      gap: 12px;\n",
              "    }\n",
              "\n",
              "    .colab-df-convert {\n",
              "      background-color: #E8F0FE;\n",
              "      border: none;\n",
              "      border-radius: 50%;\n",
              "      cursor: pointer;\n",
              "      display: none;\n",
              "      fill: #1967D2;\n",
              "      height: 32px;\n",
              "      padding: 0 0 0 0;\n",
              "      width: 32px;\n",
              "    }\n",
              "\n",
              "    .colab-df-convert:hover {\n",
              "      background-color: #E2EBFA;\n",
              "      box-shadow: 0px 1px 2px rgba(60, 64, 67, 0.3), 0px 1px 3px 1px rgba(60, 64, 67, 0.15);\n",
              "      fill: #174EA6;\n",
              "    }\n",
              "\n",
              "    [theme=dark] .colab-df-convert {\n",
              "      background-color: #3B4455;\n",
              "      fill: #D2E3FC;\n",
              "    }\n",
              "\n",
              "    [theme=dark] .colab-df-convert:hover {\n",
              "      background-color: #434B5C;\n",
              "      box-shadow: 0px 1px 3px 1px rgba(0, 0, 0, 0.15);\n",
              "      filter: drop-shadow(0px 1px 2px rgba(0, 0, 0, 0.3));\n",
              "      fill: #FFFFFF;\n",
              "    }\n",
              "  </style>\n",
              "\n",
              "      <script>\n",
              "        const buttonEl =\n",
              "          document.querySelector('#df-130f6967-87c3-4117-861b-1c4aa6aa6141 button.colab-df-convert');\n",
              "        buttonEl.style.display =\n",
              "          google.colab.kernel.accessAllowed ? 'block' : 'none';\n",
              "\n",
              "        async function convertToInteractive(key) {\n",
              "          const element = document.querySelector('#df-130f6967-87c3-4117-861b-1c4aa6aa6141');\n",
              "          const dataTable =\n",
              "            await google.colab.kernel.invokeFunction('convertToInteractive',\n",
              "                                                     [key], {});\n",
              "          if (!dataTable) return;\n",
              "\n",
              "          const docLinkHtml = 'Like what you see? Visit the ' +\n",
              "            '<a target=\"_blank\" href=https://colab.research.google.com/notebooks/data_table.ipynb>data table notebook</a>'\n",
              "            + ' to learn more about interactive tables.';\n",
              "          element.innerHTML = '';\n",
              "          dataTable['output_type'] = 'display_data';\n",
              "          await google.colab.output.renderOutput(dataTable, element);\n",
              "          const docLink = document.createElement('div');\n",
              "          docLink.innerHTML = docLinkHtml;\n",
              "          element.appendChild(docLink);\n",
              "        }\n",
              "      </script>\n",
              "    </div>\n",
              "  </div>\n",
              "  "
            ]
          },
          "metadata": {},
          "execution_count": 12
        }
      ]
    },
    {
      "cell_type": "markdown",
      "source": [
        "### 刪除 Stopwords\n",
        "- 因為是指令, 因此刪除 stopword 用處不大, 並且有比對使用前使用後的 accuracy, 差異不大, 故註解 stopword 部分"
      ],
      "metadata": {
        "id": "5yqXog4uNuiI"
      }
    },
    {
      "cell_type": "code",
      "source": [
        "# import nltk\n",
        "# from nltk.stem.porter import PorterStemmer\n",
        "# import string\n",
        "\n",
        "# nltk.download('all')\n",
        "# ps = PorterStemmer()\n",
        "\n",
        "# def get_importantFeatures(sent):\n",
        "#   sent = sent.lower()\n",
        "\n",
        "#   returnList = []\n",
        "#   sent = nltk.word_tokenize(sent)\n",
        "#   for i in sent:\n",
        "#     if i.isalnum():\n",
        "#       returnList.append(i)\n",
        "#   return returnList\n",
        "\n",
        "# def removing_stopWords(sent):\n",
        "#   returnList = []\n",
        "#   for i in sent:\n",
        "#     if i not in nltk.corpus.stopwords.words('english') and i not in string.punctuation:\n",
        "#       returnList.append(i)\n",
        "#   return returnList\n",
        "\n",
        "# def potter_stem(sent):\n",
        "#   returnList = []\n",
        "#   for i in sent:\n",
        "#     returnList.append(ps.stem(i))\n",
        "#   return \"\".join(returnList)\n",
        "\n",
        "# le_df['imp_command'] = le_df['command'].apply(get_importantFeatures)\n",
        "# le_df['imp_command'] = le_df['command'].apply(removing_stopWords)\n",
        "# le_df['imp_command'] = le_df['command'].apply(potter_stem)\n",
        "\n",
        "# X = le_df['imp_command']"
      ],
      "metadata": {
        "id": "VziogKgp7AIP"
      },
      "execution_count": 13,
      "outputs": []
    },
    {
      "cell_type": "code",
      "source": [
        "X = le_df['command']\n",
        "y = le_df['tactic']"
      ],
      "metadata": {
        "id": "cS6DLDWDK1j1"
      },
      "execution_count": 14,
      "outputs": []
    },
    {
      "cell_type": "markdown",
      "source": [
        "### Tfidf"
      ],
      "metadata": {
        "id": "CVe1GSIzO6if"
      }
    },
    {
      "cell_type": "code",
      "source": [
        "from sklearn.model_selection import train_test_split\n",
        "from sklearn.feature_extraction.text import TfidfVectorizer\n",
        "\n",
        "X_train, X_test, y_train, y_test = train_test_split(X, y, test_size=0.25, random_state=42)\n",
        "\n",
        "tfidf = TfidfVectorizer(analyzer=\"word\")\n",
        "tfidf_X_train = tfidf.fit_transform(X_train)\n",
        "tfidf_X_test = tfidf.transform(X_test)"
      ],
      "metadata": {
        "id": "ZpW9Ur0BuyOX"
      },
      "execution_count": 166,
      "outputs": []
    },
    {
      "cell_type": "markdown",
      "source": [
        "### Word2Vec"
      ],
      "metadata": {
        "id": "mz39zG_TPEhz"
      }
    },
    {
      "cell_type": "markdown",
      "source": [
        "#### 沒有限制字串長度"
      ],
      "metadata": {
        "id": "q0sJZPrCPmGY"
      }
    },
    {
      "cell_type": "code",
      "source": [
        "from gensim.models import Word2Vec\n",
        "\n",
        "# 命令行數據\n",
        "command_lines = []\n",
        "\n",
        "for imp_command in le_df['command']:\n",
        "  command_lines.append(imp_command)\n",
        "\n",
        "# 分詞處理\n",
        "tokenized_lines = [line.split() for line in command_lines]\n",
        "\n",
        "# 訓練Word2Vec模型\n",
        "w2v_model = Word2Vec(tokenized_lines, window=20, min_count=1, workers=10)\n",
        "\n",
        "# # 獲取命令行中每個單詞的詞向量表示\n",
        "# for line in tokenized_lines:\n",
        "#   line_vectors = [model.wv[word] for word in line]\n",
        "#   print(line_vectors)"
      ],
      "metadata": {
        "id": "5PibI6rRPNr4"
      },
      "execution_count": 94,
      "outputs": []
    },
    {
      "cell_type": "code",
      "source": [
        "import numpy as np\n",
        "\n",
        "X_train, X_test, y_train, y_test = train_test_split(X, y, test_size=0.25, random_state=42)\n",
        "\n",
        "def text_to_vectors(text, max_length):\n",
        "  vectors = []\n",
        "  for word in text.split():\n",
        "    vectors.append(w2v_model.wv[word])\n",
        "  padded_vectors = np.zeros((max_length, w2v_model.vector_size))\n",
        "  if vectors:\n",
        "    padded_vectors[:len(vectors)] = vectors\n",
        "  return np.mean(padded_vectors, axis=0)"
      ],
      "metadata": {
        "id": "GN69ek_kPTZb"
      },
      "execution_count": 95,
      "outputs": []
    },
    {
      "cell_type": "code",
      "source": [
        "max_length = max(len(text.split()) for text in X_train)\n",
        "non_res_train_vectors = np.array([text_to_vectors(text, max_length) for text in X_train])\n",
        "non_res_test_vectors = np.array([text_to_vectors(text, max_length) for text in X_test])"
      ],
      "metadata": {
        "id": "Qd5GeofnPZTQ"
      },
      "execution_count": 96,
      "outputs": []
    },
    {
      "cell_type": "markdown",
      "source": [
        "#### 有限制字串長度"
      ],
      "metadata": {
        "id": "A_zjwDNSPolA"
      }
    },
    {
      "cell_type": "code",
      "source": [
        "max_length = 150\n",
        "tokenized_lines = []\n",
        "\n",
        "for line in command_lines:\n",
        "  if len(line) <= max_length:\n",
        "    tokenized_lines.append(line.split())\n",
        "\n",
        "res_model = Word2Vec(tokenized_lines, window=20, min_count=1, workers=10)"
      ],
      "metadata": {
        "id": "RbADwUl4PtgK"
      },
      "execution_count": 151,
      "outputs": []
    },
    {
      "cell_type": "code",
      "source": [
        "res_y_train = []\n",
        "res_y_test = []\n",
        "\n",
        "for index, text in enumerate(X_train):\n",
        "  if len(text) <= max_length:\n",
        "    res_y_train.append(y_train.values[index])\n",
        "\n",
        "for index, text in enumerate(X_test):\n",
        "  if len(text) <= max_length:\n",
        "    res_y_test.append(y_test.values[index])"
      ],
      "metadata": {
        "id": "xFwQIblFoCY5"
      },
      "execution_count": 152,
      "outputs": []
    },
    {
      "cell_type": "code",
      "source": [
        "def text_to_vectors(text, max_length):\n",
        "  vectors = []\n",
        "  for word in text.split():\n",
        "    if len(word) <= max_length:\n",
        "      vectors.append(res_model.wv[word])\n",
        "\n",
        "  padded_vectors = np.zeros((max_length, res_model.vector_size))\n",
        "  for i, vector in enumerate(vectors):\n",
        "    if i < max_length:\n",
        "      padded_vectors[i] = vector\n",
        "  return np.mean(padded_vectors, axis=0)"
      ],
      "metadata": {
        "id": "3gt5s54HPzMQ"
      },
      "execution_count": 153,
      "outputs": []
    },
    {
      "cell_type": "code",
      "source": [
        "vectors = []\n",
        "for text in X_train:\n",
        "  if len(text) <= max_length:\n",
        "    vector = text_to_vectors(text, max_length)\n",
        "    vectors.append(vector)\n",
        "\n",
        "res_train_vectors = np.array(vectors)\n",
        "\n",
        "vectors = []\n",
        "for text in X_test:\n",
        "  if len(text) <= max_length:\n",
        "    vector = text_to_vectors(text, max_length)\n",
        "    vectors.append(vector)\n",
        "\n",
        "res_test_vectors = np.array(vectors)"
      ],
      "metadata": {
        "id": "yEV5u4PwP13-"
      },
      "execution_count": 154,
      "outputs": []
    },
    {
      "cell_type": "markdown",
      "source": [
        "## Training Model"
      ],
      "metadata": {
        "id": "M85AtpxZQzu0"
      }
    },
    {
      "cell_type": "markdown",
      "source": [
        "### Tfidf + SVM"
      ],
      "metadata": {
        "id": "9F0tqP9ORxpF"
      }
    },
    {
      "cell_type": "code",
      "source": [
        "from sklearn import svm\n",
        "\n",
        "clf = svm.SVC(kernel='sigmoid', C=8, gamma=1, coef0=1)\n",
        "clf.fit(tfidf_X_train, y_train)\n",
        "\n",
        "tf_smv_train_accuracy = clf.score(tfidf_X_train, y_train)\n",
        "tf_svm_test_accuracy = clf.score(tfidf_X_test, y_test)\n",
        "\n",
        "print('Train Accuracy: {:.2f}%'.format(tf_smv_train_accuracy * 100))\n",
        "print('Test Accuracy: {:.2f}%'.format(tf_svm_test_accuracy * 100))"
      ],
      "metadata": {
        "colab": {
          "base_uri": "https://localhost:8080/"
        },
        "id": "d63gosfU-IJT",
        "outputId": "36a2def2-c6d7-4388-d373-129bece30f80"
      },
      "execution_count": 150,
      "outputs": [
        {
          "output_type": "stream",
          "name": "stdout",
          "text": [
            "Train Accuracy: 83.48%\n",
            "Test Accuracy: 57.80%\n"
          ]
        }
      ]
    },
    {
      "cell_type": "markdown",
      "source": [
        "### Tfidf + Random Forest"
      ],
      "metadata": {
        "id": "HAmIyhvsRi1s"
      }
    },
    {
      "cell_type": "code",
      "source": [
        "from sklearn.ensemble import RandomForestClassifier\n",
        "\n",
        "clf = RandomForestClassifier(n_estimators=100, max_depth=15, criterion='entropy')\n",
        "clf.fit(tfidf_X_train, y_train)\n",
        "\n",
        "tf_rf_train_accuracy = clf.score(tfidf_X_train, y_train)\n",
        "tf_rf_test_accuracy = clf.score(tfidf_X_test, y_test)\n",
        "\n",
        "print('Train Accuracy: {:.2f}%'.format(tf_rf_train_accuracy * 100))\n",
        "print('Test Accuracy: {:.2f}%'.format(tf_rf_test_accuracy * 100))"
      ],
      "metadata": {
        "colab": {
          "base_uri": "https://localhost:8080/"
        },
        "id": "O_AWdYg8mYqe",
        "outputId": "12ae0057-54ca-4b1e-cd3f-b735c792476d"
      },
      "execution_count": 149,
      "outputs": [
        {
          "output_type": "stream",
          "name": "stdout",
          "text": [
            "Train Accuracy: 67.24%\n",
            "Test Accuracy: 45.16%\n"
          ]
        }
      ]
    },
    {
      "cell_type": "markdown",
      "source": [
        "### Word2Vec + SVM"
      ],
      "metadata": {
        "id": "13rwBaB9FE0S"
      }
    },
    {
      "cell_type": "markdown",
      "source": [
        "#### 沒有限制字串長度"
      ],
      "metadata": {
        "id": "s2O0TJUDQIn5"
      }
    },
    {
      "cell_type": "code",
      "source": [
        "non_res_svm = svm.SVC(kernel='sigmoid', C=13, gamma=1, coef0=1)\n",
        "non_res_svm.fit(non_res_train_vectors, y_train)\n",
        "non_res_svm_accuracy = non_res_svm.score(non_res_test_vectors, y_test)\n",
        "print('Accuracy: {:.2f}%'.format(non_res_svm_accuracy * 100))"
      ],
      "metadata": {
        "colab": {
          "base_uri": "https://localhost:8080/"
        },
        "id": "_bX_cFX_SXdm",
        "outputId": "b76b66ae-3e70-4139-a586-c1bf89f525d5"
      },
      "execution_count": 70,
      "outputs": [
        {
          "output_type": "stream",
          "name": "stdout",
          "text": [
            "Accuracy: 31.45%\n"
          ]
        }
      ]
    },
    {
      "cell_type": "markdown",
      "source": [
        "#### 有限制字串長度"
      ],
      "metadata": {
        "id": "AjQ0vLKmQSzM"
      }
    },
    {
      "cell_type": "code",
      "source": [
        "res_svm = svm.SVC(kernel='sigmoid', C=13, gamma=1, coef0=1)\n",
        "res_svm.fit(res_train_vectors, res_y_train)\n",
        "res_svm_accuracy = res_svm.score(res_test_vectors, res_y_test)\n",
        "print('Accuracy: {:.2f}%'.format(res_svm_accuracy * 100))"
      ],
      "metadata": {
        "colab": {
          "base_uri": "https://localhost:8080/"
        },
        "id": "_LaD8tpqQYcU",
        "outputId": "3fdc2751-c68a-4a09-bcd3-16814cdb5968"
      },
      "execution_count": 155,
      "outputs": [
        {
          "output_type": "stream",
          "name": "stdout",
          "text": [
            "Accuracy: 39.08%\n"
          ]
        }
      ]
    },
    {
      "cell_type": "markdown",
      "source": [
        "### Word2Vec + CNN"
      ],
      "metadata": {
        "id": "XBdnMAOASiuP"
      }
    },
    {
      "cell_type": "markdown",
      "source": [
        "#### 沒有限制字串長度"
      ],
      "metadata": {
        "id": "TD7uhCFdQkGy"
      }
    },
    {
      "cell_type": "code",
      "source": [
        "from tensorflow.keras.models import Sequential\n",
        "from tensorflow.keras.layers import Embedding, Conv1D, GlobalMaxPooling1D, Dense\n",
        "from keras import losses"
      ],
      "metadata": {
        "id": "cf2Ej8Vz1sRt"
      },
      "execution_count": 26,
      "outputs": []
    },
    {
      "cell_type": "code",
      "source": [
        "def cnn_model(train_vectors, test_vectors, y_train, y_test):\n",
        "  model = Sequential()\n",
        "  model.add(Embedding(input_dim=train_vectors.shape[0], output_dim=train_vectors.shape[1], input_length=train_vectors.shape[1]))\n",
        "  model.add(Conv1D(filters=128, kernel_size=3, activation='relu'))\n",
        "  model.add(GlobalMaxPooling1D())\n",
        "\n",
        "  model.add(Dense(units=14, activation='relu'))\n",
        "\n",
        "  model.compile(loss='categorical_crossentropy', optimizer='adam', metrics=['accuracy'])\n",
        "  model.fit(train_vectors, y_train, epochs=20, batch_size=90)\n",
        "\n",
        "  return model"
      ],
      "metadata": {
        "id": "h2SNB4IF2ENX"
      },
      "execution_count": 27,
      "outputs": []
    },
    {
      "cell_type": "code",
      "source": [
        "one_hot_y_train = np.zeros((y_train.shape[0], 14))\n",
        "one_hot_y_train[np.arange(y_train.shape[0]), y_train] = 1\n",
        "\n",
        "one_hot_y_test = np.zeros((y_test.shape[0], 14))\n",
        "one_hot_y_test[np.arange(y_test.shape[0]), y_test] = 1"
      ],
      "metadata": {
        "id": "ZE1al0PGd0CT"
      },
      "execution_count": 28,
      "outputs": []
    },
    {
      "cell_type": "code",
      "source": [
        "non_res_cnn = cnn_model(non_res_train_vectors, non_res_test_vectors, one_hot_y_train, one_hot_y_test)"
      ],
      "metadata": {
        "colab": {
          "base_uri": "https://localhost:8080/"
        },
        "id": "9ms65nT22hCc",
        "outputId": "bd9d8785-a332-404c-ac5f-ad3b016d9d42"
      },
      "execution_count": 29,
      "outputs": [
        {
          "output_type": "stream",
          "name": "stdout",
          "text": [
            "Epoch 1/20\n",
            "13/13 [==============================] - 2s 57ms/step - loss: 4.8540 - accuracy: 0.1625\n",
            "Epoch 2/20\n",
            "13/13 [==============================] - 1s 57ms/step - loss: 4.5789 - accuracy: 0.1939\n",
            "Epoch 3/20\n",
            "13/13 [==============================] - 1s 56ms/step - loss: 4.4983 - accuracy: 0.1939\n",
            "Epoch 4/20\n",
            "13/13 [==============================] - 1s 56ms/step - loss: 4.4716 - accuracy: 0.2890\n",
            "Epoch 5/20\n",
            "13/13 [==============================] - 1s 88ms/step - loss: 4.4547 - accuracy: 0.3402\n",
            "Epoch 6/20\n",
            "13/13 [==============================] - 1s 105ms/step - loss: 4.4484 - accuracy: 0.3402\n",
            "Epoch 7/20\n",
            "13/13 [==============================] - 1s 73ms/step - loss: 4.4467 - accuracy: 0.3402\n",
            "Epoch 8/20\n",
            "13/13 [==============================] - 1s 56ms/step - loss: 4.4478 - accuracy: 0.3402\n",
            "Epoch 9/20\n",
            "13/13 [==============================] - 1s 56ms/step - loss: 4.4464 - accuracy: 0.3402\n",
            "Epoch 10/20\n",
            "13/13 [==============================] - 1s 58ms/step - loss: 4.4473 - accuracy: 0.3402\n",
            "Epoch 11/20\n",
            "13/13 [==============================] - 1s 55ms/step - loss: 4.4501 - accuracy: 0.3402\n",
            "Epoch 12/20\n",
            "13/13 [==============================] - 1s 54ms/step - loss: 4.4498 - accuracy: 0.3402\n",
            "Epoch 13/20\n",
            "13/13 [==============================] - 1s 55ms/step - loss: 4.4484 - accuracy: 0.3402\n",
            "Epoch 14/20\n",
            "13/13 [==============================] - 1s 55ms/step - loss: 4.4482 - accuracy: 0.3402\n",
            "Epoch 15/20\n",
            "13/13 [==============================] - 1s 53ms/step - loss: 4.4470 - accuracy: 0.3402\n",
            "Epoch 16/20\n",
            "13/13 [==============================] - 1s 57ms/step - loss: 4.4501 - accuracy: 0.3402\n",
            "Epoch 17/20\n",
            "13/13 [==============================] - 1s 53ms/step - loss: 4.4470 - accuracy: 0.3402\n",
            "Epoch 18/20\n",
            "13/13 [==============================] - 1s 52ms/step - loss: 4.4485 - accuracy: 0.3402\n",
            "Epoch 19/20\n",
            "13/13 [==============================] - 1s 53ms/step - loss: 4.4478 - accuracy: 0.3402\n",
            "Epoch 20/20\n",
            "13/13 [==============================] - 1s 56ms/step - loss: 4.4475 - accuracy: 0.3402\n"
          ]
        }
      ]
    },
    {
      "cell_type": "code",
      "source": [
        "non_res_cnn_accuracy = non_res_cnn.evaluate(non_res_test_vectors, one_hot_y_test)\n",
        "print('Accuracy: {:.2f}%'.format(non_res_cnn_accuracy[1] * 100))"
      ],
      "metadata": {
        "colab": {
          "base_uri": "https://localhost:8080/"
        },
        "id": "-qO6wBUEXdLv",
        "outputId": "fbbef534-b313-4def-edce-d697f1b25478"
      },
      "execution_count": 30,
      "outputs": [
        {
          "output_type": "stream",
          "name": "stdout",
          "text": [
            "12/12 [==============================] - 0s 8ms/step - loss: 4.3958 - accuracy: 0.3145\n",
            "Accuracy: 31.45%\n"
          ]
        }
      ]
    },
    {
      "cell_type": "markdown",
      "source": [
        "#### 有限制字串長度"
      ],
      "metadata": {
        "id": "k13H8QZHUCjt"
      }
    },
    {
      "cell_type": "code",
      "source": [
        "one_hot_y_train = np.zeros((len(res_y_train), 14))\n",
        "one_hot_y_train[np.arange(len(res_y_train)), res_y_train] = 1\n",
        "\n",
        "one_hot_y_test = np.zeros((len(res_y_test), 14))\n",
        "one_hot_y_test[np.arange(len(res_y_test)), res_y_test] = 1"
      ],
      "metadata": {
        "id": "xBUpfpwSqN5K"
      },
      "execution_count": 156,
      "outputs": []
    },
    {
      "cell_type": "code",
      "source": [
        "res_cnn = cnn_model(res_train_vectors, res_test_vectors, one_hot_y_train, one_hot_y_test)"
      ],
      "metadata": {
        "colab": {
          "base_uri": "https://localhost:8080/"
        },
        "id": "XpG9paF4YTVn",
        "outputId": "4a75a861-5d7d-434f-e31e-18d1c4409212"
      },
      "execution_count": 163,
      "outputs": [
        {
          "output_type": "stream",
          "name": "stdout",
          "text": [
            "Epoch 1/20\n",
            "3/3 [==============================] - 2s 53ms/step - loss: 11.9911 - accuracy: 0.0347\n",
            "Epoch 2/20\n",
            "3/3 [==============================] - 0s 53ms/step - loss: 10.2248 - accuracy: 0.1853\n",
            "Epoch 3/20\n",
            "3/3 [==============================] - 0s 55ms/step - loss: 10.1589 - accuracy: 0.2587\n",
            "Epoch 4/20\n",
            "3/3 [==============================] - 0s 58ms/step - loss: 10.1300 - accuracy: 0.2587\n",
            "Epoch 5/20\n",
            "3/3 [==============================] - 0s 64ms/step - loss: 10.1141 - accuracy: 0.2587\n",
            "Epoch 6/20\n",
            "3/3 [==============================] - 0s 52ms/step - loss: 10.1054 - accuracy: 0.2587\n",
            "Epoch 7/20\n",
            "3/3 [==============================] - 0s 56ms/step - loss: 10.0977 - accuracy: 0.2587\n",
            "Epoch 8/20\n",
            "3/3 [==============================] - 0s 59ms/step - loss: 10.0918 - accuracy: 0.2587\n",
            "Epoch 9/20\n",
            "3/3 [==============================] - 0s 54ms/step - loss: 10.0906 - accuracy: 0.2587\n",
            "Epoch 10/20\n",
            "3/3 [==============================] - 0s 51ms/step - loss: 10.0904 - accuracy: 0.2587\n",
            "Epoch 11/20\n",
            "3/3 [==============================] - 0s 51ms/step - loss: 10.0899 - accuracy: 0.2587\n",
            "Epoch 12/20\n",
            "3/3 [==============================] - 0s 56ms/step - loss: 10.0881 - accuracy: 0.2587\n",
            "Epoch 13/20\n",
            "3/3 [==============================] - 0s 56ms/step - loss: 10.0864 - accuracy: 0.2587\n",
            "Epoch 14/20\n",
            "3/3 [==============================] - 0s 52ms/step - loss: 10.0874 - accuracy: 0.2587\n",
            "Epoch 15/20\n",
            "3/3 [==============================] - 0s 53ms/step - loss: 10.0871 - accuracy: 0.2587\n",
            "Epoch 16/20\n",
            "3/3 [==============================] - 0s 56ms/step - loss: 10.0869 - accuracy: 0.2587\n",
            "Epoch 17/20\n",
            "3/3 [==============================] - 0s 51ms/step - loss: 10.0874 - accuracy: 0.2587\n",
            "Epoch 18/20\n",
            "3/3 [==============================] - 0s 51ms/step - loss: 10.0884 - accuracy: 0.2587\n",
            "Epoch 19/20\n",
            "3/3 [==============================] - 0s 54ms/step - loss: 10.0883 - accuracy: 0.2587\n",
            "Epoch 20/20\n",
            "3/3 [==============================] - 0s 56ms/step - loss: 10.0870 - accuracy: 0.2587\n"
          ]
        }
      ]
    },
    {
      "cell_type": "code",
      "source": [
        "res_cnn_accuracy = res_cnn.evaluate(res_test_vectors, one_hot_y_test)\n",
        "print('Accuracy: {:.2f}%'.format(res_cnn_accuracy[1] * 100))"
      ],
      "metadata": {
        "colab": {
          "base_uri": "https://localhost:8080/"
        },
        "id": "zRda6u-UYUmw",
        "outputId": "e40c4e94-60c9-4b91-cbbc-5b3cc38b9ee3"
      },
      "execution_count": 164,
      "outputs": [
        {
          "output_type": "stream",
          "name": "stderr",
          "text": [
            "WARNING:tensorflow:5 out of the last 469 calls to <function Model.make_test_function.<locals>.test_function at 0x7f9052ea77f0> triggered tf.function retracing. Tracing is expensive and the excessive number of tracings could be due to (1) creating @tf.function repeatedly in a loop, (2) passing tensors with different shapes, (3) passing Python objects instead of tensors. For (1), please define your @tf.function outside of the loop. For (2), @tf.function has reduce_retracing=True option that can avoid unnecessary retracing. For (3), please refer to https://www.tensorflow.org/guide/function#controlling_retracing and https://www.tensorflow.org/api_docs/python/tf/function for  more details.\n"
          ]
        },
        {
          "output_type": "stream",
          "name": "stdout",
          "text": [
            "3/3 [==============================] - 0s 13ms/step - loss: 10.2460 - accuracy: 0.2989\n",
            "Accuracy: 29.89%\n"
          ]
        }
      ]
    },
    {
      "cell_type": "markdown",
      "source": [
        "### Word2Vec + AutoEncoder"
      ],
      "metadata": {
        "id": "AEbSIvoWFocz"
      }
    },
    {
      "cell_type": "markdown",
      "source": [
        "#### 沒有限制字串長度"
      ],
      "metadata": {
        "id": "-UlsVK2YSM2o"
      }
    },
    {
      "cell_type": "code",
      "source": [
        "from tensorflow.keras.models import Model\n",
        "from tensorflow.keras.layers import Input\n",
        "\n",
        "autoencoder = Sequential()\n",
        "\n",
        "# Encoder\n",
        "autoencoder.add(Dense(units=256, activation='relu', input_shape=(non_res_train_vectors.shape[1],)))  # input layer\n",
        "autoencoder.add(Dense(units=128, activation='relu'))  # hidden layer\n",
        "autoencoder.add(Dense(units=64, activation='relu'))  # hidden layer\n",
        "\n",
        "# Decoder\n",
        "autoencoder.add(Dense(units=128, activation='relu'))  # hidden layer\n",
        "autoencoder.add(Dense(units=256, activation='relu'))  # hidden layer\n",
        "autoencoder.add(Dense(units=14, activation='sigmoid'))  # output layer\n",
        "\n",
        "autoencoder.compile(optimizer='adam', loss='binary_crossentropy')\n",
        "\n",
        "autoencoder.fit(non_res_train_vectors, one_hot_y_train, epochs=50, batch_size=32, validation_data=(non_res_test_vectors, one_hot_y_test))\n",
        "\n",
        "# 根據 hidden layer 的 index 來取得 output\n",
        "encoder = Model(inputs=autoencoder.input, outputs=autoencoder.layers[5].output)\n",
        "encoded_input = Input(shape=(autoencoder.layers[5].output.shape[1],))\n",
        "classifier_output = Dense(units=14, activation='softmax')(encoded_input)\n",
        "\n",
        "classifier = Model(inputs=encoded_input, outputs=classifier_output)\n",
        "classifier.compile(optimizer='adam', loss='categorical_crossentropy', metrics=['accuracy'])\n",
        "\n",
        "classifier.fit(encoder.predict(non_res_train_vectors), one_hot_y_train, epochs=50, batch_size=32, validation_data=(encoder.predict(non_res_test_vectors), one_hot_y_test))"
      ],
      "metadata": {
        "id": "MJ9NJkjYm67W"
      },
      "execution_count": null,
      "outputs": []
    },
    {
      "cell_type": "code",
      "source": [
        "loss, non_res_ae_accuracy = classifier.evaluate(encoder.predict(non_res_test_vectors), one_hot_y_test)\n",
        "print('Accuracy: {:.2f}%'.format(non_res_ae_accuracy * 100))"
      ],
      "metadata": {
        "colab": {
          "base_uri": "https://localhost:8080/"
        },
        "id": "Ypu8iQQzoyNV",
        "outputId": "9f7d89a9-642e-46d2-a476-72de9009218d"
      },
      "execution_count": 35,
      "outputs": [
        {
          "output_type": "stream",
          "name": "stdout",
          "text": [
            "12/12 [==============================] - 0s 2ms/step\n",
            "12/12 [==============================] - 0s 2ms/step - loss: 2.0320 - accuracy: 0.3145\n",
            "Accuracy: 31.45%\n"
          ]
        }
      ]
    },
    {
      "cell_type": "markdown",
      "source": [
        "#### 有限制字串長度"
      ],
      "metadata": {
        "id": "UiYw9hlISQpm"
      }
    },
    {
      "cell_type": "code",
      "source": [
        "autoencoder = Sequential()\n",
        "\n",
        "# Encoder\n",
        "autoencoder.add(Dense(units=256, activation='relu', input_shape=(res_train_vectors.shape[1],)))  # input layer\n",
        "autoencoder.add(Dense(units=128, activation='relu'))  # hidden layer\n",
        "autoencoder.add(Dense(units=64, activation='relu'))  # hidden layer\n",
        "\n",
        "# Decoder\n",
        "autoencoder.add(Dense(units=128, activation='relu'))  # hidden layer\n",
        "autoencoder.add(Dense(units=256, activation='relu'))  # hidden layer\n",
        "autoencoder.add(Dense(units=14, activation='sigmoid'))  # 輸出層\n",
        "\n",
        "autoencoder.compile(optimizer='adam', loss='binary_crossentropy')\n",
        "\n",
        "autoencoder.fit(res_train_vectors, one_hot_y_train, epochs=50, batch_size=32, validation_data=(res_test_vectors, one_hot_y_test))\n",
        "\n",
        "# 根據 hidden layer 的 index 來取得 output\n",
        "encoder = Model(inputs=autoencoder.input, outputs=autoencoder.layers[5].output)\n",
        "encoded_input = Input(shape=(autoencoder.layers[5].output.shape[1],))\n",
        "classifier_output = Dense(units=14, activation='softmax')(encoded_input)\n",
        "\n",
        "classifier = Model(inputs=encoded_input, outputs=classifier_output)\n",
        "classifier.compile(optimizer='adam', loss='categorical_crossentropy', metrics=['accuracy'])\n",
        "\n",
        "# 訓練分類器模型\n",
        "classifier.fit(encoder.predict(res_train_vectors), one_hot_y_train, epochs=50, batch_size=32, validation_data=(encoder.predict(res_test_vectors), one_hot_y_test))"
      ],
      "metadata": {
        "colab": {
          "base_uri": "https://localhost:8080/"
        },
        "id": "U-VgmnGIM36T",
        "outputId": "05f99cbe-6f49-4351-b318-80601237490d"
      },
      "execution_count": 165,
      "outputs": [
        {
          "output_type": "stream",
          "name": "stdout",
          "text": [
            "Epoch 1/50\n",
            "1/9 [==>...........................] - ETA: 9s - loss: 0.6931"
          ]
        },
        {
          "output_type": "stream",
          "name": "stderr",
          "text": [
            "WARNING:tensorflow:5 out of the last 13 calls to <function Model.make_test_function.<locals>.test_function at 0x7f9052ea5f30> triggered tf.function retracing. Tracing is expensive and the excessive number of tracings could be due to (1) creating @tf.function repeatedly in a loop, (2) passing tensors with different shapes, (3) passing Python objects instead of tensors. For (1), please define your @tf.function outside of the loop. For (2), @tf.function has reduce_retracing=True option that can avoid unnecessary retracing. For (3), please refer to https://www.tensorflow.org/guide/function#controlling_retracing and https://www.tensorflow.org/api_docs/python/tf/function for  more details.\n"
          ]
        },
        {
          "output_type": "stream",
          "name": "stdout",
          "text": [
            "\b\b\b\b\b\b\b\b\b\b\b\b\b\b\b\b\b\b\b\b\b\b\b\b\b\b\b\b\b\b\b\b\b\b\b\b\b\b\b\b\b\b\b\b\b\b\b\b\b\b\b\b\b\b\b\b\b\b\b\b\b\r9/9 [==============================] - 1s 28ms/step - loss: 0.6804 - val_loss: 0.6442\n",
            "Epoch 2/50\n",
            "9/9 [==============================] - 0s 9ms/step - loss: 0.5820 - val_loss: 0.4319\n",
            "Epoch 3/50\n",
            "9/9 [==============================] - 0s 7ms/step - loss: 0.3055 - val_loss: 0.2090\n",
            "Epoch 4/50\n",
            "9/9 [==============================] - 0s 9ms/step - loss: 0.2210 - val_loss: 0.2062\n",
            "Epoch 5/50\n",
            "9/9 [==============================] - 0s 9ms/step - loss: 0.2016 - val_loss: 0.1852\n",
            "Epoch 6/50\n",
            "9/9 [==============================] - 0s 9ms/step - loss: 0.1935 - val_loss: 0.1899\n",
            "Epoch 7/50\n",
            "9/9 [==============================] - 0s 8ms/step - loss: 0.1907 - val_loss: 0.1843\n",
            "Epoch 8/50\n",
            "9/9 [==============================] - 0s 10ms/step - loss: 0.1884 - val_loss: 0.1867\n",
            "Epoch 9/50\n",
            "9/9 [==============================] - 0s 8ms/step - loss: 0.1895 - val_loss: 0.1857\n",
            "Epoch 10/50\n",
            "9/9 [==============================] - 0s 7ms/step - loss: 0.1877 - val_loss: 0.1848\n",
            "Epoch 11/50\n",
            "9/9 [==============================] - 0s 10ms/step - loss: 0.1882 - val_loss: 0.1833\n",
            "Epoch 12/50\n",
            "9/9 [==============================] - 0s 8ms/step - loss: 0.1882 - val_loss: 0.1831\n",
            "Epoch 13/50\n",
            "9/9 [==============================] - 0s 7ms/step - loss: 0.1876 - val_loss: 0.1850\n",
            "Epoch 14/50\n",
            "9/9 [==============================] - 0s 7ms/step - loss: 0.1877 - val_loss: 0.1838\n",
            "Epoch 15/50\n",
            "9/9 [==============================] - 0s 8ms/step - loss: 0.1879 - val_loss: 0.1846\n",
            "Epoch 16/50\n",
            "9/9 [==============================] - 0s 7ms/step - loss: 0.1875 - val_loss: 0.1851\n",
            "Epoch 17/50\n",
            "9/9 [==============================] - 0s 7ms/step - loss: 0.1883 - val_loss: 0.1859\n",
            "Epoch 18/50\n",
            "9/9 [==============================] - 0s 7ms/step - loss: 0.1906 - val_loss: 0.1829\n",
            "Epoch 19/50\n",
            "9/9 [==============================] - 0s 9ms/step - loss: 0.1877 - val_loss: 0.1828\n",
            "Epoch 20/50\n",
            "9/9 [==============================] - 0s 7ms/step - loss: 0.1871 - val_loss: 0.1844\n",
            "Epoch 21/50\n",
            "9/9 [==============================] - 0s 7ms/step - loss: 0.1871 - val_loss: 0.1849\n",
            "Epoch 22/50\n",
            "9/9 [==============================] - 0s 10ms/step - loss: 0.1877 - val_loss: 0.1855\n",
            "Epoch 23/50\n",
            "9/9 [==============================] - 0s 9ms/step - loss: 0.1881 - val_loss: 0.1846\n",
            "Epoch 24/50\n",
            "9/9 [==============================] - 0s 7ms/step - loss: 0.1875 - val_loss: 0.1854\n",
            "Epoch 25/50\n",
            "9/9 [==============================] - 0s 8ms/step - loss: 0.1873 - val_loss: 0.1838\n",
            "Epoch 26/50\n",
            "9/9 [==============================] - 0s 7ms/step - loss: 0.1889 - val_loss: 0.1841\n",
            "Epoch 27/50\n",
            "9/9 [==============================] - 0s 9ms/step - loss: 0.1876 - val_loss: 0.1825\n",
            "Epoch 28/50\n",
            "9/9 [==============================] - 0s 9ms/step - loss: 0.1872 - val_loss: 0.1822\n",
            "Epoch 29/50\n",
            "9/9 [==============================] - 0s 8ms/step - loss: 0.1870 - val_loss: 0.1827\n",
            "Epoch 30/50\n",
            "9/9 [==============================] - 0s 9ms/step - loss: 0.1867 - val_loss: 0.1827\n",
            "Epoch 31/50\n",
            "9/9 [==============================] - 0s 10ms/step - loss: 0.1873 - val_loss: 0.1859\n",
            "Epoch 32/50\n",
            "9/9 [==============================] - 0s 10ms/step - loss: 0.1882 - val_loss: 0.1858\n",
            "Epoch 33/50\n",
            "9/9 [==============================] - 0s 11ms/step - loss: 0.1871 - val_loss: 0.1827\n",
            "Epoch 34/50\n",
            "9/9 [==============================] - 0s 9ms/step - loss: 0.1876 - val_loss: 0.1819\n",
            "Epoch 35/50\n",
            "9/9 [==============================] - 0s 10ms/step - loss: 0.1878 - val_loss: 0.1819\n",
            "Epoch 36/50\n",
            "9/9 [==============================] - 0s 12ms/step - loss: 0.1871 - val_loss: 0.1834\n",
            "Epoch 37/50\n",
            "9/9 [==============================] - 0s 13ms/step - loss: 0.1867 - val_loss: 0.1826\n",
            "Epoch 38/50\n",
            "9/9 [==============================] - 0s 17ms/step - loss: 0.1882 - val_loss: 0.1829\n",
            "Epoch 39/50\n",
            "9/9 [==============================] - 0s 14ms/step - loss: 0.1859 - val_loss: 0.1841\n",
            "Epoch 40/50\n",
            "9/9 [==============================] - 0s 24ms/step - loss: 0.1873 - val_loss: 0.1847\n",
            "Epoch 41/50\n",
            "9/9 [==============================] - 0s 24ms/step - loss: 0.1870 - val_loss: 0.1843\n",
            "Epoch 42/50\n",
            "9/9 [==============================] - 0s 23ms/step - loss: 0.1868 - val_loss: 0.1841\n",
            "Epoch 43/50\n",
            "9/9 [==============================] - 0s 18ms/step - loss: 0.1867 - val_loss: 0.1831\n",
            "Epoch 44/50\n",
            "9/9 [==============================] - 0s 12ms/step - loss: 0.1866 - val_loss: 0.1835\n",
            "Epoch 45/50\n",
            "9/9 [==============================] - 0s 9ms/step - loss: 0.1866 - val_loss: 0.1835\n",
            "Epoch 46/50\n",
            "9/9 [==============================] - 0s 9ms/step - loss: 0.1869 - val_loss: 0.1844\n",
            "Epoch 47/50\n",
            "9/9 [==============================] - 0s 14ms/step - loss: 0.1870 - val_loss: 0.1831\n",
            "Epoch 48/50\n",
            "9/9 [==============================] - 0s 17ms/step - loss: 0.1871 - val_loss: 0.1837\n",
            "Epoch 49/50\n",
            "9/9 [==============================] - 0s 13ms/step - loss: 0.1868 - val_loss: 0.1834\n",
            "Epoch 50/50\n",
            "9/9 [==============================] - 0s 13ms/step - loss: 0.1880 - val_loss: 0.1833\n",
            "9/9 [==============================] - 0s 3ms/step\n",
            "3/3 [==============================] - 0s 13ms/step\n",
            "Epoch 1/50\n",
            "9/9 [==============================] - 2s 78ms/step - loss: 2.6585 - accuracy: 0.0193 - val_loss: 2.6563 - val_accuracy: 0.0115\n",
            "Epoch 2/50\n",
            "9/9 [==============================] - 0s 18ms/step - loss: 2.6400 - accuracy: 0.0193 - val_loss: 2.6376 - val_accuracy: 0.0115\n",
            "Epoch 3/50\n",
            "9/9 [==============================] - 0s 14ms/step - loss: 2.6225 - accuracy: 0.0193 - val_loss: 2.6196 - val_accuracy: 0.0115\n",
            "Epoch 4/50\n",
            "9/9 [==============================] - 0s 16ms/step - loss: 2.6054 - accuracy: 0.0193 - val_loss: 2.6017 - val_accuracy: 0.0115\n",
            "Epoch 5/50\n",
            "9/9 [==============================] - 0s 15ms/step - loss: 2.5885 - accuracy: 0.0193 - val_loss: 2.5838 - val_accuracy: 0.0115\n",
            "Epoch 6/50\n",
            "9/9 [==============================] - 0s 10ms/step - loss: 2.5718 - accuracy: 0.0193 - val_loss: 2.5663 - val_accuracy: 0.0115\n",
            "Epoch 7/50\n",
            "9/9 [==============================] - 0s 11ms/step - loss: 2.5554 - accuracy: 0.0193 - val_loss: 2.5492 - val_accuracy: 0.0115\n",
            "Epoch 8/50\n",
            "9/9 [==============================] - 0s 11ms/step - loss: 2.5390 - accuracy: 0.0193 - val_loss: 2.5324 - val_accuracy: 0.0115\n",
            "Epoch 9/50\n",
            "9/9 [==============================] - 0s 10ms/step - loss: 2.5229 - accuracy: 0.0541 - val_loss: 2.5152 - val_accuracy: 0.1034\n",
            "Epoch 10/50\n",
            "9/9 [==============================] - 0s 10ms/step - loss: 2.5069 - accuracy: 0.0849 - val_loss: 2.4992 - val_accuracy: 0.3793\n",
            "Epoch 11/50\n",
            "9/9 [==============================] - 0s 13ms/step - loss: 2.4914 - accuracy: 0.3900 - val_loss: 2.4826 - val_accuracy: 0.3908\n",
            "Epoch 12/50\n",
            "9/9 [==============================] - 0s 11ms/step - loss: 2.4759 - accuracy: 0.3977 - val_loss: 2.4659 - val_accuracy: 0.3908\n",
            "Epoch 13/50\n",
            "9/9 [==============================] - 0s 11ms/step - loss: 2.4602 - accuracy: 0.3977 - val_loss: 2.4499 - val_accuracy: 0.3908\n",
            "Epoch 14/50\n",
            "9/9 [==============================] - 0s 10ms/step - loss: 2.4451 - accuracy: 0.3977 - val_loss: 2.4339 - val_accuracy: 0.3908\n",
            "Epoch 15/50\n",
            "9/9 [==============================] - 0s 11ms/step - loss: 2.4303 - accuracy: 0.3977 - val_loss: 2.4184 - val_accuracy: 0.3908\n",
            "Epoch 16/50\n",
            "9/9 [==============================] - 0s 11ms/step - loss: 2.4162 - accuracy: 0.3977 - val_loss: 2.4034 - val_accuracy: 0.3908\n",
            "Epoch 17/50\n",
            "9/9 [==============================] - 0s 10ms/step - loss: 2.4021 - accuracy: 0.3977 - val_loss: 2.3881 - val_accuracy: 0.3908\n",
            "Epoch 18/50\n",
            "9/9 [==============================] - 0s 11ms/step - loss: 2.3880 - accuracy: 0.3977 - val_loss: 2.3735 - val_accuracy: 0.3908\n",
            "Epoch 19/50\n",
            "9/9 [==============================] - 0s 7ms/step - loss: 2.3740 - accuracy: 0.3977 - val_loss: 2.3589 - val_accuracy: 0.3908\n",
            "Epoch 20/50\n",
            "9/9 [==============================] - 0s 8ms/step - loss: 2.3603 - accuracy: 0.3977 - val_loss: 2.3448 - val_accuracy: 0.3908\n",
            "Epoch 21/50\n",
            "9/9 [==============================] - 0s 9ms/step - loss: 2.3470 - accuracy: 0.3977 - val_loss: 2.3308 - val_accuracy: 0.3908\n",
            "Epoch 22/50\n",
            "9/9 [==============================] - 0s 9ms/step - loss: 2.3338 - accuracy: 0.3977 - val_loss: 2.3173 - val_accuracy: 0.3908\n",
            "Epoch 23/50\n",
            "9/9 [==============================] - 0s 7ms/step - loss: 2.3215 - accuracy: 0.3977 - val_loss: 2.3046 - val_accuracy: 0.3908\n",
            "Epoch 24/50\n",
            "9/9 [==============================] - 0s 8ms/step - loss: 2.3094 - accuracy: 0.3977 - val_loss: 2.2922 - val_accuracy: 0.3908\n",
            "Epoch 25/50\n",
            "9/9 [==============================] - 0s 8ms/step - loss: 2.2970 - accuracy: 0.3977 - val_loss: 2.2793 - val_accuracy: 0.3908\n",
            "Epoch 26/50\n",
            "9/9 [==============================] - 0s 9ms/step - loss: 2.2850 - accuracy: 0.3977 - val_loss: 2.2660 - val_accuracy: 0.3908\n",
            "Epoch 27/50\n",
            "9/9 [==============================] - 0s 8ms/step - loss: 2.2726 - accuracy: 0.3977 - val_loss: 2.2538 - val_accuracy: 0.3908\n",
            "Epoch 28/50\n",
            "9/9 [==============================] - 0s 8ms/step - loss: 2.2614 - accuracy: 0.3977 - val_loss: 2.2423 - val_accuracy: 0.3908\n",
            "Epoch 29/50\n",
            "9/9 [==============================] - 0s 6ms/step - loss: 2.2503 - accuracy: 0.3977 - val_loss: 2.2315 - val_accuracy: 0.3908\n",
            "Epoch 30/50\n",
            "9/9 [==============================] - 0s 7ms/step - loss: 2.2395 - accuracy: 0.3977 - val_loss: 2.2200 - val_accuracy: 0.3908\n",
            "Epoch 31/50\n",
            "9/9 [==============================] - 0s 6ms/step - loss: 2.2287 - accuracy: 0.3977 - val_loss: 2.2088 - val_accuracy: 0.3908\n",
            "Epoch 32/50\n",
            "9/9 [==============================] - 0s 9ms/step - loss: 2.2179 - accuracy: 0.3977 - val_loss: 2.1978 - val_accuracy: 0.3908\n",
            "Epoch 33/50\n",
            "9/9 [==============================] - 0s 7ms/step - loss: 2.2075 - accuracy: 0.3977 - val_loss: 2.1861 - val_accuracy: 0.3908\n",
            "Epoch 34/50\n",
            "9/9 [==============================] - 0s 8ms/step - loss: 2.1965 - accuracy: 0.3977 - val_loss: 2.1746 - val_accuracy: 0.3908\n",
            "Epoch 35/50\n",
            "9/9 [==============================] - 0s 6ms/step - loss: 2.1859 - accuracy: 0.3977 - val_loss: 2.1641 - val_accuracy: 0.3908\n",
            "Epoch 36/50\n",
            "9/9 [==============================] - 0s 7ms/step - loss: 2.1761 - accuracy: 0.3977 - val_loss: 2.1537 - val_accuracy: 0.3908\n",
            "Epoch 37/50\n",
            "9/9 [==============================] - 0s 7ms/step - loss: 2.1662 - accuracy: 0.3977 - val_loss: 2.1431 - val_accuracy: 0.3908\n",
            "Epoch 38/50\n",
            "9/9 [==============================] - 0s 8ms/step - loss: 2.1566 - accuracy: 0.3977 - val_loss: 2.1331 - val_accuracy: 0.3908\n",
            "Epoch 39/50\n",
            "9/9 [==============================] - 0s 6ms/step - loss: 2.1471 - accuracy: 0.3977 - val_loss: 2.1230 - val_accuracy: 0.3908\n",
            "Epoch 40/50\n",
            "9/9 [==============================] - 0s 13ms/step - loss: 2.1377 - accuracy: 0.3977 - val_loss: 2.1135 - val_accuracy: 0.3908\n",
            "Epoch 41/50\n",
            "9/9 [==============================] - 0s 11ms/step - loss: 2.1289 - accuracy: 0.3977 - val_loss: 2.1045 - val_accuracy: 0.3908\n",
            "Epoch 42/50\n",
            "9/9 [==============================] - 0s 11ms/step - loss: 2.1201 - accuracy: 0.3977 - val_loss: 2.0951 - val_accuracy: 0.3908\n",
            "Epoch 43/50\n",
            "9/9 [==============================] - 0s 11ms/step - loss: 2.1114 - accuracy: 0.3977 - val_loss: 2.0856 - val_accuracy: 0.3908\n",
            "Epoch 44/50\n",
            "9/9 [==============================] - 0s 9ms/step - loss: 2.1025 - accuracy: 0.3977 - val_loss: 2.0765 - val_accuracy: 0.3908\n",
            "Epoch 45/50\n",
            "9/9 [==============================] - 0s 17ms/step - loss: 2.0945 - accuracy: 0.3977 - val_loss: 2.0674 - val_accuracy: 0.3908\n",
            "Epoch 46/50\n",
            "9/9 [==============================] - 0s 6ms/step - loss: 2.0867 - accuracy: 0.3977 - val_loss: 2.0591 - val_accuracy: 0.3908\n",
            "Epoch 47/50\n",
            "9/9 [==============================] - 0s 8ms/step - loss: 2.0792 - accuracy: 0.3977 - val_loss: 2.0513 - val_accuracy: 0.3908\n",
            "Epoch 48/50\n",
            "9/9 [==============================] - 0s 8ms/step - loss: 2.0720 - accuracy: 0.3977 - val_loss: 2.0434 - val_accuracy: 0.3908\n",
            "Epoch 49/50\n",
            "9/9 [==============================] - 0s 7ms/step - loss: 2.0648 - accuracy: 0.3977 - val_loss: 2.0356 - val_accuracy: 0.3908\n",
            "Epoch 50/50\n",
            "9/9 [==============================] - 0s 6ms/step - loss: 2.0579 - accuracy: 0.3977 - val_loss: 2.0280 - val_accuracy: 0.3908\n"
          ]
        },
        {
          "output_type": "execute_result",
          "data": {
            "text/plain": [
              "<keras.callbacks.History at 0x7f90c7d51e70>"
            ]
          },
          "metadata": {},
          "execution_count": 165
        }
      ]
    },
    {
      "cell_type": "code",
      "source": [
        "loss, res_ae_accuracy = classifier.evaluate(encoder.predict(res_test_vectors), one_hot_y_test)\n",
        "print('Accuracy: {:.2f}%'.format(res_ae_accuracy * 100))"
      ],
      "metadata": {
        "colab": {
          "base_uri": "https://localhost:8080/"
        },
        "id": "ao0r18iuSVn5",
        "outputId": "4f96b6cf-49db-4ce2-c3f7-79d80ed9a19c"
      },
      "execution_count": 147,
      "outputs": [
        {
          "output_type": "stream",
          "name": "stdout",
          "text": [
            "9/9 [==============================] - 0s 2ms/step\n",
            "9/9 [==============================] - 0s 2ms/step - loss: 1.9807 - accuracy: 0.3489\n",
            "Accuracy: 34.89%\n"
          ]
        }
      ]
    },
    {
      "cell_type": "markdown",
      "source": [
        "## Accuracy Comparison"
      ],
      "metadata": {
        "id": "5lKUhBIKV1ZI"
      }
    },
    {
      "cell_type": "code",
      "source": [
        "import matplotlib.pyplot as plt\n",
        "\n",
        "labels = ['Tfidf + SVM', 'Tfidf + RF', 'Non-Res SVM', 'Res SVM', 'Non-Res CNN', 'Res CNN', 'Non-Res AE', 'Res AE']\n",
        "values = [tf_svm_test_accuracy, tf_rf_test_accuracy, non_res_svm_accuracy, res_svm_accuracy, non_res_cnn_accuracy[1], res_cnn_accuracy[1], non_res_ae_accuracy, res_ae_accuracy]\n",
        "\n",
        "plt.bar(labels, values)\n",
        "\n",
        "plt.xticks(rotation=45)\n",
        "plt.title('Accuracy Comparison')\n",
        "plt.xlabel('Models')\n",
        "plt.ylabel('Accuracy')\n",
        "\n",
        "plt.show()"
      ],
      "metadata": {
        "colab": {
          "base_uri": "https://localhost:8080/",
          "height": 533
        },
        "id": "aA7DKzTHWPfY",
        "outputId": "d5bb0f8e-4306-4472-88f3-d6cacd4ac8a9"
      },
      "execution_count": 148,
      "outputs": [
        {
          "output_type": "display_data",
          "data": {
            "text/plain": [
              "<Figure size 640x480 with 1 Axes>"
            ],
            "image/png": "[encoded data removed]"
          },
          "metadata": {}
        }
      ]
    }
  ]
}