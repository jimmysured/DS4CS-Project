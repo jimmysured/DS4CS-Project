{
  "nbformat": 4,
  "nbformat_minor": 0,
  "metadata": {
    "colab": {
      "provenance": [],
      "toc_visible": true
    },
    "kernelspec": {
      "name": "python3",
      "display_name": "Python 3"
    },
    "language_info": {
      "name": "python"
    }
  },
  "cells": [
    {
      "cell_type": "markdown",
      "source": [
        "# **Unveiling MITRE ATT&CK Techniques using Machine Learning Models for Command Classification**"
      ],
      "metadata": {
        "id": "jbQxBIxbrZ8f"
      }
    },
    {
      "cell_type": "markdown",
      "source": [
        "## Data Pre-Processing"
      ],
      "metadata": {
        "id": "vcUzVIhRObUn"
      }
    },
    {
      "cell_type": "markdown",
      "source": [
        "### Get malicious command yaml file from internet"
      ],
      "metadata": {
        "id": "Aj4uqbxqrjUR"
      }
    },
    {
      "cell_type": "code",
      "source": [
        "import requests\n",
        "import re\n",
        "\n",
        "def get_files_name(repo_url, folder_path):\n",
        "    api_url = f\"{repo_url}/{folder_path}\"\n",
        "    response = requests.get(api_url)\n",
        "    if folder_path == \"\":\n",
        "      pattern = r'title=\"(.*?)\" data-turbo-frame='\n",
        "    else:\n",
        "      pattern = r'(?<=title=\")([^\"]*\\.yml)'\n",
        "\n",
        "    matches = re.findall(pattern, response.text)\n",
        "    return matches"
      ],
      "metadata": {
        "id": "7Ev9vhZMahIQ"
      },
      "execution_count": 1,
      "outputs": []
    },
    {
      "cell_type": "code",
      "source": [
        "repo_url = \"https://github.com/trellix-enterprise/ac3-threat-sightings\"\n",
        "folder_path = \"/tree/main/sightings\"\n",
        "ac3_files_name = get_files_name(repo_url, folder_path)\n",
        "\n",
        "repo_url = \"https://github.com/center-for-threat-informed-defense/adversary_emulation_library/\"\n",
        "folder_path = \"\"\n",
        "AEL_apt_name = get_files_name(repo_url, folder_path)"
      ],
      "metadata": {
        "id": "vmwao07Racxc"
      },
      "execution_count": 2,
      "outputs": []
    },
    {
      "cell_type": "code",
      "execution_count": 3,
      "metadata": {
        "colab": {
          "base_uri": "https://localhost:8080/"
        },
        "id": "XM9IIaXMovO3",
        "outputId": "383c0cce-476b-4591-8679-411efe69a1f6"
      },
      "outputs": [
        {
          "output_type": "stream",
          "name": "stdout",
          "text": [
            "--2023-06-16 20:37:54--  https://raw.githubusercontent.com/redcanaryco/atomic-red-team/master/atomics/Indexes/windows-index.yaml\n",
            "Resolving raw.githubusercontent.com (raw.githubusercontent.com)... 185.199.110.133, 185.199.111.133, 185.199.109.133, ...\n",
            "Connecting to raw.githubusercontent.com (raw.githubusercontent.com)|185.199.110.133|:443... connected.\n",
            "HTTP request sent, awaiting response... 200 OK\n",
            "Length: 5892593 (5.6M) [text/plain]\n",
            "Saving to: ‘windows-index.yaml.4’\n",
            "\n",
            "\rwindows-index.yaml.   0%[                    ]       0  --.-KB/s               \rwindows-index.yaml. 100%[===================>]   5.62M  --.-KB/s    in 0.06s   \n",
            "\n",
            "2023-06-16 20:37:54 (101 MB/s) - ‘windows-index.yaml.4’ saved [5892593/5892593]\n",
            "\n",
            "--2023-06-16 20:37:54--  https://raw.githubusercontent.com/trellix-enterprise/ac3-threat-sightings/main/sightings/Sightings_BlackCat_Ransomware.yml\n",
            "Resolving raw.githubusercontent.com (raw.githubusercontent.com)... 185.199.108.133, 185.199.109.133, 185.199.110.133, ...\n",
            "Connecting to raw.githubusercontent.com (raw.githubusercontent.com)|185.199.108.133|:443... connected.\n",
            "HTTP request sent, awaiting response... 200 OK\n",
            "Length: 14982 (15K) [text/plain]\n",
            "Saving to: ‘ac3_command/Sightings_BlackCat_Ransomware.yml.4’\n",
            "\n",
            "Sightings_BlackCat_ 100%[===================>]  14.63K  --.-KB/s    in 0s      \n",
            "\n",
            "2023-06-16 20:37:55 (103 MB/s) - ‘ac3_command/Sightings_BlackCat_Ransomware.yml.4’ saved [14982/14982]\n",
            "\n",
            "--2023-06-16 20:37:55--  https://raw.githubusercontent.com/trellix-enterprise/ac3-threat-sightings/main/sightings/Sightings_CVE_2021_40444.yml\n",
            "Resolving raw.githubusercontent.com (raw.githubusercontent.com)... 185.199.108.133, 185.199.109.133, 185.199.110.133, ...\n",
            "Connecting to raw.githubusercontent.com (raw.githubusercontent.com)|185.199.108.133|:443... connected.\n",
            "HTTP request sent, awaiting response... 200 OK\n",
            "Length: 5523 (5.4K) [text/plain]\n",
            "Saving to: ‘ac3_command/Sightings_CVE_2021_40444.yml.4’\n",
            "\n",
            "Sightings_CVE_2021_ 100%[===================>]   5.39K  --.-KB/s    in 0s      \n",
            "\n",
            "2023-06-16 20:37:55 (46.8 MB/s) - ‘ac3_command/Sightings_CVE_2021_40444.yml.4’ saved [5523/5523]\n",
            "\n",
            "--2023-06-16 20:37:55--  https://raw.githubusercontent.com/trellix-enterprise/ac3-threat-sightings/main/sightings/Sightings_CobaltStrike.yml\n",
            "Resolving raw.githubusercontent.com (raw.githubusercontent.com)... 185.199.108.133, 185.199.109.133, 185.199.110.133, ...\n",
            "Connecting to raw.githubusercontent.com (raw.githubusercontent.com)|185.199.108.133|:443... connected.\n",
            "HTTP request sent, awaiting response... 200 OK\n",
            "Length: 14021 (14K) [text/plain]\n",
            "Saving to: ‘ac3_command/Sightings_CobaltStrike.yml.4’\n",
            "\n",
            "Sightings_CobaltStr 100%[===================>]  13.69K  --.-KB/s    in 0s      \n",
            "\n",
            "2023-06-16 20:37:56 (47.9 MB/s) - ‘ac3_command/Sightings_CobaltStrike.yml.4’ saved [14021/14021]\n",
            "\n",
            "--2023-06-16 20:37:56--  https://raw.githubusercontent.com/trellix-enterprise/ac3-threat-sightings/main/sightings/Sightings_Conti_Ransomware.yml\n",
            "Resolving raw.githubusercontent.com (raw.githubusercontent.com)... 185.199.108.133, 185.199.109.133, 185.199.110.133, ...\n",
            "Connecting to raw.githubusercontent.com (raw.githubusercontent.com)|185.199.108.133|:443... connected.\n",
            "HTTP request sent, awaiting response... 200 OK\n",
            "Length: 30305 (30K) [text/plain]\n",
            "Saving to: ‘ac3_command/Sightings_Conti_Ransomware.yml.4’\n",
            "\n",
            "Sightings_Conti_Ran 100%[===================>]  29.59K  --.-KB/s    in 0.002s  \n",
            "\n",
            "2023-06-16 20:37:56 (18.7 MB/s) - ‘ac3_command/Sightings_Conti_Ransomware.yml.4’ saved [30305/30305]\n",
            "\n",
            "--2023-06-16 20:37:56--  https://raw.githubusercontent.com/trellix-enterprise/ac3-threat-sightings/main/sightings/Sightings_Darkside_Ransomware.yml\n",
            "Resolving raw.githubusercontent.com (raw.githubusercontent.com)... 185.199.108.133, 185.199.109.133, 185.199.110.133, ...\n",
            "Connecting to raw.githubusercontent.com (raw.githubusercontent.com)|185.199.108.133|:443... connected.\n",
            "HTTP request sent, awaiting response... 200 OK\n",
            "Length: 21150 (21K) [text/plain]\n",
            "Saving to: ‘ac3_command/Sightings_Darkside_Ransomware.yml.4’\n",
            "\n",
            "Sightings_Darkside_ 100%[===================>]  20.65K  --.-KB/s    in 0.001s  \n",
            "\n",
            "2023-06-16 20:37:56 (27.7 MB/s) - ‘ac3_command/Sightings_Darkside_Ransomware.yml.4’ saved [21150/21150]\n",
            "\n",
            "--2023-06-16 20:37:56--  https://raw.githubusercontent.com/trellix-enterprise/ac3-threat-sightings/main/sightings/Sightings_Diavol_Ransomware.yml\n",
            "Resolving raw.githubusercontent.com (raw.githubusercontent.com)... 185.199.108.133, 185.199.109.133, 185.199.110.133, ...\n",
            "Connecting to raw.githubusercontent.com (raw.githubusercontent.com)|185.199.108.133|:443... connected.\n",
            "HTTP request sent, awaiting response... 200 OK\n",
            "Length: 29032 (28K) [text/plain]\n",
            "Saving to: ‘ac3_command/Sightings_Diavol_Ransomware.yml.4’\n",
            "\n",
            "Sightings_Diavol_Ra 100%[===================>]  28.35K  --.-KB/s    in 0.001s  \n",
            "\n",
            "2023-06-16 20:37:57 (19.1 MB/s) - ‘ac3_command/Sightings_Diavol_Ransomware.yml.4’ saved [29032/29032]\n",
            "\n",
            "--2023-06-16 20:37:57--  https://raw.githubusercontent.com/trellix-enterprise/ac3-threat-sightings/main/sightings/Sightings_Emotet_Dec2021.yml\n",
            "Resolving raw.githubusercontent.com (raw.githubusercontent.com)... 185.199.108.133, 185.199.109.133, 185.199.110.133, ...\n",
            "Connecting to raw.githubusercontent.com (raw.githubusercontent.com)|185.199.108.133|:443... connected.\n",
            "HTTP request sent, awaiting response... 200 OK\n",
            "Length: 34158 (33K) [text/plain]\n",
            "Saving to: ‘ac3_command/Sightings_Emotet_Dec2021.yml.4’\n",
            "\n",
            "Sightings_Emotet_De 100%[===================>]  33.36K  --.-KB/s    in 0.002s  \n",
            "\n",
            "2023-06-16 20:37:57 (20.4 MB/s) - ‘ac3_command/Sightings_Emotet_Dec2021.yml.4’ saved [34158/34158]\n",
            "\n",
            "--2023-06-16 20:37:57--  https://raw.githubusercontent.com/trellix-enterprise/ac3-threat-sightings/main/sightings/Sightings_Guildma_RAT.yml\n",
            "Resolving raw.githubusercontent.com (raw.githubusercontent.com)... 185.199.108.133, 185.199.109.133, 185.199.110.133, ...\n",
            "Connecting to raw.githubusercontent.com (raw.githubusercontent.com)|185.199.108.133|:443... connected.\n",
            "HTTP request sent, awaiting response... 200 OK\n",
            "Length: 27277 (27K) [text/plain]\n",
            "Saving to: ‘ac3_command/Sightings_Guildma_RAT.yml.4’\n",
            "\n",
            "Sightings_Guildma_R 100%[===================>]  26.64K  --.-KB/s    in 0.002s  \n",
            "\n",
            "2023-06-16 20:37:57 (14.9 MB/s) - ‘ac3_command/Sightings_Guildma_RAT.yml.4’ saved [27277/27277]\n",
            "\n",
            "--2023-06-16 20:37:57--  https://raw.githubusercontent.com/trellix-enterprise/ac3-threat-sightings/main/sightings/Sightings_Hafnium.yml\n",
            "Resolving raw.githubusercontent.com (raw.githubusercontent.com)... 185.199.108.133, 185.199.109.133, 185.199.110.133, ...\n",
            "Connecting to raw.githubusercontent.com (raw.githubusercontent.com)|185.199.108.133|:443... connected.\n",
            "HTTP request sent, awaiting response... 200 OK\n",
            "Length: 24903 (24K) [text/plain]\n",
            "Saving to: ‘ac3_command/Sightings_Hafnium.yml.4’\n",
            "\n",
            "Sightings_Hafnium.y 100%[===================>]  24.32K  --.-KB/s    in 0.001s  \n",
            "\n",
            "2023-06-16 20:37:57 (28.7 MB/s) - ‘ac3_command/Sightings_Hafnium.yml.4’ saved [24903/24903]\n",
            "\n",
            "--2023-06-16 20:37:57--  https://raw.githubusercontent.com/trellix-enterprise/ac3-threat-sightings/main/sightings/Sightings_HermeticWiper.yml\n",
            "Resolving raw.githubusercontent.com (raw.githubusercontent.com)... 185.199.108.133, 185.199.109.133, 185.199.110.133, ...\n",
            "Connecting to raw.githubusercontent.com (raw.githubusercontent.com)|185.199.108.133|:443... connected.\n",
            "HTTP request sent, awaiting response... 200 OK\n",
            "Length: 17233 (17K) [text/plain]\n",
            "Saving to: ‘ac3_command/Sightings_HermeticWiper.yml.4’\n",
            "\n",
            "Sightings_HermeticW 100%[===================>]  16.83K  --.-KB/s    in 0s      \n",
            "\n",
            "2023-06-16 20:37:58 (35.2 MB/s) - ‘ac3_command/Sightings_HermeticWiper.yml.4’ saved [17233/17233]\n",
            "\n",
            "--2023-06-16 20:37:58--  https://raw.githubusercontent.com/trellix-enterprise/ac3-threat-sightings/main/sightings/Sightings_Jupyter_InfoStealer.yml\n",
            "Resolving raw.githubusercontent.com (raw.githubusercontent.com)... 185.199.108.133, 185.199.109.133, 185.199.110.133, ...\n",
            "Connecting to raw.githubusercontent.com (raw.githubusercontent.com)|185.199.108.133|:443... connected.\n",
            "HTTP request sent, awaiting response... 200 OK\n",
            "Length: 17791 (17K) [text/plain]\n",
            "Saving to: ‘ac3_command/Sightings_Jupyter_InfoStealer.yml.4’\n",
            "\n",
            "Sightings_Jupyter_I 100%[===================>]  17.37K  --.-KB/s    in 0s      \n",
            "\n",
            "2023-06-16 20:37:58 (57.4 MB/s) - ‘ac3_command/Sightings_Jupyter_InfoStealer.yml.4’ saved [17791/17791]\n",
            "\n",
            "--2023-06-16 20:37:58--  https://raw.githubusercontent.com/trellix-enterprise/ac3-threat-sightings/main/sightings/Sightings_LemonDuck_Malware.yml\n",
            "Resolving raw.githubusercontent.com (raw.githubusercontent.com)... 185.199.108.133, 185.199.109.133, 185.199.110.133, ...\n",
            "Connecting to raw.githubusercontent.com (raw.githubusercontent.com)|185.199.108.133|:443... connected.\n",
            "HTTP request sent, awaiting response... 200 OK\n",
            "Length: 13852 (14K) [text/plain]\n",
            "Saving to: ‘ac3_command/Sightings_LemonDuck_Malware.yml.4’\n",
            "\n",
            "Sightings_LemonDuck 100%[===================>]  13.53K  --.-KB/s    in 0s      \n",
            "\n",
            "2023-06-16 20:37:58 (64.5 MB/s) - ‘ac3_command/Sightings_LemonDuck_Malware.yml.4’ saved [13852/13852]\n",
            "\n",
            "--2023-06-16 20:37:58--  https://raw.githubusercontent.com/trellix-enterprise/ac3-threat-sightings/main/sightings/Sightings_Raccoon_InfoStealer.yml\n",
            "Resolving raw.githubusercontent.com (raw.githubusercontent.com)... 185.199.108.133, 185.199.109.133, 185.199.110.133, ...\n",
            "Connecting to raw.githubusercontent.com (raw.githubusercontent.com)|185.199.108.133|:443... connected.\n",
            "HTTP request sent, awaiting response... 200 OK\n",
            "Length: 29091 (28K) [text/plain]\n",
            "Saving to: ‘ac3_command/Sightings_Raccoon_InfoStealer.yml.4’\n",
            "\n",
            "Sightings_Raccoon_I 100%[===================>]  28.41K  --.-KB/s    in 0.001s  \n",
            "\n",
            "2023-06-16 20:37:59 (18.6 MB/s) - ‘ac3_command/Sightings_Raccoon_InfoStealer.yml.4’ saved [29091/29091]\n",
            "\n",
            "--2023-06-16 20:37:59--  https://raw.githubusercontent.com/trellix-enterprise/ac3-threat-sightings/main/sightings/Sightings_TA551.yml\n",
            "Resolving raw.githubusercontent.com (raw.githubusercontent.com)... 185.199.108.133, 185.199.109.133, 185.199.110.133, ...\n",
            "Connecting to raw.githubusercontent.com (raw.githubusercontent.com)|185.199.108.133|:443... connected.\n",
            "HTTP request sent, awaiting response... 200 OK\n",
            "Length: 13536 (13K) [text/plain]\n",
            "Saving to: ‘ac3_command/Sightings_TA551.yml.4’\n",
            "\n",
            "Sightings_TA551.yml 100%[===================>]  13.22K  --.-KB/s    in 0s      \n",
            "\n",
            "2023-06-16 20:37:59 (33.4 MB/s) - ‘ac3_command/Sightings_TA551.yml.4’ saved [13536/13536]\n",
            "\n",
            "--2023-06-16 20:37:59--  https://raw.githubusercontent.com/trellix-enterprise/ac3-threat-sightings/main/sightings/Sightings_Tortillas_Babuk.yml\n",
            "Resolving raw.githubusercontent.com (raw.githubusercontent.com)... 185.199.108.133, 185.199.109.133, 185.199.110.133, ...\n",
            "Connecting to raw.githubusercontent.com (raw.githubusercontent.com)|185.199.108.133|:443... connected.\n",
            "HTTP request sent, awaiting response... 200 OK\n",
            "Length: 14619 (14K) [text/plain]\n",
            "Saving to: ‘ac3_command/Sightings_Tortillas_Babuk.yml.4’\n",
            "\n",
            "Sightings_Tortillas 100%[===================>]  14.28K  --.-KB/s    in 0s      \n",
            "\n",
            "2023-06-16 20:37:59 (76.1 MB/s) - ‘ac3_command/Sightings_Tortillas_Babuk.yml.4’ saved [14619/14619]\n",
            "\n",
            "--2023-06-16 20:37:59--  https://raw.githubusercontent.com/trellix-enterprise/ac3-threat-sightings/main/sightings/Sightings_UNK-Credential_Access.yml\n",
            "Resolving raw.githubusercontent.com (raw.githubusercontent.com)... 185.199.108.133, 185.199.109.133, 185.199.110.133, ...\n",
            "Connecting to raw.githubusercontent.com (raw.githubusercontent.com)|185.199.108.133|:443... connected.\n",
            "HTTP request sent, awaiting response... 200 OK\n",
            "Length: 5521 (5.4K) [text/plain]\n",
            "Saving to: ‘ac3_command/Sightings_UNK-Credential_Access.yml.4’\n",
            "\n",
            "Sightings_UNK-Crede 100%[===================>]   5.39K  --.-KB/s    in 0s      \n",
            "\n",
            "2023-06-16 20:38:00 (46.7 MB/s) - ‘ac3_command/Sightings_UNK-Credential_Access.yml.4’ saved [5521/5521]\n",
            "\n",
            "--2023-06-16 20:38:00--  https://raw.githubusercontent.com/trellix-enterprise/ac3-threat-sightings/main/sightings/Sightings_UNK-Phishing.yml\n",
            "Resolving raw.githubusercontent.com (raw.githubusercontent.com)... 185.199.108.133, 185.199.109.133, 185.199.110.133, ...\n",
            "Connecting to raw.githubusercontent.com (raw.githubusercontent.com)|185.199.108.133|:443... connected.\n",
            "HTTP request sent, awaiting response... 200 OK\n",
            "Length: 10877 (11K) [text/plain]\n",
            "Saving to: ‘ac3_command/Sightings_UNK-Phishing.yml.4’\n",
            "\n",
            "Sightings_UNK-Phish 100%[===================>]  10.62K  --.-KB/s    in 0s      \n",
            "\n",
            "2023-06-16 20:38:00 (72.1 MB/s) - ‘ac3_command/Sightings_UNK-Phishing.yml.4’ saved [10877/10877]\n",
            "\n",
            "--2023-06-16 20:38:00--  https://raw.githubusercontent.com/trellix-enterprise/ac3-threat-sightings/main/sightings/Sightings_WhisperGate.yml\n",
            "Resolving raw.githubusercontent.com (raw.githubusercontent.com)... 185.199.108.133, 185.199.109.133, 185.199.110.133, ...\n",
            "Connecting to raw.githubusercontent.com (raw.githubusercontent.com)|185.199.108.133|:443... connected.\n",
            "HTTP request sent, awaiting response... 200 OK\n",
            "Length: 18214 (18K) [text/plain]\n",
            "Saving to: ‘ac3_command/Sightings_WhisperGate.yml.4’\n",
            "\n",
            "Sightings_WhisperGa 100%[===================>]  17.79K  --.-KB/s    in 0.001s  \n",
            "\n",
            "2023-06-16 20:38:01 (12.3 MB/s) - ‘ac3_command/Sightings_WhisperGate.yml.4’ saved [18214/18214]\n",
            "\n",
            "--2023-06-16 20:38:01--  https://raw.githubusercontent.com/center-for-threat-informed-defense/adversary_emulation_library/master/.github/Emulation_Plan/yaml/.GITHUB.yaml\n",
            "Resolving raw.githubusercontent.com (raw.githubusercontent.com)... 185.199.108.133, 185.199.109.133, 185.199.110.133, ...\n",
            "Connecting to raw.githubusercontent.com (raw.githubusercontent.com)|185.199.108.133|:443... connected.\n",
            "HTTP request sent, awaiting response... 404 Not Found\n",
            "2023-06-16 20:38:01 ERROR 404: Not Found.\n",
            "\n",
            "--2023-06-16 20:38:01--  https://raw.githubusercontent.com/center-for-threat-informed-defense/adversary_emulation_library/master/.github/Emulation_Plan/yaml/.github.yaml\n",
            "Resolving raw.githubusercontent.com (raw.githubusercontent.com)... 185.199.108.133, 185.199.109.133, 185.199.110.133, ...\n",
            "Connecting to raw.githubusercontent.com (raw.githubusercontent.com)|185.199.108.133|:443... connected.\n",
            "HTTP request sent, awaiting response... 404 Not Found\n",
            "2023-06-16 20:38:01 ERROR 404: Not Found.\n",
            "\n",
            "--2023-06-16 20:38:02--  https://raw.githubusercontent.com/center-for-threat-informed-defense/adversary_emulation_library/master/.github/Emulation_Plan/yaml/.github.yaml\n",
            "Resolving raw.githubusercontent.com (raw.githubusercontent.com)... 185.199.108.133, 185.199.109.133, 185.199.110.133, ...\n",
            "Connecting to raw.githubusercontent.com (raw.githubusercontent.com)|185.199.108.133|:443... connected.\n",
            "HTTP request sent, awaiting response... 404 Not Found\n",
            "2023-06-16 20:38:02 ERROR 404: Not Found.\n",
            "\n",
            "--2023-06-16 20:38:02--  https://raw.githubusercontent.com/center-for-threat-informed-defense/adversary_emulation_library/master/apt29/Emulation_Plan/yaml/APT29.yaml\n",
            "Resolving raw.githubusercontent.com (raw.githubusercontent.com)... 185.199.108.133, 185.199.109.133, 185.199.110.133, ...\n",
            "Connecting to raw.githubusercontent.com (raw.githubusercontent.com)|185.199.108.133|:443... connected.\n",
            "HTTP request sent, awaiting response... 200 OK\n",
            "Length: 101876 (99K) [text/plain]\n",
            "Saving to: ‘ael_command/APT29.yaml.4’\n",
            "\n",
            "APT29.yaml.4        100%[===================>]  99.49K  --.-KB/s    in 0.009s  \n",
            "\n",
            "2023-06-16 20:38:02 (10.3 MB/s) - ‘ael_command/APT29.yaml.4’ saved [101876/101876]\n",
            "\n",
            "--2023-06-16 20:38:02--  https://raw.githubusercontent.com/center-for-threat-informed-defense/adversary_emulation_library/master/apt29/Emulation_Plan/yaml/apt29.yaml\n",
            "Resolving raw.githubusercontent.com (raw.githubusercontent.com)... 185.199.108.133, 185.199.109.133, 185.199.110.133, ...\n",
            "Connecting to raw.githubusercontent.com (raw.githubusercontent.com)|185.199.108.133|:443... connected.\n",
            "HTTP request sent, awaiting response... 404 Not Found\n",
            "2023-06-16 20:38:02 ERROR 404: Not Found.\n",
            "\n",
            "--2023-06-16 20:38:02--  https://raw.githubusercontent.com/center-for-threat-informed-defense/adversary_emulation_library/master/apt29/Emulation_Plan/yaml/Apt29.yaml\n",
            "Resolving raw.githubusercontent.com (raw.githubusercontent.com)... 185.199.108.133, 185.199.109.133, 185.199.110.133, ...\n",
            "Connecting to raw.githubusercontent.com (raw.githubusercontent.com)|185.199.108.133|:443... connected.\n",
            "HTTP request sent, awaiting response... 404 Not Found\n",
            "2023-06-16 20:38:03 ERROR 404: Not Found.\n",
            "\n",
            "--2023-06-16 20:38:03--  https://raw.githubusercontent.com/center-for-threat-informed-defense/adversary_emulation_library/master/carbanak/Emulation_Plan/yaml/CARBANAK.yaml\n",
            "Resolving raw.githubusercontent.com (raw.githubusercontent.com)... 185.199.108.133, 185.199.109.133, 185.199.110.133, ...\n",
            "Connecting to raw.githubusercontent.com (raw.githubusercontent.com)|185.199.108.133|:443... connected.\n",
            "HTTP request sent, awaiting response... 404 Not Found\n",
            "2023-06-16 20:38:03 ERROR 404: Not Found.\n",
            "\n",
            "--2023-06-16 20:38:03--  https://raw.githubusercontent.com/center-for-threat-informed-defense/adversary_emulation_library/master/carbanak/Emulation_Plan/yaml/carbanak.yaml\n",
            "Resolving raw.githubusercontent.com (raw.githubusercontent.com)... 185.199.108.133, 185.199.109.133, 185.199.110.133, ...\n",
            "Connecting to raw.githubusercontent.com (raw.githubusercontent.com)|185.199.108.133|:443... connected.\n",
            "HTTP request sent, awaiting response... 404 Not Found\n",
            "2023-06-16 20:38:03 ERROR 404: Not Found.\n",
            "\n",
            "--2023-06-16 20:38:03--  https://raw.githubusercontent.com/center-for-threat-informed-defense/adversary_emulation_library/master/carbanak/Emulation_Plan/yaml/Carbanak.yaml\n",
            "Resolving raw.githubusercontent.com (raw.githubusercontent.com)... 185.199.108.133, 185.199.109.133, 185.199.110.133, ...\n",
            "Connecting to raw.githubusercontent.com (raw.githubusercontent.com)|185.199.108.133|:443... connected.\n",
            "HTTP request sent, awaiting response... 200 OK\n",
            "Length: 31520 (31K) [text/plain]\n",
            "Saving to: ‘ael_command/Carbanak.yaml.4’\n",
            "\n",
            "Carbanak.yaml.4     100%[===================>]  30.78K  --.-KB/s    in 0.002s  \n",
            "\n",
            "2023-06-16 20:38:05 (15.5 MB/s) - ‘ael_command/Carbanak.yaml.4’ saved [31520/31520]\n",
            "\n",
            "--2023-06-16 20:38:05--  https://raw.githubusercontent.com/center-for-threat-informed-defense/adversary_emulation_library/master/fin6/Emulation_Plan/yaml/FIN6.yaml\n",
            "Resolving raw.githubusercontent.com (raw.githubusercontent.com)... 185.199.108.133, 185.199.109.133, 185.199.110.133, ...\n",
            "Connecting to raw.githubusercontent.com (raw.githubusercontent.com)|185.199.108.133|:443... connected.\n",
            "HTTP request sent, awaiting response... 200 OK\n",
            "Length: 40373 (39K) [text/plain]\n",
            "Saving to: ‘ael_command/FIN6.yaml.4’\n",
            "\n",
            "FIN6.yaml.4         100%[===================>]  39.43K  --.-KB/s    in 0.003s  \n",
            "\n",
            "2023-06-16 20:38:05 (14.3 MB/s) - ‘ael_command/FIN6.yaml.4’ saved [40373/40373]\n",
            "\n",
            "--2023-06-16 20:38:05--  https://raw.githubusercontent.com/center-for-threat-informed-defense/adversary_emulation_library/master/fin6/Emulation_Plan/yaml/fin6.yaml\n",
            "Resolving raw.githubusercontent.com (raw.githubusercontent.com)... 185.199.108.133, 185.199.109.133, 185.199.110.133, ...\n",
            "Connecting to raw.githubusercontent.com (raw.githubusercontent.com)|185.199.108.133|:443... connected.\n",
            "HTTP request sent, awaiting response... 404 Not Found\n",
            "2023-06-16 20:38:05 ERROR 404: Not Found.\n",
            "\n",
            "--2023-06-16 20:38:06--  https://raw.githubusercontent.com/center-for-threat-informed-defense/adversary_emulation_library/master/fin6/Emulation_Plan/yaml/Fin6.yaml\n",
            "Resolving raw.githubusercontent.com (raw.githubusercontent.com)... 185.199.108.133, 185.199.109.133, 185.199.110.133, ...\n",
            "Connecting to raw.githubusercontent.com (raw.githubusercontent.com)|185.199.108.133|:443... connected.\n",
            "HTTP request sent, awaiting response... 404 Not Found\n",
            "2023-06-16 20:38:06 ERROR 404: Not Found.\n",
            "\n",
            "--2023-06-16 20:38:06--  https://raw.githubusercontent.com/center-for-threat-informed-defense/adversary_emulation_library/master/fin7/Emulation_Plan/yaml/FIN7.yaml\n",
            "Resolving raw.githubusercontent.com (raw.githubusercontent.com)... 185.199.108.133, 185.199.109.133, 185.199.110.133, ...\n",
            "Connecting to raw.githubusercontent.com (raw.githubusercontent.com)|185.199.108.133|:443... connected.\n",
            "HTTP request sent, awaiting response... 404 Not Found\n",
            "2023-06-16 20:38:06 ERROR 404: Not Found.\n",
            "\n",
            "--2023-06-16 20:38:06--  https://raw.githubusercontent.com/center-for-threat-informed-defense/adversary_emulation_library/master/fin7/Emulation_Plan/yaml/fin7.yaml\n",
            "Resolving raw.githubusercontent.com (raw.githubusercontent.com)... 185.199.108.133, 185.199.109.133, 185.199.110.133, ...\n",
            "Connecting to raw.githubusercontent.com (raw.githubusercontent.com)|185.199.108.133|:443... connected.\n",
            "HTTP request sent, awaiting response... 404 Not Found\n",
            "2023-06-16 20:38:07 ERROR 404: Not Found.\n",
            "\n",
            "--2023-06-16 20:38:07--  https://raw.githubusercontent.com/center-for-threat-informed-defense/adversary_emulation_library/master/fin7/Emulation_Plan/yaml/Fin7.yaml\n",
            "Resolving raw.githubusercontent.com (raw.githubusercontent.com)... 185.199.108.133, 185.199.109.133, 185.199.110.133, ...\n",
            "Connecting to raw.githubusercontent.com (raw.githubusercontent.com)|185.199.108.133|:443... connected.\n",
            "HTTP request sent, awaiting response... 200 OK\n",
            "Length: 12283 (12K) [text/plain]\n",
            "Saving to: ‘ael_command/Fin7.yaml.4’\n",
            "\n",
            "Fin7.yaml.4         100%[===================>]  12.00K  --.-KB/s    in 0.001s  \n",
            "\n",
            "2023-06-16 20:38:07 (15.3 MB/s) - ‘ael_command/Fin7.yaml.4’ saved [12283/12283]\n",
            "\n",
            "--2023-06-16 20:38:07--  https://raw.githubusercontent.com/center-for-threat-informed-defense/adversary_emulation_library/master/menuPass/Emulation_Plan/yaml/MENUPASS.yaml\n",
            "Resolving raw.githubusercontent.com (raw.githubusercontent.com)... 185.199.108.133, 185.199.109.133, 185.199.110.133, ...\n",
            "Connecting to raw.githubusercontent.com (raw.githubusercontent.com)|185.199.108.133|:443... connected.\n",
            "HTTP request sent, awaiting response... 404 Not Found\n",
            "2023-06-16 20:38:07 ERROR 404: Not Found.\n",
            "\n",
            "--2023-06-16 20:38:07--  https://raw.githubusercontent.com/center-for-threat-informed-defense/adversary_emulation_library/master/menuPass/Emulation_Plan/yaml/menupass.yaml\n",
            "Resolving raw.githubusercontent.com (raw.githubusercontent.com)... 185.199.108.133, 185.199.109.133, 185.199.110.133, ...\n",
            "Connecting to raw.githubusercontent.com (raw.githubusercontent.com)|185.199.108.133|:443... connected.\n",
            "HTTP request sent, awaiting response... 200 OK\n",
            "Length: 21126 (21K) [text/plain]\n",
            "Saving to: ‘ael_command/menupass.yaml.4’\n",
            "\n",
            "menupass.yaml.4     100%[===================>]  20.63K  --.-KB/s    in 0.001s  \n",
            "\n",
            "2023-06-16 20:38:08 (25.8 MB/s) - ‘ael_command/menupass.yaml.4’ saved [21126/21126]\n",
            "\n",
            "--2023-06-16 20:38:08--  https://raw.githubusercontent.com/center-for-threat-informed-defense/adversary_emulation_library/master/menuPass/Emulation_Plan/yaml/Menupass.yaml\n",
            "Resolving raw.githubusercontent.com (raw.githubusercontent.com)... 185.199.108.133, 185.199.109.133, 185.199.110.133, ...\n",
            "Connecting to raw.githubusercontent.com (raw.githubusercontent.com)|185.199.108.133|:443... connected.\n",
            "HTTP request sent, awaiting response... 404 Not Found\n",
            "2023-06-16 20:38:08 ERROR 404: Not Found.\n",
            "\n",
            "--2023-06-16 20:38:08--  https://raw.githubusercontent.com/center-for-threat-informed-defense/adversary_emulation_library/master/micro_emulation_plans/Emulation_Plan/yaml/MICRO_EMULATION_PLANS.yaml\n",
            "Resolving raw.githubusercontent.com (raw.githubusercontent.com)... 185.199.108.133, 185.199.109.133, 185.199.110.133, ...\n",
            "Connecting to raw.githubusercontent.com (raw.githubusercontent.com)|185.199.108.133|:443... connected.\n",
            "HTTP request sent, awaiting response... 404 Not Found\n",
            "2023-06-16 20:38:08 ERROR 404: Not Found.\n",
            "\n",
            "--2023-06-16 20:38:08--  https://raw.githubusercontent.com/center-for-threat-informed-defense/adversary_emulation_library/master/micro_emulation_plans/Emulation_Plan/yaml/micro_emulation_plans.yaml\n",
            "Resolving raw.githubusercontent.com (raw.githubusercontent.com)... 185.199.108.133, 185.199.109.133, 185.199.110.133, ...\n",
            "Connecting to raw.githubusercontent.com (raw.githubusercontent.com)|185.199.108.133|:443... connected.\n",
            "HTTP request sent, awaiting response... 404 Not Found\n",
            "2023-06-16 20:38:08 ERROR 404: Not Found.\n",
            "\n",
            "--2023-06-16 20:38:09--  https://raw.githubusercontent.com/center-for-threat-informed-defense/adversary_emulation_library/master/micro_emulation_plans/Emulation_Plan/yaml/Micro_emulation_plans.yaml\n",
            "Resolving raw.githubusercontent.com (raw.githubusercontent.com)... 185.199.108.133, 185.199.109.133, 185.199.110.133, ...\n",
            "Connecting to raw.githubusercontent.com (raw.githubusercontent.com)|185.199.108.133|:443... connected.\n",
            "HTTP request sent, awaiting response... 404 Not Found\n",
            "2023-06-16 20:38:09 ERROR 404: Not Found.\n",
            "\n",
            "--2023-06-16 20:38:09--  https://raw.githubusercontent.com/center-for-threat-informed-defense/adversary_emulation_library/master/oilrig/Emulation_Plan/yaml/OILRIG.yaml\n",
            "Resolving raw.githubusercontent.com (raw.githubusercontent.com)... 185.199.108.133, 185.199.109.133, 185.199.110.133, ...\n",
            "Connecting to raw.githubusercontent.com (raw.githubusercontent.com)|185.199.108.133|:443... connected.\n",
            "HTTP request sent, awaiting response... 404 Not Found\n",
            "2023-06-16 20:38:09 ERROR 404: Not Found.\n",
            "\n",
            "--2023-06-16 20:38:09--  https://raw.githubusercontent.com/center-for-threat-informed-defense/adversary_emulation_library/master/oilrig/Emulation_Plan/yaml/oilrig.yaml\n",
            "Resolving raw.githubusercontent.com (raw.githubusercontent.com)... 185.199.108.133, 185.199.109.133, 185.199.110.133, ...\n",
            "Connecting to raw.githubusercontent.com (raw.githubusercontent.com)|185.199.108.133|:443... connected.\n",
            "HTTP request sent, awaiting response... 200 OK\n",
            "Length: 29045 (28K) [text/plain]\n",
            "Saving to: ‘ael_command/oilrig.yaml.4’\n",
            "\n",
            "oilrig.yaml.4       100%[===================>]  28.36K  --.-KB/s    in 0.002s  \n",
            "\n",
            "2023-06-16 20:38:09 (15.8 MB/s) - ‘ael_command/oilrig.yaml.4’ saved [29045/29045]\n",
            "\n",
            "--2023-06-16 20:38:09--  https://raw.githubusercontent.com/center-for-threat-informed-defense/adversary_emulation_library/master/oilrig/Emulation_Plan/yaml/Oilrig.yaml\n",
            "Resolving raw.githubusercontent.com (raw.githubusercontent.com)... 185.199.108.133, 185.199.109.133, 185.199.110.133, ...\n",
            "Connecting to raw.githubusercontent.com (raw.githubusercontent.com)|185.199.108.133|:443... connected.\n",
            "HTTP request sent, awaiting response... 404 Not Found\n",
            "2023-06-16 20:38:10 ERROR 404: Not Found.\n",
            "\n",
            "--2023-06-16 20:38:10--  https://raw.githubusercontent.com/center-for-threat-informed-defense/adversary_emulation_library/master/resources/Emulation_Plan/yaml/RESOURCES.yaml\n",
            "Resolving raw.githubusercontent.com (raw.githubusercontent.com)... 185.199.108.133, 185.199.109.133, 185.199.110.133, ...\n",
            "Connecting to raw.githubusercontent.com (raw.githubusercontent.com)|185.199.108.133|:443... connected.\n",
            "HTTP request sent, awaiting response... 404 Not Found\n",
            "2023-06-16 20:38:10 ERROR 404: Not Found.\n",
            "\n",
            "--2023-06-16 20:38:10--  https://raw.githubusercontent.com/center-for-threat-informed-defense/adversary_emulation_library/master/resources/Emulation_Plan/yaml/resources.yaml\n",
            "Resolving raw.githubusercontent.com (raw.githubusercontent.com)... 185.199.108.133, 185.199.109.133, 185.199.110.133, ...\n",
            "Connecting to raw.githubusercontent.com (raw.githubusercontent.com)|185.199.108.133|:443... connected.\n",
            "HTTP request sent, awaiting response... 404 Not Found\n",
            "2023-06-16 20:38:10 ERROR 404: Not Found.\n",
            "\n",
            "--2023-06-16 20:38:11--  https://raw.githubusercontent.com/center-for-threat-informed-defense/adversary_emulation_library/master/resources/Emulation_Plan/yaml/Resources.yaml\n",
            "Resolving raw.githubusercontent.com (raw.githubusercontent.com)... 185.199.108.133, 185.199.109.133, 185.199.110.133, ...\n",
            "Connecting to raw.githubusercontent.com (raw.githubusercontent.com)|185.199.108.133|:443... connected.\n",
            "HTTP request sent, awaiting response... 404 Not Found\n",
            "2023-06-16 20:38:11 ERROR 404: Not Found.\n",
            "\n",
            "--2023-06-16 20:38:11--  https://raw.githubusercontent.com/center-for-threat-informed-defense/adversary_emulation_library/master/sandworm/Emulation_Plan/yaml/SANDWORM.yaml\n",
            "Resolving raw.githubusercontent.com (raw.githubusercontent.com)... 185.199.108.133, 185.199.109.133, 185.199.110.133, ...\n",
            "Connecting to raw.githubusercontent.com (raw.githubusercontent.com)|185.199.108.133|:443... connected.\n",
            "HTTP request sent, awaiting response... 404 Not Found\n",
            "2023-06-16 20:38:11 ERROR 404: Not Found.\n",
            "\n",
            "--2023-06-16 20:38:11--  https://raw.githubusercontent.com/center-for-threat-informed-defense/adversary_emulation_library/master/sandworm/Emulation_Plan/yaml/sandworm.yaml\n",
            "Resolving raw.githubusercontent.com (raw.githubusercontent.com)... 185.199.108.133, 185.199.109.133, 185.199.110.133, ...\n",
            "Connecting to raw.githubusercontent.com (raw.githubusercontent.com)|185.199.108.133|:443... connected.\n",
            "HTTP request sent, awaiting response... 200 OK\n",
            "Length: 38777 (38K) [text/plain]\n",
            "Saving to: ‘ael_command/sandworm.yaml.4’\n",
            "\n",
            "sandworm.yaml.4     100%[===================>]  37.87K  --.-KB/s    in 0.004s  \n",
            "\n",
            "2023-06-16 20:38:11 (9.85 MB/s) - ‘ael_command/sandworm.yaml.4’ saved [38777/38777]\n",
            "\n",
            "--2023-06-16 20:38:11--  https://raw.githubusercontent.com/center-for-threat-informed-defense/adversary_emulation_library/master/sandworm/Emulation_Plan/yaml/Sandworm.yaml\n",
            "Resolving raw.githubusercontent.com (raw.githubusercontent.com)... 185.199.108.133, 185.199.109.133, 185.199.110.133, ...\n",
            "Connecting to raw.githubusercontent.com (raw.githubusercontent.com)|185.199.108.133|:443... connected.\n",
            "HTTP request sent, awaiting response... 404 Not Found\n",
            "2023-06-16 20:38:12 ERROR 404: Not Found.\n",
            "\n",
            "--2023-06-16 20:38:12--  https://raw.githubusercontent.com/center-for-threat-informed-defense/adversary_emulation_library/master/structure/Emulation_Plan/yaml/STRUCTURE.yaml\n",
            "Resolving raw.githubusercontent.com (raw.githubusercontent.com)... 185.199.108.133, 185.199.109.133, 185.199.110.133, ...\n",
            "Connecting to raw.githubusercontent.com (raw.githubusercontent.com)|185.199.108.133|:443... connected.\n",
            "HTTP request sent, awaiting response... 404 Not Found\n",
            "2023-06-16 20:38:12 ERROR 404: Not Found.\n",
            "\n",
            "--2023-06-16 20:38:12--  https://raw.githubusercontent.com/center-for-threat-informed-defense/adversary_emulation_library/master/structure/Emulation_Plan/yaml/structure.yaml\n",
            "Resolving raw.githubusercontent.com (raw.githubusercontent.com)... 185.199.108.133, 185.199.109.133, 185.199.110.133, ...\n",
            "Connecting to raw.githubusercontent.com (raw.githubusercontent.com)|185.199.108.133|:443... connected.\n",
            "HTTP request sent, awaiting response... 404 Not Found\n",
            "2023-06-16 20:38:12 ERROR 404: Not Found.\n",
            "\n",
            "--2023-06-16 20:38:12--  https://raw.githubusercontent.com/center-for-threat-informed-defense/adversary_emulation_library/master/structure/Emulation_Plan/yaml/Structure.yaml\n",
            "Resolving raw.githubusercontent.com (raw.githubusercontent.com)... 185.199.108.133, 185.199.109.133, 185.199.110.133, ...\n",
            "Connecting to raw.githubusercontent.com (raw.githubusercontent.com)|185.199.108.133|:443... connected.\n",
            "HTTP request sent, awaiting response... 404 Not Found\n",
            "2023-06-16 20:38:13 ERROR 404: Not Found.\n",
            "\n",
            "--2023-06-16 20:38:13--  https://raw.githubusercontent.com/center-for-threat-informed-defense/adversary_emulation_library/master/wizard_spider/Emulation_Plan/yaml/WIZARD_SPIDER.yaml\n",
            "Resolving raw.githubusercontent.com (raw.githubusercontent.com)... 185.199.108.133, 185.199.109.133, 185.199.110.133, ...\n",
            "Connecting to raw.githubusercontent.com (raw.githubusercontent.com)|185.199.108.133|:443... connected.\n",
            "HTTP request sent, awaiting response... 404 Not Found\n",
            "2023-06-16 20:38:13 ERROR 404: Not Found.\n",
            "\n",
            "--2023-06-16 20:38:13--  https://raw.githubusercontent.com/center-for-threat-informed-defense/adversary_emulation_library/master/wizard_spider/Emulation_Plan/yaml/wizard_spider.yaml\n",
            "Resolving raw.githubusercontent.com (raw.githubusercontent.com)... 185.199.108.133, 185.199.109.133, 185.199.110.133, ...\n",
            "Connecting to raw.githubusercontent.com (raw.githubusercontent.com)|185.199.108.133|:443... connected.\n",
            "HTTP request sent, awaiting response... 200 OK\n",
            "Length: 35945 (35K) [text/plain]\n",
            "Saving to: ‘ael_command/wizard_spider.yaml.4’\n",
            "\n",
            "wizard_spider.yaml. 100%[===================>]  35.10K  --.-KB/s    in 0s      \n",
            "\n",
            "2023-06-16 20:38:13 (90.7 MB/s) - ‘ael_command/wizard_spider.yaml.4’ saved [35945/35945]\n",
            "\n",
            "--2023-06-16 20:38:13--  https://raw.githubusercontent.com/center-for-threat-informed-defense/adversary_emulation_library/master/wizard_spider/Emulation_Plan/yaml/Wizard_spider.yaml\n",
            "Resolving raw.githubusercontent.com (raw.githubusercontent.com)... 185.199.108.133, 185.199.109.133, 185.199.110.133, ...\n",
            "Connecting to raw.githubusercontent.com (raw.githubusercontent.com)|185.199.108.133|:443... connected.\n",
            "HTTP request sent, awaiting response... 404 Not Found\n",
            "2023-06-16 20:38:14 ERROR 404: Not Found.\n",
            "\n",
            "--2023-06-16 20:38:14--  https://raw.githubusercontent.com/center-for-threat-informed-defense/adversary_emulation_library/master/.gitignore/Emulation_Plan/yaml/.GITIGNORE.yaml\n",
            "Resolving raw.githubusercontent.com (raw.githubusercontent.com)... 185.199.108.133, 185.199.109.133, 185.199.110.133, ...\n",
            "Connecting to raw.githubusercontent.com (raw.githubusercontent.com)|185.199.108.133|:443... connected.\n",
            "HTTP request sent, awaiting response... 404 Not Found\n",
            "2023-06-16 20:38:14 ERROR 404: Not Found.\n",
            "\n",
            "--2023-06-16 20:38:14--  https://raw.githubusercontent.com/center-for-threat-informed-defense/adversary_emulation_library/master/.gitignore/Emulation_Plan/yaml/.gitignore.yaml\n",
            "Resolving raw.githubusercontent.com (raw.githubusercontent.com)... 185.199.108.133, 185.199.109.133, 185.199.110.133, ...\n",
            "Connecting to raw.githubusercontent.com (raw.githubusercontent.com)|185.199.108.133|:443... connected.\n",
            "HTTP request sent, awaiting response... 404 Not Found\n",
            "2023-06-16 20:38:14 ERROR 404: Not Found.\n",
            "\n",
            "--2023-06-16 20:38:14--  https://raw.githubusercontent.com/center-for-threat-informed-defense/adversary_emulation_library/master/.gitignore/Emulation_Plan/yaml/.gitignore.yaml\n",
            "Resolving raw.githubusercontent.com (raw.githubusercontent.com)... 185.199.108.133, 185.199.109.133, 185.199.110.133, ...\n",
            "Connecting to raw.githubusercontent.com (raw.githubusercontent.com)|185.199.108.133|:443... connected.\n",
            "HTTP request sent, awaiting response... 404 Not Found\n",
            "2023-06-16 20:38:15 ERROR 404: Not Found.\n",
            "\n",
            "--2023-06-16 20:38:15--  https://raw.githubusercontent.com/center-for-threat-informed-defense/adversary_emulation_library/master/CONTRIBUTING.md/Emulation_Plan/yaml/CONTRIBUTING.MD.yaml\n",
            "Resolving raw.githubusercontent.com (raw.githubusercontent.com)... 185.199.108.133, 185.199.109.133, 185.199.110.133, ...\n",
            "Connecting to raw.githubusercontent.com (raw.githubusercontent.com)|185.199.108.133|:443... connected.\n",
            "HTTP request sent, awaiting response... 404 Not Found\n",
            "2023-06-16 20:38:15 ERROR 404: Not Found.\n",
            "\n",
            "--2023-06-16 20:38:15--  https://raw.githubusercontent.com/center-for-threat-informed-defense/adversary_emulation_library/master/CONTRIBUTING.md/Emulation_Plan/yaml/contributing.md.yaml\n",
            "Resolving raw.githubusercontent.com (raw.githubusercontent.com)... 185.199.108.133, 185.199.109.133, 185.199.110.133, ...\n",
            "Connecting to raw.githubusercontent.com (raw.githubusercontent.com)|185.199.108.133|:443... connected.\n",
            "HTTP request sent, awaiting response... 404 Not Found\n",
            "2023-06-16 20:38:16 ERROR 404: Not Found.\n",
            "\n",
            "--2023-06-16 20:38:16--  https://raw.githubusercontent.com/center-for-threat-informed-defense/adversary_emulation_library/master/CONTRIBUTING.md/Emulation_Plan/yaml/Contributing.md.yaml\n",
            "Resolving raw.githubusercontent.com (raw.githubusercontent.com)... 185.199.108.133, 185.199.109.133, 185.199.110.133, ...\n",
            "Connecting to raw.githubusercontent.com (raw.githubusercontent.com)|185.199.108.133|:443... connected.\n",
            "HTTP request sent, awaiting response... 404 Not Found\n",
            "2023-06-16 20:38:16 ERROR 404: Not Found.\n",
            "\n",
            "--2023-06-16 20:38:16--  https://raw.githubusercontent.com/center-for-threat-informed-defense/adversary_emulation_library/master/LICENSE/Emulation_Plan/yaml/LICENSE.yaml\n",
            "Resolving raw.githubusercontent.com (raw.githubusercontent.com)... 185.199.108.133, 185.199.109.133, 185.199.110.133, ...\n",
            "Connecting to raw.githubusercontent.com (raw.githubusercontent.com)|185.199.108.133|:443... connected.\n",
            "HTTP request sent, awaiting response... 404 Not Found\n",
            "2023-06-16 20:38:16 ERROR 404: Not Found.\n",
            "\n",
            "--2023-06-16 20:38:16--  https://raw.githubusercontent.com/center-for-threat-informed-defense/adversary_emulation_library/master/LICENSE/Emulation_Plan/yaml/license.yaml\n",
            "Resolving raw.githubusercontent.com (raw.githubusercontent.com)... 185.199.108.133, 185.199.109.133, 185.199.110.133, ...\n",
            "Connecting to raw.githubusercontent.com (raw.githubusercontent.com)|185.199.108.133|:443... connected.\n",
            "HTTP request sent, awaiting response... 404 Not Found\n",
            "2023-06-16 20:38:16 ERROR 404: Not Found.\n",
            "\n",
            "--2023-06-16 20:38:17--  https://raw.githubusercontent.com/center-for-threat-informed-defense/adversary_emulation_library/master/LICENSE/Emulation_Plan/yaml/License.yaml\n",
            "Resolving raw.githubusercontent.com (raw.githubusercontent.com)... 185.199.108.133, 185.199.109.133, 185.199.110.133, ...\n",
            "Connecting to raw.githubusercontent.com (raw.githubusercontent.com)|185.199.108.133|:443... connected.\n",
            "HTTP request sent, awaiting response... 404 Not Found\n",
            "2023-06-16 20:38:17 ERROR 404: Not Found.\n",
            "\n",
            "--2023-06-16 20:38:17--  https://raw.githubusercontent.com/center-for-threat-informed-defense/adversary_emulation_library/master/README.md/Emulation_Plan/yaml/README.MD.yaml\n",
            "Resolving raw.githubusercontent.com (raw.githubusercontent.com)... 185.199.108.133, 185.199.109.133, 185.199.110.133, ...\n",
            "Connecting to raw.githubusercontent.com (raw.githubusercontent.com)|185.199.108.133|:443... connected.\n",
            "HTTP request sent, awaiting response... 404 Not Found\n",
            "2023-06-16 20:38:17 ERROR 404: Not Found.\n",
            "\n",
            "--2023-06-16 20:38:17--  https://raw.githubusercontent.com/center-for-threat-informed-defense/adversary_emulation_library/master/README.md/Emulation_Plan/yaml/readme.md.yaml\n",
            "Resolving raw.githubusercontent.com (raw.githubusercontent.com)... 185.199.108.133, 185.199.109.133, 185.199.110.133, ...\n",
            "Connecting to raw.githubusercontent.com (raw.githubusercontent.com)|185.199.108.133|:443... connected.\n",
            "HTTP request sent, awaiting response... 404 Not Found\n",
            "2023-06-16 20:38:17 ERROR 404: Not Found.\n",
            "\n",
            "--2023-06-16 20:38:17--  https://raw.githubusercontent.com/center-for-threat-informed-defense/adversary_emulation_library/master/README.md/Emulation_Plan/yaml/Readme.md.yaml\n",
            "Resolving raw.githubusercontent.com (raw.githubusercontent.com)... 185.199.108.133, 185.199.109.133, 185.199.110.133, ...\n",
            "Connecting to raw.githubusercontent.com (raw.githubusercontent.com)|185.199.108.133|:443... connected.\n",
            "HTTP request sent, awaiting response... 404 Not Found\n",
            "2023-06-16 20:38:18 ERROR 404: Not Found.\n",
            "\n"
          ]
        }
      ],
      "source": [
        "# Atomic Red Team\n",
        "!wget https://raw.githubusercontent.com/redcanaryco/atomic-red-team/master/atomics/Indexes/windows-index.yaml\n",
        "\n",
        "# Adversary Emulation Library\n",
        "for file_name in ac3_files_name:\n",
        "  !wget -P ac3_command https://raw.githubusercontent.com/trellix-enterprise/ac3-threat-sightings/main/sightings/{file_name}\n",
        "\n",
        "# AC3 Threat Sightings\n",
        "for apt_name in AEL_apt_name:\n",
        "  !wget -P ael_command https://raw.githubusercontent.com/center-for-threat-informed-defense/adversary_emulation_library/master/{apt_name}/Emulation_Plan/yaml/{apt_name.upper()}.yaml\n",
        "  !wget -P ael_command https://raw.githubusercontent.com/center-for-threat-informed-defense/adversary_emulation_library/master/{apt_name}/Emulation_Plan/yaml/{apt_name.lower()}.yaml\n",
        "  !wget -P ael_command https://raw.githubusercontent.com/center-for-threat-informed-defense/adversary_emulation_library/master/{apt_name}/Emulation_Plan/yaml/{apt_name.capitalize()}.yaml"
      ]
    },
    {
      "cell_type": "markdown",
      "source": [
        "### Extract userful data from yaml file\n",
        "- 將 yaml 檔案中的指令、Tactics 抓出來並轉換成 dataframe 方便後續使用"
      ],
      "metadata": {
        "id": "hfCMiGlAwUx3"
      }
    },
    {
      "cell_type": "code",
      "source": [
        "import os\n",
        "import yaml\n",
        "import pandas as pd"
      ],
      "metadata": {
        "id": "V2Un9ridvL-E"
      },
      "execution_count": 4,
      "outputs": []
    },
    {
      "cell_type": "code",
      "source": [
        "df = pd.DataFrame()"
      ],
      "metadata": {
        "id": "SSYPP2-YxnGE"
      },
      "execution_count": 5,
      "outputs": []
    },
    {
      "cell_type": "code",
      "source": [
        "cmd_line_dict = []\n",
        "\n",
        "with open('windows-index.yaml', \"r\") as stream:\n",
        "  atomic_data = yaml.load(stream, Loader=yaml.Loader)\n",
        "  for tactic in atomic_data:\n",
        "    for technique in atomic_data[tactic]:\n",
        "      if 'atomic_tests' in atomic_data[tactic][technique]:\n",
        "        for cmd_num in range(len(atomic_data[tactic][technique]['atomic_tests'])):\n",
        "          if 'executor' in atomic_data[tactic][technique]['atomic_tests'][cmd_num]:\n",
        "            if 'command' in atomic_data[tactic][technique]['atomic_tests'][cmd_num]['executor']:\n",
        "              cmd_line = {tactic: atomic_data[tactic][technique]['atomic_tests'][cmd_num]['executor']['command']}\n",
        "              cmd_line_dict.append(cmd_line)\n",
        "\n",
        "for root, dirs, files in os.walk('ac3_command', topdown=False):\n",
        "  for name in files:\n",
        "    full_name = 'ac3_command/' + name\n",
        "    with open(full_name, \"r\") as stream:\n",
        "      ac3_data = yaml.load(stream, Loader=yaml.Loader)\n",
        "      for sighting in ac3_data['threatSightings']:\n",
        "        if 'behaviors' in sighting:\n",
        "          behaviors = sighting['behaviors']\n",
        "          for behavior in behaviors:\n",
        "            if 'processes' in behavior and 'att&ck' in behavior:\n",
        "              processes = behavior['processes']\n",
        "              for process in processes:\n",
        "                if 'cmdLine' in process:\n",
        "                  cmdLine = process['cmdLine']\n",
        "                  for cmd in cmdLine:\n",
        "                    for tactic in behavior['att&ck']:\n",
        "                      cmd_line = {tactic: cmd}\n",
        "                      cmd_line_dict.append(cmd_line)\n",
        "\n",
        "for root, dirs, files in os.walk('ael_command', topdown=False):\n",
        "  for name in files:\n",
        "    full_name = 'ael_command/' + name\n",
        "    with open(full_name, \"r\") as stream:\n",
        "      ael_data = yaml.load(stream, Loader=yaml.Loader)\n",
        "    for item in ael_data:\n",
        "      if 'executors' in item:\n",
        "        for executor in item['executors']:\n",
        "          if 'command' in executor:\n",
        "            cmd_line = {item['tactic']: executor['command']}\n",
        "            cmd_line_dict.append(cmd_line)\n",
        "      else:\n",
        "        platforms = item.get('platforms', {})\n",
        "        if 'windows' in platforms:\n",
        "          windows_platform = platforms['windows']\n",
        "          for shell in ['cmd', 'powershell', 'proc', 'psh']:\n",
        "            if shell in windows_platform:\n",
        "              cmd_line = {item['tactic']: windows_platform[shell]['command']}\n",
        "              cmd_line_dict.append(cmd_line)\n",
        "              break\n",
        "        if 'linux' in platforms:\n",
        "          linux_platform = platforms['linux']\n",
        "          for shell in ['sh', 'proc']:\n",
        "            if shell in linux_platform:\n",
        "              cmd_line = {item['tactic']: linux_platform[shell]['command']}\n",
        "              cmd_line_dict.append(cmd_line)\n",
        "              break"
      ],
      "metadata": {
        "id": "V1EvDGcODw6V"
      },
      "execution_count": 6,
      "outputs": []
    },
    {
      "cell_type": "code",
      "source": [
        "cmd_line_dict_temp = []\n",
        "cmd_line_dict_temp = cmd_line_dict\n",
        "cmd_line_dict = []"
      ],
      "metadata": {
        "id": "4-kgELBApBnw"
      },
      "execution_count": 7,
      "outputs": []
    },
    {
      "cell_type": "code",
      "source": [
        "for dictionary in cmd_line_dict_temp:\n",
        "  new_dict = {}\n",
        "  for k, v in dictionary.items():\n",
        "    new_key = k.lower()\n",
        "    new_key = new_key.replace(\"-\", \"\").replace(\" \", \"\").replace(\"oscredentialdumping\", \"credentialaccess\").replace(\"defensiveevasion\", \"defenseevasion\").replace(\"stagecapabilities\", \"resourcedevelopment\").replace(\"credentialdumping\", \"credentialaccess\")\n",
        "    if new_key == 'hijackexecutionflowdllsearchorderhijacking' or new_key == 'discovery/execution':\n",
        "      continue\n",
        "    new_dict[new_key] = v\n",
        "    cmd_line_dict.append(new_dict)"
      ],
      "metadata": {
        "id": "ZYf3nDIGumAz"
      },
      "execution_count": 8,
      "outputs": []
    },
    {
      "cell_type": "code",
      "source": [
        "print(len(cmd_line_dict))"
      ],
      "metadata": {
        "colab": {
          "base_uri": "https://localhost:8080/"
        },
        "id": "USZVpWNGFqVp",
        "outputId": "d873807e-a1a3-42f5-ec5f-1b564cf97001"
      },
      "execution_count": 9,
      "outputs": [
        {
          "output_type": "stream",
          "name": "stdout",
          "text": [
            "5177\n"
          ]
        }
      ]
    },
    {
      "cell_type": "markdown",
      "source": [
        "- 找出重複的 key 並對格式做統一"
      ],
      "metadata": {
        "id": "uMOi81GOC8SM"
      }
    },
    {
      "cell_type": "code",
      "source": [
        "list_key = []\n",
        "for i in cmd_line_dict:\n",
        "  list_key.append(list(i.keys()))\n",
        "\n",
        "keys_set = set()\n",
        "for d in cmd_line_dict:\n",
        "    keys_set.update(d.keys())\n",
        "keys_list = list(keys_set)\n",
        "print(keys_list)\n",
        "print(len(keys_list))"
      ],
      "metadata": {
        "id": "Dp0Yjh_pl1my",
        "colab": {
          "base_uri": "https://localhost:8080/"
        },
        "outputId": "e16ef1fd-7858-417b-9146-f0de314b47b2"
      },
      "execution_count": 10,
      "outputs": [
        {
          "output_type": "stream",
          "name": "stdout",
          "text": [
            "['defenseevasion', 'commandandcontrol', 'execution', 'persistence', 'initialaccess', 'collection', 'reconnaissance', 'impact', 'discovery', 'lateralmovement', 'credentialaccess', 'exfiltration', 'privilegeescalation', 'resourcedevelopment']\n",
            "14\n"
          ]
        }
      ]
    },
    {
      "cell_type": "code",
      "source": [
        "data = []\n",
        "for d in cmd_line_dict:\n",
        "  for key, value in d.items():\n",
        "    data.append({'tactic': key, 'command': value})\n",
        "\n",
        "df = pd.DataFrame(data)\n",
        "df = df.drop_duplicates(subset=['command'])\n",
        "df"
      ],
      "metadata": {
        "colab": {
          "base_uri": "https://localhost:8080/",
          "height": 424
        },
        "id": "OzjYPtA3Eetf",
        "outputId": "59a34874-e752-4368-e2bd-23f8c2376c11"
      },
      "execution_count": 11,
      "outputs": [
        {
          "output_type": "execute_result",
          "data": {
            "text/plain": [
              "                tactic                                            command\n",
              "0       defenseevasion  rundll32.exe javascript:\"\\..\\mshtml,RunHTMLApp...\n",
              "1       defenseevasion  rundll32 vbscript:\"\\..\\mshtml,RunHTMLApplicati...\n",
              "2       defenseevasion  rundll32 vbscript:\"\\..\\mshtml,#135 \"+String(Cr...\n",
              "3       defenseevasion  rundll32.exe advpack.dll,LaunchINFSection #{in...\n",
              "4       defenseevasion  rundll32.exe ieadvpack.dll,LaunchINFSection #{...\n",
              "...                ...                                                ...\n",
              "4376        collection  try{\\n  if (!(test-path -path \"C:\\Windows\\Temp...\n",
              "4377      exfiltration  $err = $(net use y: #{onedrive.url} /user:#{on...\n",
              "4378            impact  . .\\wipe.ps1;\\nwipe \"m.exe\";\\nwipe \"C:\\Windows...\n",
              "4379  credentialaccess  klist purge;\\n. .\\Invoke-Mimikatz.ps1;\\ninvoke...\n",
              "4380       persistence                         Restart-Computer -Force;\\n\n",
              "\n",
              "[1486 rows x 2 columns]"
            ],
            "text/html": [
              "\n",
              "  <div id=\"df-a42215ea-8aa0-4273-8123-c26ad1b04fb5\">\n",
              "    <div class=\"colab-df-container\">\n",
              "      <div>\n",
              "<style scoped>\n",
              "    .dataframe tbody tr th:only-of-type {\n",
              "        vertical-align: middle;\n",
              "    }\n",
              "\n",
              "    .dataframe tbody tr th {\n",
              "        vertical-align: top;\n",
              "    }\n",
              "\n",
              "    .dataframe thead th {\n",
              "        text-align: right;\n",
              "    }\n",
              "</style>\n",
              "<table border=\"1\" class=\"dataframe\">\n",
              "  <thead>\n",
              "    <tr style=\"text-align: right;\">\n",
              "      <th></th>\n",
              "      <th>tactic</th>\n",
              "      <th>command</th>\n",
              "    </tr>\n",
              "  </thead>\n",
              "  <tbody>\n",
              "    <tr>\n",
              "      <th>0</th>\n",
              "      <td>defenseevasion</td>\n",
              "      <td>rundll32.exe javascript:\"\\..\\mshtml,RunHTMLApp...</td>\n",
              "    </tr>\n",
              "    <tr>\n",
              "      <th>1</th>\n",
              "      <td>defenseevasion</td>\n",
              "      <td>rundll32 vbscript:\"\\..\\mshtml,RunHTMLApplicati...</td>\n",
              "    </tr>\n",
              "    <tr>\n",
              "      <th>2</th>\n",
              "      <td>defenseevasion</td>\n",
              "      <td>rundll32 vbscript:\"\\..\\mshtml,#135 \"+String(Cr...</td>\n",
              "    </tr>\n",
              "    <tr>\n",
              "      <th>3</th>\n",
              "      <td>defenseevasion</td>\n",
              "      <td>rundll32.exe advpack.dll,LaunchINFSection #{in...</td>\n",
              "    </tr>\n",
              "    <tr>\n",
              "      <th>4</th>\n",
              "      <td>defenseevasion</td>\n",
              "      <td>rundll32.exe ieadvpack.dll,LaunchINFSection #{...</td>\n",
              "    </tr>\n",
              "    <tr>\n",
              "      <th>...</th>\n",
              "      <td>...</td>\n",
              "      <td>...</td>\n",
              "    </tr>\n",
              "    <tr>\n",
              "      <th>4376</th>\n",
              "      <td>collection</td>\n",
              "      <td>try{\\n  if (!(test-path -path \"C:\\Windows\\Temp...</td>\n",
              "    </tr>\n",
              "    <tr>\n",
              "      <th>4377</th>\n",
              "      <td>exfiltration</td>\n",
              "      <td>$err = $(net use y: #{onedrive.url} /user:#{on...</td>\n",
              "    </tr>\n",
              "    <tr>\n",
              "      <th>4378</th>\n",
              "      <td>impact</td>\n",
              "      <td>. .\\wipe.ps1;\\nwipe \"m.exe\";\\nwipe \"C:\\Windows...</td>\n",
              "    </tr>\n",
              "    <tr>\n",
              "      <th>4379</th>\n",
              "      <td>credentialaccess</td>\n",
              "      <td>klist purge;\\n. .\\Invoke-Mimikatz.ps1;\\ninvoke...</td>\n",
              "    </tr>\n",
              "    <tr>\n",
              "      <th>4380</th>\n",
              "      <td>persistence</td>\n",
              "      <td>Restart-Computer -Force;\\n</td>\n",
              "    </tr>\n",
              "  </tbody>\n",
              "</table>\n",
              "<p>1486 rows × 2 columns</p>\n",
              "</div>\n",
              "      <button class=\"colab-df-convert\" onclick=\"convertToInteractive('df-a42215ea-8aa0-4273-8123-c26ad1b04fb5')\"\n",
              "              title=\"Convert this dataframe to an interactive table.\"\n",
              "              style=\"display:none;\">\n",
              "        \n",
              "  <svg xmlns=\"http://www.w3.org/2000/svg\" height=\"24px\"viewBox=\"0 0 24 24\"\n",
              "       width=\"24px\">\n",
              "    <path d=\"M0 0h24v24H0V0z\" fill=\"none\"/>\n",
              "    <path d=\"M18.56 5.44l.94 2.06.94-2.06 2.06-.94-2.06-.94-.94-2.06-.94 2.06-2.06.94zm-11 1L8.5 8.5l.94-2.06 2.06-.94-2.06-.94L8.5 2.5l-.94 2.06-2.06.94zm10 10l.94 2.06.94-2.06 2.06-.94-2.06-.94-.94-2.06-.94 2.06-2.06.94z\"/><path d=\"M17.41 7.96l-1.37-1.37c-.4-.4-.92-.59-1.43-.59-.52 0-1.04.2-1.43.59L10.3 9.45l-7.72 7.72c-.78.78-.78 2.05 0 2.83L4 21.41c.39.39.9.59 1.41.59.51 0 1.02-.2 1.41-.59l7.78-7.78 2.81-2.81c.8-.78.8-2.07 0-2.86zM5.41 20L4 18.59l7.72-7.72 1.47 1.35L5.41 20z\"/>\n",
              "  </svg>\n",
              "      </button>\n",
              "      \n",
              "  <style>\n",
              "    .colab-df-container {\n",
              "      display:flex;\n",
              "      flex-wrap:wrap;\n",
              "      gap: 12px;\n",
              "    }\n",
              "\n",
              "    .colab-df-convert {\n",
              "      background-color: #E8F0FE;\n",
              "      border: none;\n",
              "      border-radius: 50%;\n",
              "      cursor: pointer;\n",
              "      display: none;\n",
              "      fill: #1967D2;\n",
              "      height: 32px;\n",
              "      padding: 0 0 0 0;\n",
              "      width: 32px;\n",
              "    }\n",
              "\n",
              "    .colab-df-convert:hover {\n",
              "      background-color: #E2EBFA;\n",
              "      box-shadow: 0px 1px 2px rgba(60, 64, 67, 0.3), 0px 1px 3px 1px rgba(60, 64, 67, 0.15);\n",
              "      fill: #174EA6;\n",
              "    }\n",
              "\n",
              "    [theme=dark] .colab-df-convert {\n",
              "      background-color: #3B4455;\n",
              "      fill: #D2E3FC;\n",
              "    }\n",
              "\n",
              "    [theme=dark] .colab-df-convert:hover {\n",
              "      background-color: #434B5C;\n",
              "      box-shadow: 0px 1px 3px 1px rgba(0, 0, 0, 0.15);\n",
              "      filter: drop-shadow(0px 1px 2px rgba(0, 0, 0, 0.3));\n",
              "      fill: #FFFFFF;\n",
              "    }\n",
              "  </style>\n",
              "\n",
              "      <script>\n",
              "        const buttonEl =\n",
              "          document.querySelector('#df-a42215ea-8aa0-4273-8123-c26ad1b04fb5 button.colab-df-convert');\n",
              "        buttonEl.style.display =\n",
              "          google.colab.kernel.accessAllowed ? 'block' : 'none';\n",
              "\n",
              "        async function convertToInteractive(key) {\n",
              "          const element = document.querySelector('#df-a42215ea-8aa0-4273-8123-c26ad1b04fb5');\n",
              "          const dataTable =\n",
              "            await google.colab.kernel.invokeFunction('convertToInteractive',\n",
              "                                                     [key], {});\n",
              "          if (!dataTable) return;\n",
              "\n",
              "          const docLinkHtml = 'Like what you see? Visit the ' +\n",
              "            '<a target=\"_blank\" href=https://colab.research.google.com/notebooks/data_table.ipynb>data table notebook</a>'\n",
              "            + ' to learn more about interactive tables.';\n",
              "          element.innerHTML = '';\n",
              "          dataTable['output_type'] = 'display_data';\n",
              "          await google.colab.output.renderOutput(dataTable, element);\n",
              "          const docLink = document.createElement('div');\n",
              "          docLink.innerHTML = docLinkHtml;\n",
              "          element.appendChild(docLink);\n",
              "        }\n",
              "      </script>\n",
              "    </div>\n",
              "  </div>\n",
              "  "
            ]
          },
          "metadata": {},
          "execution_count": 11
        }
      ]
    },
    {
      "cell_type": "markdown",
      "source": [
        "### Label Encoding"
      ],
      "metadata": {
        "id": "OZODuaiON6lO"
      }
    },
    {
      "cell_type": "code",
      "source": [
        "from sklearn.preprocessing import LabelEncoder\n",
        "\n",
        "labelencoder = LabelEncoder()\n",
        "le_df = df\n",
        "le_df['tactic'] = labelencoder.fit_transform(df['tactic'])\n",
        "le_df = le_df.drop_duplicates(keep='first')\n",
        "le_df"
      ],
      "metadata": {
        "colab": {
          "base_uri": "https://localhost:8080/",
          "height": 424
        },
        "id": "dwvlG-HYGawr",
        "outputId": "9b17d0df-6004-4450-ec11-fa4c2bc4fb78"
      },
      "execution_count": 12,
      "outputs": [
        {
          "output_type": "execute_result",
          "data": {
            "text/plain": [
              "      tactic                                            command\n",
              "0          3  rundll32.exe javascript:\"\\..\\mshtml,RunHTMLApp...\n",
              "1          3  rundll32 vbscript:\"\\..\\mshtml,RunHTMLApplicati...\n",
              "2          3  rundll32 vbscript:\"\\..\\mshtml,#135 \"+String(Cr...\n",
              "3          3  rundll32.exe advpack.dll,LaunchINFSection #{in...\n",
              "4          3  rundll32.exe ieadvpack.dll,LaunchINFSection #{...\n",
              "...      ...                                                ...\n",
              "4376       0  try{\\n  if (!(test-path -path \"C:\\Windows\\Temp...\n",
              "4377       6  $err = $(net use y: #{onedrive.url} /user:#{on...\n",
              "4378       7  . .\\wipe.ps1;\\nwipe \"m.exe\";\\nwipe \"C:\\Windows...\n",
              "4379       2  klist purge;\\n. .\\Invoke-Mimikatz.ps1;\\ninvoke...\n",
              "4380      10                         Restart-Computer -Force;\\n\n",
              "\n",
              "[1486 rows x 2 columns]"
            ],
            "text/html": [
              "\n",
              "  <div id=\"df-73bc55c6-de00-4dd5-bc67-e879f10d5f02\">\n",
              "    <div class=\"colab-df-container\">\n",
              "      <div>\n",
              "<style scoped>\n",
              "    .dataframe tbody tr th:only-of-type {\n",
              "        vertical-align: middle;\n",
              "    }\n",
              "\n",
              "    .dataframe tbody tr th {\n",
              "        vertical-align: top;\n",
              "    }\n",
              "\n",
              "    .dataframe thead th {\n",
              "        text-align: right;\n",
              "    }\n",
              "</style>\n",
              "<table border=\"1\" class=\"dataframe\">\n",
              "  <thead>\n",
              "    <tr style=\"text-align: right;\">\n",
              "      <th></th>\n",
              "      <th>tactic</th>\n",
              "      <th>command</th>\n",
              "    </tr>\n",
              "  </thead>\n",
              "  <tbody>\n",
              "    <tr>\n",
              "      <th>0</th>\n",
              "      <td>3</td>\n",
              "      <td>rundll32.exe javascript:\"\\..\\mshtml,RunHTMLApp...</td>\n",
              "    </tr>\n",
              "    <tr>\n",
              "      <th>1</th>\n",
              "      <td>3</td>\n",
              "      <td>rundll32 vbscript:\"\\..\\mshtml,RunHTMLApplicati...</td>\n",
              "    </tr>\n",
              "    <tr>\n",
              "      <th>2</th>\n",
              "      <td>3</td>\n",
              "      <td>rundll32 vbscript:\"\\..\\mshtml,#135 \"+String(Cr...</td>\n",
              "    </tr>\n",
              "    <tr>\n",
              "      <th>3</th>\n",
              "      <td>3</td>\n",
              "      <td>rundll32.exe advpack.dll,LaunchINFSection #{in...</td>\n",
              "    </tr>\n",
              "    <tr>\n",
              "      <th>4</th>\n",
              "      <td>3</td>\n",
              "      <td>rundll32.exe ieadvpack.dll,LaunchINFSection #{...</td>\n",
              "    </tr>\n",
              "    <tr>\n",
              "      <th>...</th>\n",
              "      <td>...</td>\n",
              "      <td>...</td>\n",
              "    </tr>\n",
              "    <tr>\n",
              "      <th>4376</th>\n",
              "      <td>0</td>\n",
              "      <td>try{\\n  if (!(test-path -path \"C:\\Windows\\Temp...</td>\n",
              "    </tr>\n",
              "    <tr>\n",
              "      <th>4377</th>\n",
              "      <td>6</td>\n",
              "      <td>$err = $(net use y: #{onedrive.url} /user:#{on...</td>\n",
              "    </tr>\n",
              "    <tr>\n",
              "      <th>4378</th>\n",
              "      <td>7</td>\n",
              "      <td>. .\\wipe.ps1;\\nwipe \"m.exe\";\\nwipe \"C:\\Windows...</td>\n",
              "    </tr>\n",
              "    <tr>\n",
              "      <th>4379</th>\n",
              "      <td>2</td>\n",
              "      <td>klist purge;\\n. .\\Invoke-Mimikatz.ps1;\\ninvoke...</td>\n",
              "    </tr>\n",
              "    <tr>\n",
              "      <th>4380</th>\n",
              "      <td>10</td>\n",
              "      <td>Restart-Computer -Force;\\n</td>\n",
              "    </tr>\n",
              "  </tbody>\n",
              "</table>\n",
              "<p>1486 rows × 2 columns</p>\n",
              "</div>\n",
              "      <button class=\"colab-df-convert\" onclick=\"convertToInteractive('df-73bc55c6-de00-4dd5-bc67-e879f10d5f02')\"\n",
              "              title=\"Convert this dataframe to an interactive table.\"\n",
              "              style=\"display:none;\">\n",
              "        \n",
              "  <svg xmlns=\"http://www.w3.org/2000/svg\" height=\"24px\"viewBox=\"0 0 24 24\"\n",
              "       width=\"24px\">\n",
              "    <path d=\"M0 0h24v24H0V0z\" fill=\"none\"/>\n",
              "    <path d=\"M18.56 5.44l.94 2.06.94-2.06 2.06-.94-2.06-.94-.94-2.06-.94 2.06-2.06.94zm-11 1L8.5 8.5l.94-2.06 2.06-.94-2.06-.94L8.5 2.5l-.94 2.06-2.06.94zm10 10l.94 2.06.94-2.06 2.06-.94-2.06-.94-.94-2.06-.94 2.06-2.06.94z\"/><path d=\"M17.41 7.96l-1.37-1.37c-.4-.4-.92-.59-1.43-.59-.52 0-1.04.2-1.43.59L10.3 9.45l-7.72 7.72c-.78.78-.78 2.05 0 2.83L4 21.41c.39.39.9.59 1.41.59.51 0 1.02-.2 1.41-.59l7.78-7.78 2.81-2.81c.8-.78.8-2.07 0-2.86zM5.41 20L4 18.59l7.72-7.72 1.47 1.35L5.41 20z\"/>\n",
              "  </svg>\n",
              "      </button>\n",
              "      \n",
              "  <style>\n",
              "    .colab-df-container {\n",
              "      display:flex;\n",
              "      flex-wrap:wrap;\n",
              "      gap: 12px;\n",
              "    }\n",
              "\n",
              "    .colab-df-convert {\n",
              "      background-color: #E8F0FE;\n",
              "      border: none;\n",
              "      border-radius: 50%;\n",
              "      cursor: pointer;\n",
              "      display: none;\n",
              "      fill: #1967D2;\n",
              "      height: 32px;\n",
              "      padding: 0 0 0 0;\n",
              "      width: 32px;\n",
              "    }\n",
              "\n",
              "    .colab-df-convert:hover {\n",
              "      background-color: #E2EBFA;\n",
              "      box-shadow: 0px 1px 2px rgba(60, 64, 67, 0.3), 0px 1px 3px 1px rgba(60, 64, 67, 0.15);\n",
              "      fill: #174EA6;\n",
              "    }\n",
              "\n",
              "    [theme=dark] .colab-df-convert {\n",
              "      background-color: #3B4455;\n",
              "      fill: #D2E3FC;\n",
              "    }\n",
              "\n",
              "    [theme=dark] .colab-df-convert:hover {\n",
              "      background-color: #434B5C;\n",
              "      box-shadow: 0px 1px 3px 1px rgba(0, 0, 0, 0.15);\n",
              "      filter: drop-shadow(0px 1px 2px rgba(0, 0, 0, 0.3));\n",
              "      fill: #FFFFFF;\n",
              "    }\n",
              "  </style>\n",
              "\n",
              "      <script>\n",
              "        const buttonEl =\n",
              "          document.querySelector('#df-73bc55c6-de00-4dd5-bc67-e879f10d5f02 button.colab-df-convert');\n",
              "        buttonEl.style.display =\n",
              "          google.colab.kernel.accessAllowed ? 'block' : 'none';\n",
              "\n",
              "        async function convertToInteractive(key) {\n",
              "          const element = document.querySelector('#df-73bc55c6-de00-4dd5-bc67-e879f10d5f02');\n",
              "          const dataTable =\n",
              "            await google.colab.kernel.invokeFunction('convertToInteractive',\n",
              "                                                     [key], {});\n",
              "          if (!dataTable) return;\n",
              "\n",
              "          const docLinkHtml = 'Like what you see? Visit the ' +\n",
              "            '<a target=\"_blank\" href=https://colab.research.google.com/notebooks/data_table.ipynb>data table notebook</a>'\n",
              "            + ' to learn more about interactive tables.';\n",
              "          element.innerHTML = '';\n",
              "          dataTable['output_type'] = 'display_data';\n",
              "          await google.colab.output.renderOutput(dataTable, element);\n",
              "          const docLink = document.createElement('div');\n",
              "          docLink.innerHTML = docLinkHtml;\n",
              "          element.appendChild(docLink);\n",
              "        }\n",
              "      </script>\n",
              "    </div>\n",
              "  </div>\n",
              "  "
            ]
          },
          "metadata": {},
          "execution_count": 12
        }
      ]
    },
    {
      "cell_type": "markdown",
      "source": [
        "### 刪除 Stopwords\n",
        "- 因為是指令, 因此刪除 stopword 用處不大, 並且有比對使用前使用後的 accuracy, 差異不大, 故註解 stopword 部分"
      ],
      "metadata": {
        "id": "5yqXog4uNuiI"
      }
    },
    {
      "cell_type": "code",
      "source": [
        "# import nltk\n",
        "# from nltk.stem.porter import PorterStemmer\n",
        "# import string\n",
        "\n",
        "# nltk.download('all')\n",
        "# ps = PorterStemmer()\n",
        "\n",
        "# def get_importantFeatures(sent):\n",
        "#   sent = sent.lower()\n",
        "\n",
        "#   returnList = []\n",
        "#   sent = nltk.word_tokenize(sent)\n",
        "#   for i in sent:\n",
        "#     if i.isalnum():\n",
        "#       returnList.append(i)\n",
        "#   return returnList\n",
        "\n",
        "# def removing_stopWords(sent):\n",
        "#   returnList = []\n",
        "#   for i in sent:\n",
        "#     if i not in nltk.corpus.stopwords.words('english') and i not in string.punctuation:\n",
        "#       returnList.append(i)\n",
        "#   return returnList\n",
        "\n",
        "# def potter_stem(sent):\n",
        "#   returnList = []\n",
        "#   for i in sent:\n",
        "#     returnList.append(ps.stem(i))\n",
        "#   return \"\".join(returnList)\n",
        "\n",
        "# le_df['imp_command'] = le_df['command'].apply(get_importantFeatures)\n",
        "# le_df['imp_command'] = le_df['command'].apply(removing_stopWords)\n",
        "# le_df['imp_command'] = le_df['command'].apply(potter_stem)\n",
        "\n",
        "# X = le_df['imp_command']"
      ],
      "metadata": {
        "id": "VziogKgp7AIP"
      },
      "execution_count": 13,
      "outputs": []
    },
    {
      "cell_type": "code",
      "source": [
        "X = le_df['command']\n",
        "y = le_df['tactic']"
      ],
      "metadata": {
        "id": "cS6DLDWDK1j1"
      },
      "execution_count": 14,
      "outputs": []
    },
    {
      "cell_type": "markdown",
      "source": [
        "### Tfidf"
      ],
      "metadata": {
        "id": "CVe1GSIzO6if"
      }
    },
    {
      "cell_type": "code",
      "source": [
        "from sklearn.model_selection import train_test_split\n",
        "from sklearn.feature_extraction.text import TfidfVectorizer\n",
        "\n",
        "X_train, X_test, y_train, y_test = train_test_split(X, y, test_size=0.25, random_state=42)\n",
        "\n",
        "tfidf = TfidfVectorizer(analyzer=\"word\")\n",
        "tfidf_X_train = tfidf.fit_transform(X_train)\n",
        "tfidf_X_test = tfidf.transform(X_test)"
      ],
      "metadata": {
        "id": "ZpW9Ur0BuyOX"
      },
      "execution_count": 15,
      "outputs": []
    },
    {
      "cell_type": "markdown",
      "source": [
        "### Word2Vec"
      ],
      "metadata": {
        "id": "mz39zG_TPEhz"
      }
    },
    {
      "cell_type": "markdown",
      "source": [
        "#### 沒有限制字串長度"
      ],
      "metadata": {
        "id": "q0sJZPrCPmGY"
      }
    },
    {
      "cell_type": "code",
      "source": [
        "from gensim.models import Word2Vec\n",
        "\n",
        "# 命令行數據\n",
        "command_lines = []\n",
        "\n",
        "for imp_command in le_df['command']:\n",
        "  command_lines.append(imp_command)\n",
        "\n",
        "# 分詞處理\n",
        "tokenized_lines = [line.split() for line in command_lines]\n",
        "\n",
        "# 訓練Word2Vec模型\n",
        "w2v_model = Word2Vec(tokenized_lines, window=20, min_count=1, workers=10)\n",
        "\n",
        "# # 獲取命令行中每個單詞的詞向量表示\n",
        "# for line in tokenized_lines:\n",
        "#   line_vectors = [model.wv[word] for word in line]\n",
        "#   print(line_vectors)"
      ],
      "metadata": {
        "id": "5PibI6rRPNr4"
      },
      "execution_count": 16,
      "outputs": []
    },
    {
      "cell_type": "code",
      "source": [
        "import numpy as np\n",
        "\n",
        "X_train, X_test, y_train, y_test = train_test_split(X, y, test_size=0.25, random_state=42)\n",
        "\n",
        "def text_to_vectors(text, max_length):\n",
        "  vectors = []\n",
        "  for word in text.split():\n",
        "    vectors.append(w2v_model.wv[word])\n",
        "  padded_vectors = np.zeros((max_length, w2v_model.vector_size))\n",
        "  if vectors:\n",
        "    padded_vectors[:len(vectors)] = vectors\n",
        "  return np.mean(padded_vectors, axis=0)"
      ],
      "metadata": {
        "id": "GN69ek_kPTZb"
      },
      "execution_count": 17,
      "outputs": []
    },
    {
      "cell_type": "code",
      "source": [
        "max_length = max(len(text.split()) for text in X_train)\n",
        "non_res_train_vectors = np.array([text_to_vectors(text, max_length) for text in X_train])\n",
        "non_res_test_vectors = np.array([text_to_vectors(text, max_length) for text in X_test])"
      ],
      "metadata": {
        "id": "Qd5GeofnPZTQ"
      },
      "execution_count": 18,
      "outputs": []
    },
    {
      "cell_type": "markdown",
      "source": [
        "#### 有限制字串長度"
      ],
      "metadata": {
        "id": "A_zjwDNSPolA"
      }
    },
    {
      "cell_type": "code",
      "source": [
        "max_length = 150\n",
        "tokenized_lines = []\n",
        "\n",
        "for line in command_lines:\n",
        "  if len(line) <= max_length:\n",
        "    tokenized_lines.append(line.split())\n",
        "\n",
        "res_model = Word2Vec(tokenized_lines, window=20, min_count=1, workers=10)"
      ],
      "metadata": {
        "id": "RbADwUl4PtgK"
      },
      "execution_count": 19,
      "outputs": []
    },
    {
      "cell_type": "code",
      "source": [
        "res_y_train = []\n",
        "res_y_test = []\n",
        "\n",
        "for index, text in enumerate(X_train):\n",
        "  if len(text) <= max_length:\n",
        "    res_y_train.append(y_train.values[index])\n",
        "\n",
        "for index, text in enumerate(X_test):\n",
        "  if len(text) <= max_length:\n",
        "    res_y_test.append(y_test.values[index])"
      ],
      "metadata": {
        "id": "xFwQIblFoCY5"
      },
      "execution_count": 20,
      "outputs": []
    },
    {
      "cell_type": "code",
      "source": [
        "def text_to_vectors(text, max_length):\n",
        "  vectors = []\n",
        "  for word in text.split():\n",
        "    if len(word) <= max_length:\n",
        "      vectors.append(res_model.wv[word])\n",
        "\n",
        "  padded_vectors = np.zeros((max_length, res_model.vector_size))\n",
        "  for i, vector in enumerate(vectors):\n",
        "    if i < max_length:\n",
        "      padded_vectors[i] = vector\n",
        "  return np.mean(padded_vectors, axis=0)"
      ],
      "metadata": {
        "id": "3gt5s54HPzMQ"
      },
      "execution_count": 21,
      "outputs": []
    },
    {
      "cell_type": "code",
      "source": [
        "vectors = []\n",
        "for text in X_train:\n",
        "  if len(text) <= max_length:\n",
        "    vector = text_to_vectors(text, max_length)\n",
        "    vectors.append(vector)\n",
        "\n",
        "res_train_vectors = np.array(vectors)\n",
        "\n",
        "vectors = []\n",
        "for text in X_test:\n",
        "  if len(text) <= max_length:\n",
        "    vector = text_to_vectors(text, max_length)\n",
        "    vectors.append(vector)\n",
        "\n",
        "res_test_vectors = np.array(vectors)"
      ],
      "metadata": {
        "id": "yEV5u4PwP13-"
      },
      "execution_count": 22,
      "outputs": []
    },
    {
      "cell_type": "markdown",
      "source": [
        "## Training Model"
      ],
      "metadata": {
        "id": "M85AtpxZQzu0"
      }
    },
    {
      "cell_type": "markdown",
      "source": [
        "### Tfidf + SVM"
      ],
      "metadata": {
        "id": "9F0tqP9ORxpF"
      }
    },
    {
      "cell_type": "code",
      "source": [
        "from sklearn import svm\n",
        "\n",
        "clf = svm.SVC(kernel='sigmoid', C=8, gamma=1, coef0=1)\n",
        "clf.fit(tfidf_X_train, y_train)\n",
        "\n",
        "tf_smv_train_accuracy = clf.score(tfidf_X_train, y_train)\n",
        "tf_svm_test_accuracy = clf.score(tfidf_X_test, y_test)\n",
        "\n",
        "print('Train Accuracy: {:.2f}%'.format(tf_smv_train_accuracy * 100))\n",
        "print('Test Accuracy: {:.2f}%'.format(tf_svm_test_accuracy * 100))"
      ],
      "metadata": {
        "colab": {
          "base_uri": "https://localhost:8080/"
        },
        "id": "d63gosfU-IJT",
        "outputId": "af49da4d-ad44-4ca6-ce83-fe3b59c8bb4e"
      },
      "execution_count": 23,
      "outputs": [
        {
          "output_type": "stream",
          "name": "stdout",
          "text": [
            "Train Accuracy: 83.57%\n",
            "Test Accuracy: 57.26%\n"
          ]
        }
      ]
    },
    {
      "cell_type": "markdown",
      "source": [
        "### Tfidf + Random Forest"
      ],
      "metadata": {
        "id": "HAmIyhvsRi1s"
      }
    },
    {
      "cell_type": "code",
      "source": [
        "from sklearn.ensemble import RandomForestClassifier\n",
        "\n",
        "clf = RandomForestClassifier(n_estimators=100, max_depth=15, criterion='entropy')\n",
        "clf.fit(tfidf_X_train, y_train)\n",
        "\n",
        "tf_rf_train_accuracy = clf.score(tfidf_X_train, y_train)\n",
        "tf_rf_test_accuracy = clf.score(tfidf_X_test, y_test)\n",
        "\n",
        "print('Train Accuracy: {:.2f}%'.format(tf_rf_train_accuracy * 100))\n",
        "print('Test Accuracy: {:.2f}%'.format(tf_rf_test_accuracy * 100))"
      ],
      "metadata": {
        "colab": {
          "base_uri": "https://localhost:8080/"
        },
        "id": "O_AWdYg8mYqe",
        "outputId": "62d65d9c-5813-47cb-ee05-b1f73144910e"
      },
      "execution_count": 24,
      "outputs": [
        {
          "output_type": "stream",
          "name": "stdout",
          "text": [
            "Train Accuracy: 68.76%\n",
            "Test Accuracy: 43.55%\n"
          ]
        }
      ]
    },
    {
      "cell_type": "markdown",
      "source": [
        "### Word2Vec + SVM"
      ],
      "metadata": {
        "id": "13rwBaB9FE0S"
      }
    },
    {
      "cell_type": "markdown",
      "source": [
        "#### 沒有限制字串長度"
      ],
      "metadata": {
        "id": "s2O0TJUDQIn5"
      }
    },
    {
      "cell_type": "code",
      "source": [
        "non_res_svm = svm.SVC(kernel='sigmoid', C=13, gamma=1, coef0=1)\n",
        "non_res_svm.fit(non_res_train_vectors, y_train)\n",
        "non_res_svm_accuracy = non_res_svm.score(non_res_test_vectors, y_test)\n",
        "print('Accuracy: {:.2f}%'.format(non_res_svm_accuracy * 100))"
      ],
      "metadata": {
        "colab": {
          "base_uri": "https://localhost:8080/"
        },
        "id": "_bX_cFX_SXdm",
        "outputId": "842144ce-8ed4-4251-dbb0-af3b65ea26a8"
      },
      "execution_count": 25,
      "outputs": [
        {
          "output_type": "stream",
          "name": "stdout",
          "text": [
            "Accuracy: 32.80%\n"
          ]
        }
      ]
    },
    {
      "cell_type": "markdown",
      "source": [
        "#### 有限制字串長度"
      ],
      "metadata": {
        "id": "AjQ0vLKmQSzM"
      }
    },
    {
      "cell_type": "code",
      "source": [
        "res_svm = svm.SVC(kernel='sigmoid', C=13, gamma=1, coef0=1)\n",
        "res_svm.fit(res_train_vectors, res_y_train)\n",
        "res_svm_accuracy = res_svm.score(res_test_vectors, res_y_test)\n",
        "print('Accuracy: {:.2f}%'.format(res_svm_accuracy * 100))"
      ],
      "metadata": {
        "colab": {
          "base_uri": "https://localhost:8080/"
        },
        "id": "_LaD8tpqQYcU",
        "outputId": "1074a136-10f0-485e-8943-78ed45061cae"
      },
      "execution_count": 26,
      "outputs": [
        {
          "output_type": "stream",
          "name": "stdout",
          "text": [
            "Accuracy: 35.95%\n"
          ]
        }
      ]
    },
    {
      "cell_type": "markdown",
      "source": [
        "### Word2Vec + CNN"
      ],
      "metadata": {
        "id": "XBdnMAOASiuP"
      }
    },
    {
      "cell_type": "markdown",
      "source": [
        "#### 沒有限制字串長度"
      ],
      "metadata": {
        "id": "TD7uhCFdQkGy"
      }
    },
    {
      "cell_type": "code",
      "source": [
        "from tensorflow.keras.models import Sequential\n",
        "from tensorflow.keras.layers import Embedding, Conv1D, GlobalMaxPooling1D, Dense\n",
        "from keras import losses"
      ],
      "metadata": {
        "id": "cf2Ej8Vz1sRt"
      },
      "execution_count": 27,
      "outputs": []
    },
    {
      "cell_type": "code",
      "source": [
        "def cnn_model(train_vectors, test_vectors, y_train, y_test):\n",
        "  model = Sequential()\n",
        "  model.add(Embedding(input_dim=train_vectors.shape[0], output_dim=train_vectors.shape[1], input_length=train_vectors.shape[1]))\n",
        "  model.add(Conv1D(filters=128, kernel_size=3, activation='relu'))\n",
        "  model.add(GlobalMaxPooling1D())\n",
        "\n",
        "  model.add(Dense(units=14, activation='relu'))\n",
        "\n",
        "  model.compile(loss='categorical_crossentropy', optimizer='adam', metrics=['accuracy'])\n",
        "  model.fit(train_vectors, y_train, epochs=20, batch_size=90)\n",
        "\n",
        "  return model"
      ],
      "metadata": {
        "id": "h2SNB4IF2ENX"
      },
      "execution_count": 28,
      "outputs": []
    },
    {
      "cell_type": "code",
      "source": [
        "one_hot_y_train = np.zeros((y_train.shape[0], 14))\n",
        "one_hot_y_train[np.arange(y_train.shape[0]), y_train] = 1\n",
        "\n",
        "one_hot_y_test = np.zeros((y_test.shape[0], 14))\n",
        "one_hot_y_test[np.arange(y_test.shape[0]), y_test] = 1"
      ],
      "metadata": {
        "id": "ZE1al0PGd0CT"
      },
      "execution_count": 29,
      "outputs": []
    },
    {
      "cell_type": "code",
      "source": [
        "non_res_cnn = cnn_model(non_res_train_vectors, non_res_test_vectors, one_hot_y_train, one_hot_y_test)"
      ],
      "metadata": {
        "colab": {
          "base_uri": "https://localhost:8080/"
        },
        "id": "9ms65nT22hCc",
        "outputId": "35678ccc-7b50-4c20-88a2-ca9075f205a1"
      },
      "execution_count": 30,
      "outputs": [
        {
          "output_type": "stream",
          "name": "stdout",
          "text": [
            "Epoch 1/20\n",
            "13/13 [==============================] - 2s 60ms/step - loss: 6.1710 - accuracy: 0.2846\n",
            "Epoch 2/20\n",
            "13/13 [==============================] - 1s 57ms/step - loss: 5.8761 - accuracy: 0.3357\n",
            "Epoch 3/20\n",
            "13/13 [==============================] - 1s 56ms/step - loss: 5.8400 - accuracy: 0.3357\n",
            "Epoch 4/20\n",
            "13/13 [==============================] - 1s 56ms/step - loss: 5.5872 - accuracy: 0.3357\n",
            "Epoch 5/20\n",
            "13/13 [==============================] - 1s 55ms/step - loss: 5.6607 - accuracy: 0.3357\n",
            "Epoch 6/20\n",
            "13/13 [==============================] - 1s 56ms/step - loss: 5.6637 - accuracy: 0.3357\n",
            "Epoch 7/20\n",
            "13/13 [==============================] - 1s 55ms/step - loss: 5.6583 - accuracy: 0.3357\n",
            "Epoch 8/20\n",
            "13/13 [==============================] - 1s 55ms/step - loss: 5.6493 - accuracy: 0.3357\n",
            "Epoch 9/20\n",
            "13/13 [==============================] - 1s 55ms/step - loss: 5.6384 - accuracy: 0.3357\n",
            "Epoch 10/20\n",
            "13/13 [==============================] - 1s 54ms/step - loss: 5.6249 - accuracy: 0.3357\n",
            "Epoch 11/20\n",
            "13/13 [==============================] - 1s 55ms/step - loss: 5.6107 - accuracy: 0.3357\n",
            "Epoch 12/20\n",
            "13/13 [==============================] - 1s 101ms/step - loss: 5.5958 - accuracy: 0.3357\n",
            "Epoch 13/20\n",
            "13/13 [==============================] - 1s 101ms/step - loss: 5.5820 - accuracy: 0.3357\n",
            "Epoch 14/20\n",
            "13/13 [==============================] - 1s 62ms/step - loss: 5.5743 - accuracy: 0.3357\n",
            "Epoch 15/20\n",
            "13/13 [==============================] - 1s 57ms/step - loss: 5.5716 - accuracy: 0.3357\n",
            "Epoch 16/20\n",
            "13/13 [==============================] - 1s 56ms/step - loss: 5.5713 - accuracy: 0.3357\n",
            "Epoch 17/20\n",
            "13/13 [==============================] - 1s 56ms/step - loss: 5.5713 - accuracy: 0.3357\n",
            "Epoch 18/20\n",
            "13/13 [==============================] - 1s 55ms/step - loss: 5.5716 - accuracy: 0.3357\n",
            "Epoch 19/20\n",
            "13/13 [==============================] - 1s 54ms/step - loss: 5.5709 - accuracy: 0.3357\n",
            "Epoch 20/20\n",
            "13/13 [==============================] - 1s 57ms/step - loss: 5.5716 - accuracy: 0.3357\n"
          ]
        }
      ]
    },
    {
      "cell_type": "code",
      "source": [
        "non_res_cnn_accuracy = non_res_cnn.evaluate(non_res_test_vectors, one_hot_y_test)\n",
        "print('Accuracy: {:.2f}%'.format(non_res_cnn_accuracy[1] * 100))"
      ],
      "metadata": {
        "colab": {
          "base_uri": "https://localhost:8080/"
        },
        "id": "-qO6wBUEXdLv",
        "outputId": "0ed9d666-48fc-4901-a242-ba03adf4fe28"
      },
      "execution_count": 31,
      "outputs": [
        {
          "output_type": "stream",
          "name": "stdout",
          "text": [
            "12/12 [==============================] - 0s 7ms/step - loss: 5.4063 - accuracy: 0.3280\n",
            "Accuracy: 32.80%\n"
          ]
        }
      ]
    },
    {
      "cell_type": "markdown",
      "source": [
        "#### 有限制字串長度"
      ],
      "metadata": {
        "id": "k13H8QZHUCjt"
      }
    },
    {
      "cell_type": "code",
      "source": [
        "one_hot_y_train = np.zeros((len(res_y_train), 14))\n",
        "one_hot_y_train[np.arange(len(res_y_train)), res_y_train] = 1\n",
        "\n",
        "one_hot_y_test = np.zeros((len(res_y_test), 14))\n",
        "one_hot_y_test[np.arange(len(res_y_test)), res_y_test] = 1"
      ],
      "metadata": {
        "id": "xBUpfpwSqN5K"
      },
      "execution_count": 32,
      "outputs": []
    },
    {
      "cell_type": "code",
      "source": [
        "res_cnn = cnn_model(res_train_vectors, res_test_vectors, one_hot_y_train, one_hot_y_test)"
      ],
      "metadata": {
        "colab": {
          "base_uri": "https://localhost:8080/"
        },
        "id": "XpG9paF4YTVn",
        "outputId": "53cfb657-dc3b-4599-99f8-3456cf88ceb7"
      },
      "execution_count": 33,
      "outputs": [
        {
          "output_type": "stream",
          "name": "stdout",
          "text": [
            "Epoch 1/20\n",
            "9/9 [==============================] - 2s 95ms/step - loss: 8.2569 - accuracy: 0.3578\n",
            "Epoch 2/20\n",
            "9/9 [==============================] - 1s 120ms/step - loss: 8.2090 - accuracy: 0.3578\n",
            "Epoch 3/20\n",
            "9/9 [==============================] - 1s 84ms/step - loss: 8.2181 - accuracy: 0.3578\n",
            "Epoch 4/20\n",
            "9/9 [==============================] - 1s 117ms/step - loss: 8.2101 - accuracy: 0.3578\n",
            "Epoch 5/20\n",
            "9/9 [==============================] - 1s 60ms/step - loss: 8.2210 - accuracy: 0.3578\n",
            "Epoch 6/20\n",
            "9/9 [==============================] - 1s 92ms/step - loss: 8.2310 - accuracy: 0.3578\n",
            "Epoch 7/20\n",
            "9/9 [==============================] - 0s 54ms/step - loss: 8.2228 - accuracy: 0.3578\n",
            "Epoch 8/20\n",
            "9/9 [==============================] - 0s 53ms/step - loss: 8.2105 - accuracy: 0.3578\n",
            "Epoch 9/20\n",
            "9/9 [==============================] - 0s 51ms/step - loss: 8.2096 - accuracy: 0.3578\n",
            "Epoch 10/20\n",
            "9/9 [==============================] - 0s 53ms/step - loss: 8.2083 - accuracy: 0.3578\n",
            "Epoch 11/20\n",
            "9/9 [==============================] - 0s 52ms/step - loss: 8.2065 - accuracy: 0.3578\n",
            "Epoch 12/20\n",
            "9/9 [==============================] - 0s 52ms/step - loss: 8.2055 - accuracy: 0.3578\n",
            "Epoch 13/20\n",
            "9/9 [==============================] - 0s 53ms/step - loss: 8.2048 - accuracy: 0.3578\n",
            "Epoch 14/20\n",
            "9/9 [==============================] - 0s 52ms/step - loss: 8.2130 - accuracy: 0.3578\n",
            "Epoch 15/20\n",
            "9/9 [==============================] - 0s 54ms/step - loss: 8.2269 - accuracy: 0.3578\n",
            "Epoch 16/20\n",
            "9/9 [==============================] - 0s 48ms/step - loss: 8.2184 - accuracy: 0.3578\n",
            "Epoch 17/20\n",
            "9/9 [==============================] - 0s 53ms/step - loss: 8.2120 - accuracy: 0.3578\n",
            "Epoch 18/20\n",
            "9/9 [==============================] - 0s 48ms/step - loss: 8.2378 - accuracy: 0.3578\n",
            "Epoch 19/20\n",
            "9/9 [==============================] - 0s 51ms/step - loss: 8.2613 - accuracy: 0.3578\n",
            "Epoch 20/20\n",
            "9/9 [==============================] - 0s 48ms/step - loss: 8.2283 - accuracy: 0.3578\n"
          ]
        }
      ]
    },
    {
      "cell_type": "code",
      "source": [
        "res_cnn_accuracy = res_cnn.evaluate(res_test_vectors, one_hot_y_test)\n",
        "print('Accuracy: {:.2f}%'.format(res_cnn_accuracy[1] * 100))"
      ],
      "metadata": {
        "colab": {
          "base_uri": "https://localhost:8080/"
        },
        "id": "zRda6u-UYUmw",
        "outputId": "2ed3adaf-06fb-4ff3-9c0a-7b083b4fc81c"
      },
      "execution_count": 34,
      "outputs": [
        {
          "output_type": "stream",
          "name": "stdout",
          "text": [
            "8/8 [==============================] - 0s 7ms/step - loss: 8.4314 - accuracy: 0.3595\n",
            "Accuracy: 35.95%\n"
          ]
        }
      ]
    },
    {
      "cell_type": "markdown",
      "source": [
        "### Word2Vec + AutoEncoder"
      ],
      "metadata": {
        "id": "AEbSIvoWFocz"
      }
    },
    {
      "cell_type": "markdown",
      "source": [
        "#### 沒有限制字串長度"
      ],
      "metadata": {
        "id": "-UlsVK2YSM2o"
      }
    },
    {
      "cell_type": "code",
      "source": [
        "one_hot_y_train = np.zeros((y_train.shape[0], 14))\n",
        "one_hot_y_train[np.arange(y_train.shape[0]), y_train] = 1\n",
        "\n",
        "one_hot_y_test = np.zeros((y_test.shape[0], 14))\n",
        "one_hot_y_test[np.arange(y_test.shape[0]), y_test] = 1"
      ],
      "metadata": {
        "id": "9ppd4rID7Lm6"
      },
      "execution_count": 35,
      "outputs": []
    },
    {
      "cell_type": "code",
      "source": [
        "from tensorflow.keras.models import Model\n",
        "from tensorflow.keras.layers import Input\n",
        "\n",
        "autoencoder = Sequential()\n",
        "\n",
        "# Encoder\n",
        "autoencoder.add(Dense(units=256, activation='relu', input_shape=(non_res_train_vectors.shape[1],)))  # input layer\n",
        "autoencoder.add(Dense(units=128, activation='relu'))  # hidden layer\n",
        "autoencoder.add(Dense(units=64, activation='relu'))  # hidden layer\n",
        "\n",
        "# Decoder\n",
        "autoencoder.add(Dense(units=128, activation='relu'))  # hidden layer\n",
        "autoencoder.add(Dense(units=256, activation='relu'))  # hidden layer\n",
        "autoencoder.add(Dense(units=14, activation='sigmoid'))  # output layer\n",
        "\n",
        "autoencoder.compile(optimizer='adam', loss='binary_crossentropy')\n",
        "\n",
        "autoencoder.fit(non_res_train_vectors, one_hot_y_train, epochs=50, batch_size=32, validation_data=(non_res_test_vectors, one_hot_y_test))\n",
        "\n",
        "# 根據 hidden layer 的 index 來取得 output\n",
        "encoder = Model(inputs=autoencoder.input, outputs=autoencoder.layers[5].output)\n",
        "encoded_input = Input(shape=(autoencoder.layers[5].output.shape[1],))\n",
        "classifier_output = Dense(units=14, activation='softmax')(encoded_input)\n",
        "\n",
        "classifier = Model(inputs=encoded_input, outputs=classifier_output)\n",
        "classifier.compile(optimizer='adam', loss='categorical_crossentropy', metrics=['accuracy'])\n",
        "\n",
        "classifier.fit(encoder.predict(non_res_train_vectors), one_hot_y_train, epochs=50, batch_size=32, validation_data=(encoder.predict(non_res_test_vectors), one_hot_y_test))"
      ],
      "metadata": {
        "colab": {
          "base_uri": "https://localhost:8080/"
        },
        "id": "MJ9NJkjYm67W",
        "outputId": "cf629237-7633-4748-94f6-7d886d43554d"
      },
      "execution_count": 36,
      "outputs": [
        {
          "output_type": "stream",
          "name": "stdout",
          "text": [
            "Epoch 1/50\n",
            "35/35 [==============================] - 2s 10ms/step - loss: 0.4418 - val_loss: 0.2485\n",
            "Epoch 2/50\n",
            "35/35 [==============================] - 0s 5ms/step - loss: 0.2158 - val_loss: 0.2145\n",
            "Epoch 3/50\n",
            "35/35 [==============================] - 0s 5ms/step - loss: 0.2079 - val_loss: 0.2149\n",
            "Epoch 4/50\n",
            "35/35 [==============================] - 0s 5ms/step - loss: 0.2083 - val_loss: 0.2136\n",
            "Epoch 5/50\n",
            "35/35 [==============================] - 0s 5ms/step - loss: 0.2077 - val_loss: 0.2131\n",
            "Epoch 6/50\n",
            "35/35 [==============================] - 0s 5ms/step - loss: 0.2075 - val_loss: 0.2130\n",
            "Epoch 7/50\n",
            "35/35 [==============================] - 0s 5ms/step - loss: 0.2073 - val_loss: 0.2127\n",
            "Epoch 8/50\n",
            "35/35 [==============================] - 0s 5ms/step - loss: 0.2074 - val_loss: 0.2149\n",
            "Epoch 9/50\n",
            "35/35 [==============================] - 0s 6ms/step - loss: 0.2067 - val_loss: 0.2129\n",
            "Epoch 10/50\n",
            "35/35 [==============================] - 0s 8ms/step - loss: 0.2074 - val_loss: 0.2132\n",
            "Epoch 11/50\n",
            "35/35 [==============================] - 0s 7ms/step - loss: 0.2077 - val_loss: 0.2134\n",
            "Epoch 12/50\n",
            "35/35 [==============================] - 0s 9ms/step - loss: 0.2071 - val_loss: 0.2137\n",
            "Epoch 13/50\n",
            "35/35 [==============================] - 0s 9ms/step - loss: 0.2075 - val_loss: 0.2129\n",
            "Epoch 14/50\n",
            "35/35 [==============================] - 0s 7ms/step - loss: 0.2071 - val_loss: 0.2129\n",
            "Epoch 15/50\n",
            "35/35 [==============================] - 0s 8ms/step - loss: 0.2064 - val_loss: 0.2153\n",
            "Epoch 16/50\n",
            "35/35 [==============================] - 0s 7ms/step - loss: 0.2063 - val_loss: 0.2118\n",
            "Epoch 17/50\n",
            "35/35 [==============================] - 0s 8ms/step - loss: 0.2054 - val_loss: 0.2132\n",
            "Epoch 18/50\n",
            "35/35 [==============================] - 0s 8ms/step - loss: 0.2050 - val_loss: 0.2144\n",
            "Epoch 19/50\n",
            "35/35 [==============================] - 0s 6ms/step - loss: 0.2056 - val_loss: 0.2127\n",
            "Epoch 20/50\n",
            "35/35 [==============================] - 0s 5ms/step - loss: 0.2040 - val_loss: 0.2141\n",
            "Epoch 21/50\n",
            "35/35 [==============================] - 0s 5ms/step - loss: 0.2037 - val_loss: 0.2131\n",
            "Epoch 22/50\n",
            "35/35 [==============================] - 0s 5ms/step - loss: 0.2029 - val_loss: 0.2126\n",
            "Epoch 23/50\n",
            "35/35 [==============================] - 0s 5ms/step - loss: 0.2026 - val_loss: 0.2127\n",
            "Epoch 24/50\n",
            "35/35 [==============================] - 0s 5ms/step - loss: 0.2019 - val_loss: 0.2115\n",
            "Epoch 25/50\n",
            "35/35 [==============================] - 0s 5ms/step - loss: 0.2021 - val_loss: 0.2142\n",
            "Epoch 26/50\n",
            "35/35 [==============================] - 0s 5ms/step - loss: 0.2019 - val_loss: 0.2119\n",
            "Epoch 27/50\n",
            "35/35 [==============================] - 0s 5ms/step - loss: 0.2013 - val_loss: 0.2117\n",
            "Epoch 28/50\n",
            "35/35 [==============================] - 0s 5ms/step - loss: 0.2009 - val_loss: 0.2128\n",
            "Epoch 29/50\n",
            "35/35 [==============================] - 0s 5ms/step - loss: 0.2002 - val_loss: 0.2112\n",
            "Epoch 30/50\n",
            "35/35 [==============================] - 0s 4ms/step - loss: 0.2009 - val_loss: 0.2113\n",
            "Epoch 31/50\n",
            "35/35 [==============================] - 0s 5ms/step - loss: 0.1992 - val_loss: 0.2121\n",
            "Epoch 32/50\n",
            "35/35 [==============================] - 0s 5ms/step - loss: 0.1979 - val_loss: 0.2151\n",
            "Epoch 33/50\n",
            "35/35 [==============================] - 0s 5ms/step - loss: 0.1988 - val_loss: 0.2120\n",
            "Epoch 34/50\n",
            "35/35 [==============================] - 0s 5ms/step - loss: 0.1981 - val_loss: 0.2126\n",
            "Epoch 35/50\n",
            "35/35 [==============================] - 0s 5ms/step - loss: 0.1966 - val_loss: 0.2114\n",
            "Epoch 36/50\n",
            "35/35 [==============================] - 0s 5ms/step - loss: 0.1964 - val_loss: 0.2108\n",
            "Epoch 37/50\n",
            "35/35 [==============================] - 0s 5ms/step - loss: 0.1957 - val_loss: 0.2122\n",
            "Epoch 38/50\n",
            "35/35 [==============================] - 0s 5ms/step - loss: 0.1957 - val_loss: 0.2132\n",
            "Epoch 39/50\n",
            "35/35 [==============================] - 0s 5ms/step - loss: 0.1965 - val_loss: 0.2146\n",
            "Epoch 40/50\n",
            "35/35 [==============================] - 0s 5ms/step - loss: 0.1961 - val_loss: 0.2145\n",
            "Epoch 41/50\n",
            "35/35 [==============================] - 0s 5ms/step - loss: 0.1955 - val_loss: 0.2110\n",
            "Epoch 42/50\n",
            "35/35 [==============================] - 0s 5ms/step - loss: 0.1950 - val_loss: 0.2130\n",
            "Epoch 43/50\n",
            "35/35 [==============================] - 0s 5ms/step - loss: 0.1950 - val_loss: 0.2136\n",
            "Epoch 44/50\n",
            "35/35 [==============================] - 0s 5ms/step - loss: 0.1950 - val_loss: 0.2121\n",
            "Epoch 45/50\n",
            "35/35 [==============================] - 0s 5ms/step - loss: 0.1949 - val_loss: 0.2123\n",
            "Epoch 46/50\n",
            "35/35 [==============================] - 0s 5ms/step - loss: 0.1952 - val_loss: 0.2126\n",
            "Epoch 47/50\n",
            "35/35 [==============================] - 0s 5ms/step - loss: 0.1945 - val_loss: 0.2154\n",
            "Epoch 48/50\n",
            "35/35 [==============================] - 0s 5ms/step - loss: 0.1941 - val_loss: 0.2138\n",
            "Epoch 49/50\n",
            "35/35 [==============================] - 0s 5ms/step - loss: 0.1952 - val_loss: 0.2149\n",
            "Epoch 50/50\n",
            "35/35 [==============================] - 0s 6ms/step - loss: 0.1943 - val_loss: 0.2124\n",
            "35/35 [==============================] - 0s 2ms/step\n",
            "12/12 [==============================] - 0s 2ms/step\n",
            "Epoch 1/50\n",
            "35/35 [==============================] - 1s 8ms/step - loss: 2.5574 - accuracy: 0.2056 - val_loss: 2.5361 - val_accuracy: 0.2177\n",
            "Epoch 2/50\n",
            "35/35 [==============================] - 0s 3ms/step - loss: 2.5070 - accuracy: 0.2253 - val_loss: 2.4923 - val_accuracy: 0.2312\n",
            "Epoch 3/50\n",
            "35/35 [==============================] - 0s 3ms/step - loss: 2.4608 - accuracy: 0.2361 - val_loss: 2.4512 - val_accuracy: 0.2500\n",
            "Epoch 4/50\n",
            "35/35 [==============================] - 0s 3ms/step - loss: 2.4176 - accuracy: 0.2765 - val_loss: 2.4134 - val_accuracy: 0.3280\n",
            "Epoch 5/50\n",
            "35/35 [==============================] - 0s 3ms/step - loss: 2.3780 - accuracy: 0.3357 - val_loss: 2.3791 - val_accuracy: 0.3280\n",
            "Epoch 6/50\n",
            "35/35 [==============================] - 0s 3ms/step - loss: 2.3416 - accuracy: 0.3357 - val_loss: 2.3470 - val_accuracy: 0.3280\n",
            "Epoch 7/50\n",
            "35/35 [==============================] - 0s 4ms/step - loss: 2.3078 - accuracy: 0.3357 - val_loss: 2.3186 - val_accuracy: 0.3280\n",
            "Epoch 8/50\n",
            "35/35 [==============================] - 0s 3ms/step - loss: 2.2773 - accuracy: 0.3357 - val_loss: 2.2923 - val_accuracy: 0.3280\n",
            "Epoch 9/50\n",
            "35/35 [==============================] - 0s 3ms/step - loss: 2.2487 - accuracy: 0.3357 - val_loss: 2.2689 - val_accuracy: 0.3280\n",
            "Epoch 10/50\n",
            "35/35 [==============================] - 0s 3ms/step - loss: 2.2235 - accuracy: 0.3357 - val_loss: 2.2464 - val_accuracy: 0.3280\n",
            "Epoch 11/50\n",
            "35/35 [==============================] - 0s 4ms/step - loss: 2.1998 - accuracy: 0.3357 - val_loss: 2.2270 - val_accuracy: 0.3280\n",
            "Epoch 12/50\n",
            "35/35 [==============================] - 0s 4ms/step - loss: 2.1785 - accuracy: 0.3357 - val_loss: 2.2095 - val_accuracy: 0.3280\n",
            "Epoch 13/50\n",
            "35/35 [==============================] - 0s 3ms/step - loss: 2.1589 - accuracy: 0.3357 - val_loss: 2.1939 - val_accuracy: 0.3280\n",
            "Epoch 14/50\n",
            "35/35 [==============================] - 0s 4ms/step - loss: 2.1416 - accuracy: 0.3357 - val_loss: 2.1796 - val_accuracy: 0.3280\n",
            "Epoch 15/50\n",
            "35/35 [==============================] - 0s 7ms/step - loss: 2.1257 - accuracy: 0.3357 - val_loss: 2.1670 - val_accuracy: 0.3280\n",
            "Epoch 16/50\n",
            "35/35 [==============================] - 0s 6ms/step - loss: 2.1113 - accuracy: 0.3357 - val_loss: 2.1552 - val_accuracy: 0.3280\n",
            "Epoch 17/50\n",
            "35/35 [==============================] - 0s 7ms/step - loss: 2.0982 - accuracy: 0.3357 - val_loss: 2.1449 - val_accuracy: 0.3280\n",
            "Epoch 18/50\n",
            "35/35 [==============================] - 0s 7ms/step - loss: 2.0864 - accuracy: 0.3357 - val_loss: 2.1356 - val_accuracy: 0.3280\n",
            "Epoch 19/50\n",
            "35/35 [==============================] - 0s 6ms/step - loss: 2.0758 - accuracy: 0.3357 - val_loss: 2.1274 - val_accuracy: 0.3280\n",
            "Epoch 20/50\n",
            "35/35 [==============================] - 0s 6ms/step - loss: 2.0662 - accuracy: 0.3357 - val_loss: 2.1199 - val_accuracy: 0.3280\n",
            "Epoch 21/50\n",
            "35/35 [==============================] - 0s 11ms/step - loss: 2.0574 - accuracy: 0.3357 - val_loss: 2.1133 - val_accuracy: 0.3280\n",
            "Epoch 22/50\n",
            "35/35 [==============================] - 0s 11ms/step - loss: 2.0496 - accuracy: 0.3357 - val_loss: 2.1072 - val_accuracy: 0.3280\n",
            "Epoch 23/50\n",
            "35/35 [==============================] - 0s 8ms/step - loss: 2.0425 - accuracy: 0.3357 - val_loss: 2.1016 - val_accuracy: 0.3280\n",
            "Epoch 24/50\n",
            "35/35 [==============================] - 0s 10ms/step - loss: 2.0359 - accuracy: 0.3357 - val_loss: 2.0972 - val_accuracy: 0.3280\n",
            "Epoch 25/50\n",
            "35/35 [==============================] - 0s 13ms/step - loss: 2.0299 - accuracy: 0.3357 - val_loss: 2.0926 - val_accuracy: 0.3280\n",
            "Epoch 26/50\n",
            "35/35 [==============================] - 0s 10ms/step - loss: 2.0244 - accuracy: 0.3357 - val_loss: 2.0886 - val_accuracy: 0.3280\n",
            "Epoch 27/50\n",
            "35/35 [==============================] - 0s 11ms/step - loss: 2.0194 - accuracy: 0.3357 - val_loss: 2.0850 - val_accuracy: 0.3280\n",
            "Epoch 28/50\n",
            "35/35 [==============================] - 0s 9ms/step - loss: 2.0148 - accuracy: 0.3357 - val_loss: 2.0815 - val_accuracy: 0.3280\n",
            "Epoch 29/50\n",
            "35/35 [==============================] - 0s 9ms/step - loss: 2.0105 - accuracy: 0.3357 - val_loss: 2.0784 - val_accuracy: 0.3280\n",
            "Epoch 30/50\n",
            "35/35 [==============================] - 0s 6ms/step - loss: 2.0063 - accuracy: 0.3357 - val_loss: 2.0758 - val_accuracy: 0.3280\n",
            "Epoch 31/50\n",
            "35/35 [==============================] - 0s 7ms/step - loss: 2.0027 - accuracy: 0.3357 - val_loss: 2.0731 - val_accuracy: 0.3280\n",
            "Epoch 32/50\n",
            "35/35 [==============================] - 0s 7ms/step - loss: 1.9991 - accuracy: 0.3357 - val_loss: 2.0709 - val_accuracy: 0.3280\n",
            "Epoch 33/50\n",
            "35/35 [==============================] - 0s 8ms/step - loss: 1.9958 - accuracy: 0.3357 - val_loss: 2.0684 - val_accuracy: 0.3280\n",
            "Epoch 34/50\n",
            "35/35 [==============================] - 0s 7ms/step - loss: 1.9926 - accuracy: 0.3357 - val_loss: 2.0660 - val_accuracy: 0.3280\n",
            "Epoch 35/50\n",
            "35/35 [==============================] - 0s 6ms/step - loss: 1.9897 - accuracy: 0.3357 - val_loss: 2.0639 - val_accuracy: 0.3280\n",
            "Epoch 36/50\n",
            "35/35 [==============================] - 0s 4ms/step - loss: 1.9868 - accuracy: 0.3357 - val_loss: 2.0620 - val_accuracy: 0.3280\n",
            "Epoch 37/50\n",
            "35/35 [==============================] - 0s 5ms/step - loss: 1.9841 - accuracy: 0.3357 - val_loss: 2.0604 - val_accuracy: 0.3280\n",
            "Epoch 38/50\n",
            "35/35 [==============================] - 0s 6ms/step - loss: 1.9816 - accuracy: 0.3357 - val_loss: 2.0588 - val_accuracy: 0.3280\n",
            "Epoch 39/50\n",
            "35/35 [==============================] - 0s 6ms/step - loss: 1.9791 - accuracy: 0.3357 - val_loss: 2.0571 - val_accuracy: 0.3280\n",
            "Epoch 40/50\n",
            "35/35 [==============================] - 0s 4ms/step - loss: 1.9767 - accuracy: 0.3357 - val_loss: 2.0554 - val_accuracy: 0.3280\n",
            "Epoch 41/50\n",
            "35/35 [==============================] - 0s 10ms/step - loss: 1.9745 - accuracy: 0.3357 - val_loss: 2.0538 - val_accuracy: 0.3280\n",
            "Epoch 42/50\n",
            "35/35 [==============================] - 0s 4ms/step - loss: 1.9722 - accuracy: 0.3357 - val_loss: 2.0526 - val_accuracy: 0.3280\n",
            "Epoch 43/50\n",
            "35/35 [==============================] - 0s 8ms/step - loss: 1.9701 - accuracy: 0.3357 - val_loss: 2.0510 - val_accuracy: 0.3280\n",
            "Epoch 44/50\n",
            "35/35 [==============================] - 0s 7ms/step - loss: 1.9682 - accuracy: 0.3357 - val_loss: 2.0497 - val_accuracy: 0.3280\n",
            "Epoch 45/50\n",
            "35/35 [==============================] - 0s 6ms/step - loss: 1.9661 - accuracy: 0.3357 - val_loss: 2.0482 - val_accuracy: 0.3280\n",
            "Epoch 46/50\n",
            "35/35 [==============================] - 0s 6ms/step - loss: 1.9641 - accuracy: 0.3357 - val_loss: 2.0471 - val_accuracy: 0.3280\n",
            "Epoch 47/50\n",
            "35/35 [==============================] - 0s 8ms/step - loss: 1.9623 - accuracy: 0.3357 - val_loss: 2.0457 - val_accuracy: 0.3280\n",
            "Epoch 48/50\n",
            "35/35 [==============================] - 0s 7ms/step - loss: 1.9604 - accuracy: 0.3357 - val_loss: 2.0445 - val_accuracy: 0.3280\n",
            "Epoch 49/50\n",
            "35/35 [==============================] - 0s 7ms/step - loss: 1.9587 - accuracy: 0.3357 - val_loss: 2.0432 - val_accuracy: 0.3280\n",
            "Epoch 50/50\n",
            "35/35 [==============================] - 0s 7ms/step - loss: 1.9571 - accuracy: 0.3357 - val_loss: 2.0423 - val_accuracy: 0.3280\n"
          ]
        },
        {
          "output_type": "execute_result",
          "data": {
            "text/plain": [
              "<keras.callbacks.History at 0x7ff7358ba1a0>"
            ]
          },
          "metadata": {},
          "execution_count": 36
        }
      ]
    },
    {
      "cell_type": "code",
      "source": [
        "loss, non_res_ae_accuracy = classifier.evaluate(encoder.predict(non_res_test_vectors), one_hot_y_test)\n",
        "print('Accuracy: {:.2f}%'.format(non_res_ae_accuracy * 100))"
      ],
      "metadata": {
        "colab": {
          "base_uri": "https://localhost:8080/"
        },
        "id": "Ypu8iQQzoyNV",
        "outputId": "9e398898-1746-400a-fd85-472ecf657457"
      },
      "execution_count": 37,
      "outputs": [
        {
          "output_type": "stream",
          "name": "stdout",
          "text": [
            "12/12 [==============================] - 0s 3ms/step\n",
            "12/12 [==============================] - 0s 3ms/step - loss: 2.0423 - accuracy: 0.3280\n",
            "Accuracy: 32.80%\n"
          ]
        }
      ]
    },
    {
      "cell_type": "markdown",
      "source": [
        "#### 有限制字串長度"
      ],
      "metadata": {
        "id": "UiYw9hlISQpm"
      }
    },
    {
      "cell_type": "code",
      "source": [
        "one_hot_y_train = np.zeros((len(res_y_train), 14))\n",
        "one_hot_y_train[np.arange(len(res_y_train)), res_y_train] = 1\n",
        "\n",
        "one_hot_y_test = np.zeros((len(res_y_test), 14))\n",
        "one_hot_y_test[np.arange(len(res_y_test)), res_y_test] = 1"
      ],
      "metadata": {
        "id": "nxu1HsSC7WsL"
      },
      "execution_count": 38,
      "outputs": []
    },
    {
      "cell_type": "code",
      "source": [
        "autoencoder = Sequential()\n",
        "\n",
        "# Encoder\n",
        "autoencoder.add(Dense(units=256, activation='relu', input_shape=(res_train_vectors.shape[1],)))  # input layer\n",
        "autoencoder.add(Dense(units=128, activation='relu'))  # hidden layer\n",
        "autoencoder.add(Dense(units=64, activation='relu'))  # hidden layer\n",
        "\n",
        "# Decoder\n",
        "autoencoder.add(Dense(units=128, activation='relu'))  # hidden layer\n",
        "autoencoder.add(Dense(units=256, activation='relu'))  # hidden layer\n",
        "autoencoder.add(Dense(units=14, activation='sigmoid'))  # 輸出層\n",
        "\n",
        "autoencoder.compile(optimizer='adam', loss='binary_crossentropy')\n",
        "\n",
        "autoencoder.fit(res_train_vectors, one_hot_y_train, epochs=50, batch_size=32, validation_data=(res_test_vectors, one_hot_y_test))\n",
        "\n",
        "# 根據 hidden layer 的 index 來取得 output\n",
        "encoder = Model(inputs=autoencoder.input, outputs=autoencoder.layers[5].output)\n",
        "encoded_input = Input(shape=(autoencoder.layers[5].output.shape[1],))\n",
        "classifier_output = Dense(units=14, activation='softmax')(encoded_input)\n",
        "\n",
        "classifier = Model(inputs=encoded_input, outputs=classifier_output)\n",
        "classifier.compile(optimizer='adam', loss='categorical_crossentropy', metrics=['accuracy'])\n",
        "\n",
        "# 訓練分類器模型\n",
        "classifier.fit(encoder.predict(res_train_vectors), one_hot_y_train, epochs=50, batch_size=32, validation_data=(encoder.predict(res_test_vectors), one_hot_y_test))"
      ],
      "metadata": {
        "colab": {
          "base_uri": "https://localhost:8080/"
        },
        "id": "U-VgmnGIM36T",
        "outputId": "9ce3c546-6400-4536-dfb1-2e7e50b718a5"
      },
      "execution_count": 39,
      "outputs": [
        {
          "output_type": "stream",
          "name": "stdout",
          "text": [
            "Epoch 1/50\n",
            "23/23 [==============================] - 2s 13ms/step - loss: 0.6061 - val_loss: 0.3352\n",
            "Epoch 2/50\n",
            "23/23 [==============================] - 0s 5ms/step - loss: 0.2394 - val_loss: 0.2089\n",
            "Epoch 3/50\n",
            "23/23 [==============================] - 0s 6ms/step - loss: 0.2039 - val_loss: 0.2049\n",
            "Epoch 4/50\n",
            "23/23 [==============================] - 0s 6ms/step - loss: 0.1998 - val_loss: 0.2043\n",
            "Epoch 5/50\n",
            "23/23 [==============================] - 0s 5ms/step - loss: 0.1991 - val_loss: 0.2044\n",
            "Epoch 6/50\n",
            "23/23 [==============================] - 0s 6ms/step - loss: 0.1995 - val_loss: 0.2036\n",
            "Epoch 7/50\n",
            "23/23 [==============================] - 0s 6ms/step - loss: 0.1990 - val_loss: 0.2042\n",
            "Epoch 8/50\n",
            "23/23 [==============================] - 0s 5ms/step - loss: 0.1998 - val_loss: 0.2033\n",
            "Epoch 9/50\n",
            "23/23 [==============================] - 0s 6ms/step - loss: 0.1989 - val_loss: 0.2037\n",
            "Epoch 10/50\n",
            "23/23 [==============================] - 0s 5ms/step - loss: 0.1989 - val_loss: 0.2041\n",
            "Epoch 11/50\n",
            "23/23 [==============================] - 0s 6ms/step - loss: 0.1995 - val_loss: 0.2037\n",
            "Epoch 12/50\n",
            "23/23 [==============================] - 0s 6ms/step - loss: 0.1994 - val_loss: 0.2048\n",
            "Epoch 13/50\n",
            "23/23 [==============================] - 0s 6ms/step - loss: 0.1989 - val_loss: 0.2036\n",
            "Epoch 14/50\n",
            "23/23 [==============================] - 0s 6ms/step - loss: 0.1992 - val_loss: 0.2037\n",
            "Epoch 15/50\n",
            "23/23 [==============================] - 0s 6ms/step - loss: 0.1989 - val_loss: 0.2036\n",
            "Epoch 16/50\n",
            "23/23 [==============================] - 0s 6ms/step - loss: 0.1989 - val_loss: 0.2038\n",
            "Epoch 17/50\n",
            "23/23 [==============================] - 0s 6ms/step - loss: 0.1992 - val_loss: 0.2038\n",
            "Epoch 18/50\n",
            "23/23 [==============================] - 0s 10ms/step - loss: 0.1995 - val_loss: 0.2043\n",
            "Epoch 19/50\n",
            "23/23 [==============================] - 0s 9ms/step - loss: 0.1987 - val_loss: 0.2040\n",
            "Epoch 20/50\n",
            "23/23 [==============================] - 0s 9ms/step - loss: 0.1990 - val_loss: 0.2037\n",
            "Epoch 21/50\n",
            "23/23 [==============================] - 0s 9ms/step - loss: 0.1986 - val_loss: 0.2032\n",
            "Epoch 22/50\n",
            "23/23 [==============================] - 0s 8ms/step - loss: 0.1990 - val_loss: 0.2041\n",
            "Epoch 23/50\n",
            "23/23 [==============================] - 0s 8ms/step - loss: 0.1986 - val_loss: 0.2036\n",
            "Epoch 24/50\n",
            "23/23 [==============================] - 0s 8ms/step - loss: 0.1988 - val_loss: 0.2039\n",
            "Epoch 25/50\n",
            "23/23 [==============================] - 0s 11ms/step - loss: 0.1988 - val_loss: 0.2036\n",
            "Epoch 26/50\n",
            "23/23 [==============================] - 0s 9ms/step - loss: 0.1987 - val_loss: 0.2036\n",
            "Epoch 27/50\n",
            "23/23 [==============================] - 0s 8ms/step - loss: 0.1989 - val_loss: 0.2035\n",
            "Epoch 28/50\n",
            "23/23 [==============================] - 0s 12ms/step - loss: 0.1986 - val_loss: 0.2035\n",
            "Epoch 29/50\n",
            "23/23 [==============================] - 0s 11ms/step - loss: 0.1988 - val_loss: 0.2035\n",
            "Epoch 30/50\n",
            "23/23 [==============================] - 0s 11ms/step - loss: 0.1984 - val_loss: 0.2032\n",
            "Epoch 31/50\n",
            "23/23 [==============================] - 0s 12ms/step - loss: 0.1991 - val_loss: 0.2052\n",
            "Epoch 32/50\n",
            "23/23 [==============================] - 0s 9ms/step - loss: 0.1991 - val_loss: 0.2040\n",
            "Epoch 33/50\n",
            "23/23 [==============================] - 0s 8ms/step - loss: 0.1988 - val_loss: 0.2041\n",
            "Epoch 34/50\n",
            "23/23 [==============================] - 0s 9ms/step - loss: 0.1983 - val_loss: 0.2038\n",
            "Epoch 35/50\n",
            "23/23 [==============================] - 0s 8ms/step - loss: 0.1985 - val_loss: 0.2032\n",
            "Epoch 36/50\n",
            "23/23 [==============================] - 0s 9ms/step - loss: 0.1983 - val_loss: 0.2034\n",
            "Epoch 37/50\n",
            "23/23 [==============================] - 0s 8ms/step - loss: 0.1983 - val_loss: 0.2035\n",
            "Epoch 38/50\n",
            "23/23 [==============================] - 0s 8ms/step - loss: 0.1984 - val_loss: 0.2041\n",
            "Epoch 39/50\n",
            "23/23 [==============================] - 0s 10ms/step - loss: 0.1992 - val_loss: 0.2048\n",
            "Epoch 40/50\n",
            "23/23 [==============================] - 0s 10ms/step - loss: 0.1987 - val_loss: 0.2041\n",
            "Epoch 41/50\n",
            "23/23 [==============================] - 0s 8ms/step - loss: 0.1993 - val_loss: 0.2034\n",
            "Epoch 42/50\n",
            "23/23 [==============================] - 0s 7ms/step - loss: 0.1985 - val_loss: 0.2043\n",
            "Epoch 43/50\n",
            "23/23 [==============================] - 0s 6ms/step - loss: 0.1990 - val_loss: 0.2042\n",
            "Epoch 44/50\n",
            "23/23 [==============================] - 0s 5ms/step - loss: 0.1987 - val_loss: 0.2035\n",
            "Epoch 45/50\n",
            "23/23 [==============================] - 0s 5ms/step - loss: 0.1987 - val_loss: 0.2037\n",
            "Epoch 46/50\n",
            "23/23 [==============================] - 0s 6ms/step - loss: 0.1990 - val_loss: 0.2034\n",
            "Epoch 47/50\n",
            "23/23 [==============================] - 0s 6ms/step - loss: 0.1985 - val_loss: 0.2032\n",
            "Epoch 48/50\n",
            "23/23 [==============================] - 0s 6ms/step - loss: 0.1985 - val_loss: 0.2037\n",
            "Epoch 49/50\n",
            "23/23 [==============================] - 0s 5ms/step - loss: 0.1981 - val_loss: 0.2037\n",
            "Epoch 50/50\n",
            "23/23 [==============================] - 0s 5ms/step - loss: 0.1981 - val_loss: 0.2032\n",
            "23/23 [==============================] - 0s 2ms/step\n",
            "8/8 [==============================] - 0s 2ms/step\n",
            "Epoch 1/50\n",
            "23/23 [==============================] - 1s 11ms/step - loss: 2.5843 - accuracy: 0.1110 - val_loss: 2.5595 - val_accuracy: 0.1157\n",
            "Epoch 2/50\n",
            "23/23 [==============================] - 0s 4ms/step - loss: 2.5459 - accuracy: 0.1470 - val_loss: 2.5240 - val_accuracy: 0.1818\n",
            "Epoch 3/50\n",
            "23/23 [==============================] - 0s 3ms/step - loss: 2.5097 - accuracy: 0.2788 - val_loss: 2.4902 - val_accuracy: 0.3595\n",
            "Epoch 4/50\n",
            "23/23 [==============================] - 0s 4ms/step - loss: 2.4750 - accuracy: 0.3578 - val_loss: 2.4579 - val_accuracy: 0.3595\n",
            "Epoch 5/50\n",
            "23/23 [==============================] - 0s 5ms/step - loss: 2.4419 - accuracy: 0.3578 - val_loss: 2.4274 - val_accuracy: 0.3595\n",
            "Epoch 6/50\n",
            "23/23 [==============================] - 0s 3ms/step - loss: 2.4105 - accuracy: 0.3578 - val_loss: 2.3983 - val_accuracy: 0.3595\n",
            "Epoch 7/50\n",
            "23/23 [==============================] - 0s 4ms/step - loss: 2.3805 - accuracy: 0.3578 - val_loss: 2.3705 - val_accuracy: 0.3595\n",
            "Epoch 8/50\n",
            "23/23 [==============================] - 0s 3ms/step - loss: 2.3518 - accuracy: 0.3578 - val_loss: 2.3439 - val_accuracy: 0.3595\n",
            "Epoch 9/50\n",
            "23/23 [==============================] - 0s 3ms/step - loss: 2.3241 - accuracy: 0.3578 - val_loss: 2.3194 - val_accuracy: 0.3595\n",
            "Epoch 10/50\n",
            "23/23 [==============================] - 0s 3ms/step - loss: 2.2986 - accuracy: 0.3578 - val_loss: 2.2952 - val_accuracy: 0.3595\n",
            "Epoch 11/50\n",
            "23/23 [==============================] - 0s 4ms/step - loss: 2.2737 - accuracy: 0.3578 - val_loss: 2.2730 - val_accuracy: 0.3595\n",
            "Epoch 12/50\n",
            "23/23 [==============================] - 0s 3ms/step - loss: 2.2505 - accuracy: 0.3578 - val_loss: 2.2517 - val_accuracy: 0.3595\n",
            "Epoch 13/50\n",
            "23/23 [==============================] - 0s 4ms/step - loss: 2.2283 - accuracy: 0.3578 - val_loss: 2.2319 - val_accuracy: 0.3595\n",
            "Epoch 14/50\n",
            "23/23 [==============================] - 0s 3ms/step - loss: 2.2078 - accuracy: 0.3578 - val_loss: 2.2133 - val_accuracy: 0.3595\n",
            "Epoch 15/50\n",
            "23/23 [==============================] - 0s 3ms/step - loss: 2.1882 - accuracy: 0.3578 - val_loss: 2.1958 - val_accuracy: 0.3595\n",
            "Epoch 16/50\n",
            "23/23 [==============================] - 0s 4ms/step - loss: 2.1698 - accuracy: 0.3578 - val_loss: 2.1793 - val_accuracy: 0.3595\n",
            "Epoch 17/50\n",
            "23/23 [==============================] - 0s 4ms/step - loss: 2.1526 - accuracy: 0.3578 - val_loss: 2.1635 - val_accuracy: 0.3595\n",
            "Epoch 18/50\n",
            "23/23 [==============================] - 0s 4ms/step - loss: 2.1361 - accuracy: 0.3578 - val_loss: 2.1496 - val_accuracy: 0.3595\n",
            "Epoch 19/50\n",
            "23/23 [==============================] - 0s 4ms/step - loss: 2.1212 - accuracy: 0.3578 - val_loss: 2.1360 - val_accuracy: 0.3595\n",
            "Epoch 20/50\n",
            "23/23 [==============================] - 0s 3ms/step - loss: 2.1067 - accuracy: 0.3578 - val_loss: 2.1237 - val_accuracy: 0.3595\n",
            "Epoch 21/50\n",
            "23/23 [==============================] - 0s 4ms/step - loss: 2.0937 - accuracy: 0.3578 - val_loss: 2.1124 - val_accuracy: 0.3595\n",
            "Epoch 22/50\n",
            "23/23 [==============================] - 0s 3ms/step - loss: 2.0817 - accuracy: 0.3578 - val_loss: 2.1015 - val_accuracy: 0.3595\n",
            "Epoch 23/50\n",
            "23/23 [==============================] - 0s 3ms/step - loss: 2.0699 - accuracy: 0.3578 - val_loss: 2.0918 - val_accuracy: 0.3595\n",
            "Epoch 24/50\n",
            "23/23 [==============================] - 0s 3ms/step - loss: 2.0595 - accuracy: 0.3578 - val_loss: 2.0827 - val_accuracy: 0.3595\n",
            "Epoch 25/50\n",
            "23/23 [==============================] - 0s 4ms/step - loss: 2.0496 - accuracy: 0.3578 - val_loss: 2.0740 - val_accuracy: 0.3595\n",
            "Epoch 26/50\n",
            "23/23 [==============================] - 0s 4ms/step - loss: 2.0401 - accuracy: 0.3578 - val_loss: 2.0662 - val_accuracy: 0.3595\n",
            "Epoch 27/50\n",
            "23/23 [==============================] - 0s 4ms/step - loss: 2.0317 - accuracy: 0.3578 - val_loss: 2.0590 - val_accuracy: 0.3595\n",
            "Epoch 28/50\n",
            "23/23 [==============================] - 0s 4ms/step - loss: 2.0236 - accuracy: 0.3578 - val_loss: 2.0525 - val_accuracy: 0.3595\n",
            "Epoch 29/50\n",
            "23/23 [==============================] - 0s 4ms/step - loss: 2.0163 - accuracy: 0.3578 - val_loss: 2.0464 - val_accuracy: 0.3595\n",
            "Epoch 30/50\n",
            "23/23 [==============================] - 0s 4ms/step - loss: 2.0095 - accuracy: 0.3578 - val_loss: 2.0406 - val_accuracy: 0.3595\n",
            "Epoch 31/50\n",
            "23/23 [==============================] - 0s 4ms/step - loss: 2.0032 - accuracy: 0.3578 - val_loss: 2.0355 - val_accuracy: 0.3595\n",
            "Epoch 32/50\n",
            "23/23 [==============================] - 0s 3ms/step - loss: 1.9974 - accuracy: 0.3578 - val_loss: 2.0308 - val_accuracy: 0.3595\n",
            "Epoch 33/50\n",
            "23/23 [==============================] - 0s 3ms/step - loss: 1.9920 - accuracy: 0.3578 - val_loss: 2.0263 - val_accuracy: 0.3595\n",
            "Epoch 34/50\n",
            "23/23 [==============================] - 0s 4ms/step - loss: 1.9869 - accuracy: 0.3578 - val_loss: 2.0225 - val_accuracy: 0.3595\n",
            "Epoch 35/50\n",
            "23/23 [==============================] - 0s 3ms/step - loss: 1.9822 - accuracy: 0.3578 - val_loss: 2.0187 - val_accuracy: 0.3595\n",
            "Epoch 36/50\n",
            "23/23 [==============================] - 0s 4ms/step - loss: 1.9778 - accuracy: 0.3578 - val_loss: 2.0156 - val_accuracy: 0.3595\n",
            "Epoch 37/50\n",
            "23/23 [==============================] - 0s 3ms/step - loss: 1.9738 - accuracy: 0.3578 - val_loss: 2.0123 - val_accuracy: 0.3595\n",
            "Epoch 38/50\n",
            "23/23 [==============================] - 0s 3ms/step - loss: 1.9700 - accuracy: 0.3578 - val_loss: 2.0093 - val_accuracy: 0.3595\n",
            "Epoch 39/50\n",
            "23/23 [==============================] - 0s 3ms/step - loss: 1.9665 - accuracy: 0.3578 - val_loss: 2.0066 - val_accuracy: 0.3595\n",
            "Epoch 40/50\n",
            "23/23 [==============================] - 0s 4ms/step - loss: 1.9633 - accuracy: 0.3578 - val_loss: 2.0040 - val_accuracy: 0.3595\n",
            "Epoch 41/50\n",
            "23/23 [==============================] - 0s 3ms/step - loss: 1.9602 - accuracy: 0.3578 - val_loss: 2.0017 - val_accuracy: 0.3595\n",
            "Epoch 42/50\n",
            "23/23 [==============================] - 0s 4ms/step - loss: 1.9574 - accuracy: 0.3578 - val_loss: 1.9997 - val_accuracy: 0.3595\n",
            "Epoch 43/50\n",
            "23/23 [==============================] - 0s 3ms/step - loss: 1.9547 - accuracy: 0.3578 - val_loss: 1.9978 - val_accuracy: 0.3595\n",
            "Epoch 44/50\n",
            "23/23 [==============================] - 0s 4ms/step - loss: 1.9524 - accuracy: 0.3578 - val_loss: 1.9960 - val_accuracy: 0.3595\n",
            "Epoch 45/50\n",
            "23/23 [==============================] - 0s 4ms/step - loss: 1.9501 - accuracy: 0.3578 - val_loss: 1.9944 - val_accuracy: 0.3595\n",
            "Epoch 46/50\n",
            "23/23 [==============================] - 0s 4ms/step - loss: 1.9480 - accuracy: 0.3578 - val_loss: 1.9929 - val_accuracy: 0.3595\n",
            "Epoch 47/50\n",
            "23/23 [==============================] - 0s 3ms/step - loss: 1.9460 - accuracy: 0.3578 - val_loss: 1.9914 - val_accuracy: 0.3595\n",
            "Epoch 48/50\n",
            "23/23 [==============================] - 0s 4ms/step - loss: 1.9441 - accuracy: 0.3578 - val_loss: 1.9901 - val_accuracy: 0.3595\n",
            "Epoch 49/50\n",
            "23/23 [==============================] - 0s 3ms/step - loss: 1.9422 - accuracy: 0.3578 - val_loss: 1.9890 - val_accuracy: 0.3595\n",
            "Epoch 50/50\n",
            "23/23 [==============================] - 0s 4ms/step - loss: 1.9405 - accuracy: 0.3578 - val_loss: 1.9877 - val_accuracy: 0.3595\n"
          ]
        },
        {
          "output_type": "execute_result",
          "data": {
            "text/plain": [
              "<keras.callbacks.History at 0x7ff7356d0e20>"
            ]
          },
          "metadata": {},
          "execution_count": 39
        }
      ]
    },
    {
      "cell_type": "code",
      "source": [
        "loss, res_ae_accuracy = classifier.evaluate(encoder.predict(res_test_vectors), one_hot_y_test)\n",
        "print('Accuracy: {:.2f}%'.format(res_ae_accuracy * 100))"
      ],
      "metadata": {
        "colab": {
          "base_uri": "https://localhost:8080/"
        },
        "id": "ao0r18iuSVn5",
        "outputId": "080c4e59-13cc-4381-dedd-b4edbdb987f3"
      },
      "execution_count": 40,
      "outputs": [
        {
          "output_type": "stream",
          "name": "stdout",
          "text": [
            "8/8 [==============================] - 0s 2ms/step\n",
            "8/8 [==============================] - 0s 2ms/step - loss: 1.9877 - accuracy: 0.3595\n",
            "Accuracy: 35.95%\n"
          ]
        }
      ]
    },
    {
      "cell_type": "markdown",
      "source": [
        "## Accuracy Comparison"
      ],
      "metadata": {
        "id": "5lKUhBIKV1ZI"
      }
    },
    {
      "cell_type": "code",
      "source": [
        "import matplotlib.pyplot as plt\n",
        "\n",
        "labels = ['Tfidf + SVM', 'Tfidf + RF', 'Non-Res SVM', 'Res SVM', 'Non-Res CNN', 'Res CNN', 'Non-Res AE', 'Res AE']\n",
        "values = [tf_svm_test_accuracy, tf_rf_test_accuracy, non_res_svm_accuracy, res_svm_accuracy, non_res_cnn_accuracy[1], res_cnn_accuracy[1], non_res_ae_accuracy, res_ae_accuracy]\n",
        "\n",
        "plt.bar(labels, values)\n",
        "\n",
        "plt.xticks(rotation=45)\n",
        "plt.title('Accuracy Comparison')\n",
        "plt.xlabel('Models')\n",
        "plt.ylabel('Accuracy')\n",
        "\n",
        "plt.show()"
      ],
      "metadata": {
        "colab": {
          "base_uri": "https://localhost:8080/",
          "height": 533
        },
        "id": "aA7DKzTHWPfY",
        "outputId": "a84efe2e-8c66-43ac-b380-91723d488088"
      },
      "execution_count": 41,
      "outputs": [
        {
          "output_type": "display_data",
          "data": {
            "text/plain": [
              "<Figure size 640x480 with 1 Axes>"
            ],
            "image/png": "[encoded data removed]"
          },
          "metadata": {}
        }
      ]
    }
  ]
}